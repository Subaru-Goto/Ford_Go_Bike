{
 "cells": [
  {
   "cell_type": "markdown",
   "metadata": {},
   "source": [
    "## Ford_Gobike_Systems\n",
    "## by Subaru Goto\n",
    "\n",
    "## Preliminary Wrangling\n",
    "\n",
    "> This data set includes information about individual rides made in a bike-sharing system covering the greater San Francisco Bay area. This service has started since June 2017. Therefore, there is data from June 2017 to December 2018. The data set can be downloaded from https://www.fordgobike.com/system-data ."
   ]
  },
  {
   "cell_type": "code",
   "execution_count": 181,
   "metadata": {},
   "outputs": [],
   "source": [
    "# import modules\n",
    "import pandas as pd\n",
    "import numpy as np\n",
    "import matplotlib.pyplot as plt\n",
    "import seaborn as sns\n",
    "import glob\n",
    "\n",
    "sns.set_style(\"whitegrid\")\n",
    "%matplotlib inline"
   ]
  },
  {
   "cell_type": "code",
   "execution_count": 182,
   "metadata": {
    "scrolled": false
   },
   "outputs": [],
   "source": [
    "# open several zip files\n",
    "# http://cracktechinterviews.com/Article.aspx?BlogID=21&Title=How-to-import-multiple-files-into-Pandas-data-frame-efficiently?\n",
    "# get all the zip files\n",
    "zip_files = glob.glob('2018*-fordgobike-tripdata.csv.zip')\n",
    "# initialize the list for data frame\n",
    "file_lists = []\n",
    "\n",
    "for file in zip_files:\n",
    "    \n",
    "    data = pd.read_csv(file, header = 0, sep = \",\")\n",
    "    file_lists.append(data)\n",
    "\n",
    "# merge\n",
    "df_2018 = pd.concat(file_lists, ignore_index = True)"
   ]
  },
  {
   "cell_type": "code",
   "execution_count": 183,
   "metadata": {
    "scrolled": false
   },
   "outputs": [
    {
     "data": {
      "text/html": [
       "<div>\n",
       "<style scoped>\n",
       "    .dataframe tbody tr th:only-of-type {\n",
       "        vertical-align: middle;\n",
       "    }\n",
       "\n",
       "    .dataframe tbody tr th {\n",
       "        vertical-align: top;\n",
       "    }\n",
       "\n",
       "    .dataframe thead th {\n",
       "        text-align: right;\n",
       "    }\n",
       "</style>\n",
       "<table border=\"1\" class=\"dataframe\">\n",
       "  <thead>\n",
       "    <tr style=\"text-align: right;\">\n",
       "      <th></th>\n",
       "      <th>duration_sec</th>\n",
       "      <th>start_time</th>\n",
       "      <th>end_time</th>\n",
       "      <th>start_station_id</th>\n",
       "      <th>start_station_name</th>\n",
       "      <th>start_station_latitude</th>\n",
       "      <th>start_station_longitude</th>\n",
       "      <th>end_station_id</th>\n",
       "      <th>end_station_name</th>\n",
       "      <th>end_station_latitude</th>\n",
       "      <th>end_station_longitude</th>\n",
       "      <th>bike_id</th>\n",
       "      <th>user_type</th>\n",
       "      <th>member_birth_year</th>\n",
       "      <th>member_gender</th>\n",
       "      <th>bike_share_for_all_trip</th>\n",
       "    </tr>\n",
       "  </thead>\n",
       "  <tbody>\n",
       "    <tr>\n",
       "      <th>1863716</th>\n",
       "      <td>473</td>\n",
       "      <td>2018-12-01 00:11:54.8110</td>\n",
       "      <td>2018-12-01 00:19:48.5470</td>\n",
       "      <td>345.0</td>\n",
       "      <td>Hubbell St at 16th St</td>\n",
       "      <td>37.766474</td>\n",
       "      <td>-122.398295</td>\n",
       "      <td>81.0</td>\n",
       "      <td>Berry St at 4th St</td>\n",
       "      <td>37.775880</td>\n",
       "      <td>-122.393170</td>\n",
       "      <td>3035</td>\n",
       "      <td>Subscriber</td>\n",
       "      <td>1982.0</td>\n",
       "      <td>Female</td>\n",
       "      <td>No</td>\n",
       "    </tr>\n",
       "    <tr>\n",
       "      <th>1863717</th>\n",
       "      <td>841</td>\n",
       "      <td>2018-12-01 00:02:48.7260</td>\n",
       "      <td>2018-12-01 00:16:49.7660</td>\n",
       "      <td>10.0</td>\n",
       "      <td>Washington St at Kearny St</td>\n",
       "      <td>37.795393</td>\n",
       "      <td>-122.404770</td>\n",
       "      <td>58.0</td>\n",
       "      <td>Market St at 10th St</td>\n",
       "      <td>37.776619</td>\n",
       "      <td>-122.417385</td>\n",
       "      <td>2034</td>\n",
       "      <td>Subscriber</td>\n",
       "      <td>1999.0</td>\n",
       "      <td>Female</td>\n",
       "      <td>No</td>\n",
       "    </tr>\n",
       "    <tr>\n",
       "      <th>1863718</th>\n",
       "      <td>260</td>\n",
       "      <td>2018-12-01 00:05:27.6150</td>\n",
       "      <td>2018-12-01 00:09:47.9560</td>\n",
       "      <td>245.0</td>\n",
       "      <td>Downtown Berkeley BART</td>\n",
       "      <td>37.870139</td>\n",
       "      <td>-122.268422</td>\n",
       "      <td>255.0</td>\n",
       "      <td>Virginia St at Shattuck Ave</td>\n",
       "      <td>37.876573</td>\n",
       "      <td>-122.269528</td>\n",
       "      <td>2243</td>\n",
       "      <td>Subscriber</td>\n",
       "      <td>1991.0</td>\n",
       "      <td>Male</td>\n",
       "      <td>No</td>\n",
       "    </tr>\n",
       "    <tr>\n",
       "      <th>1863719</th>\n",
       "      <td>292</td>\n",
       "      <td>2018-12-01 00:03:06.5490</td>\n",
       "      <td>2018-12-01 00:07:59.0800</td>\n",
       "      <td>93.0</td>\n",
       "      <td>4th St at Mission Bay Blvd S</td>\n",
       "      <td>37.770407</td>\n",
       "      <td>-122.391198</td>\n",
       "      <td>126.0</td>\n",
       "      <td>Esprit Park</td>\n",
       "      <td>37.761634</td>\n",
       "      <td>-122.390648</td>\n",
       "      <td>545</td>\n",
       "      <td>Subscriber</td>\n",
       "      <td>1963.0</td>\n",
       "      <td>Male</td>\n",
       "      <td>No</td>\n",
       "    </tr>\n",
       "    <tr>\n",
       "      <th>1863720</th>\n",
       "      <td>150</td>\n",
       "      <td>2018-12-01 00:03:05.7420</td>\n",
       "      <td>2018-12-01 00:05:36.0260</td>\n",
       "      <td>107.0</td>\n",
       "      <td>17th St at Dolores St</td>\n",
       "      <td>37.763015</td>\n",
       "      <td>-122.426497</td>\n",
       "      <td>119.0</td>\n",
       "      <td>18th St at Noe St</td>\n",
       "      <td>37.761047</td>\n",
       "      <td>-122.432642</td>\n",
       "      <td>4319</td>\n",
       "      <td>Subscriber</td>\n",
       "      <td>NaN</td>\n",
       "      <td>NaN</td>\n",
       "      <td>No</td>\n",
       "    </tr>\n",
       "  </tbody>\n",
       "</table>\n",
       "</div>"
      ],
      "text/plain": [
       "         duration_sec                start_time                  end_time  \\\n",
       "1863716           473  2018-12-01 00:11:54.8110  2018-12-01 00:19:48.5470   \n",
       "1863717           841  2018-12-01 00:02:48.7260  2018-12-01 00:16:49.7660   \n",
       "1863718           260  2018-12-01 00:05:27.6150  2018-12-01 00:09:47.9560   \n",
       "1863719           292  2018-12-01 00:03:06.5490  2018-12-01 00:07:59.0800   \n",
       "1863720           150  2018-12-01 00:03:05.7420  2018-12-01 00:05:36.0260   \n",
       "\n",
       "         start_station_id            start_station_name  \\\n",
       "1863716             345.0         Hubbell St at 16th St   \n",
       "1863717              10.0    Washington St at Kearny St   \n",
       "1863718             245.0        Downtown Berkeley BART   \n",
       "1863719              93.0  4th St at Mission Bay Blvd S   \n",
       "1863720             107.0         17th St at Dolores St   \n",
       "\n",
       "         start_station_latitude  start_station_longitude  end_station_id  \\\n",
       "1863716               37.766474              -122.398295            81.0   \n",
       "1863717               37.795393              -122.404770            58.0   \n",
       "1863718               37.870139              -122.268422           255.0   \n",
       "1863719               37.770407              -122.391198           126.0   \n",
       "1863720               37.763015              -122.426497           119.0   \n",
       "\n",
       "                    end_station_name  end_station_latitude  \\\n",
       "1863716           Berry St at 4th St             37.775880   \n",
       "1863717         Market St at 10th St             37.776619   \n",
       "1863718  Virginia St at Shattuck Ave             37.876573   \n",
       "1863719                  Esprit Park             37.761634   \n",
       "1863720            18th St at Noe St             37.761047   \n",
       "\n",
       "         end_station_longitude  bike_id   user_type  member_birth_year  \\\n",
       "1863716            -122.393170     3035  Subscriber             1982.0   \n",
       "1863717            -122.417385     2034  Subscriber             1999.0   \n",
       "1863718            -122.269528     2243  Subscriber             1991.0   \n",
       "1863719            -122.390648      545  Subscriber             1963.0   \n",
       "1863720            -122.432642     4319  Subscriber                NaN   \n",
       "\n",
       "        member_gender bike_share_for_all_trip  \n",
       "1863716        Female                      No  \n",
       "1863717        Female                      No  \n",
       "1863718          Male                      No  \n",
       "1863719          Male                      No  \n",
       "1863720           NaN                      No  "
      ]
     },
     "execution_count": 183,
     "metadata": {},
     "output_type": "execute_result"
    }
   ],
   "source": [
    "# check df\n",
    "df_2018.tail()"
   ]
  },
  {
   "cell_type": "code",
   "execution_count": 184,
   "metadata": {
    "scrolled": true
   },
   "outputs": [
    {
     "name": "stdout",
     "output_type": "stream",
     "text": [
      "<class 'pandas.core.frame.DataFrame'>\n",
      "RangeIndex: 1863721 entries, 0 to 1863720\n",
      "Data columns (total 16 columns):\n",
      "duration_sec               int64\n",
      "start_time                 object\n",
      "end_time                   object\n",
      "start_station_id           float64\n",
      "start_station_name         object\n",
      "start_station_latitude     float64\n",
      "start_station_longitude    float64\n",
      "end_station_id             float64\n",
      "end_station_name           object\n",
      "end_station_latitude       float64\n",
      "end_station_longitude      float64\n",
      "bike_id                    int64\n",
      "user_type                  object\n",
      "member_birth_year          float64\n",
      "member_gender              object\n",
      "bike_share_for_all_trip    object\n",
      "dtypes: float64(7), int64(2), object(7)\n",
      "memory usage: 227.5+ MB\n"
     ]
    }
   ],
   "source": [
    "# check info\n",
    "df_2018.info()"
   ]
  },
  {
   "cell_type": "code",
   "execution_count": 185,
   "metadata": {
    "scrolled": true
   },
   "outputs": [
    {
     "data": {
      "text/plain": [
       "duration_sec               0.000000\n",
       "start_time                 0.000000\n",
       "end_time                   0.000000\n",
       "start_station_id           0.006316\n",
       "start_station_name         0.006316\n",
       "start_station_latitude     0.000000\n",
       "start_station_longitude    0.000000\n",
       "end_station_id             0.006316\n",
       "end_station_name           0.006316\n",
       "end_station_latitude       0.000000\n",
       "end_station_longitude      0.000000\n",
       "bike_id                    0.000000\n",
       "user_type                  0.000000\n",
       "member_birth_year          0.059407\n",
       "member_gender              0.059219\n",
       "bike_share_for_all_trip    0.000000\n",
       "dtype: float64"
      ]
     },
     "execution_count": 185,
     "metadata": {},
     "output_type": "execute_result"
    }
   ],
   "source": [
    "# check na\n",
    "df_2018.isna().sum() / df_2018.shape[0]"
   ]
  },
  {
   "cell_type": "code",
   "execution_count": 186,
   "metadata": {},
   "outputs": [
    {
     "data": {
      "text/html": [
       "<div>\n",
       "<style scoped>\n",
       "    .dataframe tbody tr th:only-of-type {\n",
       "        vertical-align: middle;\n",
       "    }\n",
       "\n",
       "    .dataframe tbody tr th {\n",
       "        vertical-align: top;\n",
       "    }\n",
       "\n",
       "    .dataframe thead th {\n",
       "        text-align: right;\n",
       "    }\n",
       "</style>\n",
       "<table border=\"1\" class=\"dataframe\">\n",
       "  <thead>\n",
       "    <tr style=\"text-align: right;\">\n",
       "      <th></th>\n",
       "      <th>duration_sec</th>\n",
       "      <th>start_station_id</th>\n",
       "      <th>start_station_latitude</th>\n",
       "      <th>start_station_longitude</th>\n",
       "      <th>end_station_id</th>\n",
       "      <th>end_station_latitude</th>\n",
       "      <th>end_station_longitude</th>\n",
       "      <th>bike_id</th>\n",
       "      <th>member_birth_year</th>\n",
       "    </tr>\n",
       "  </thead>\n",
       "  <tbody>\n",
       "    <tr>\n",
       "      <th>count</th>\n",
       "      <td>1.863721e+06</td>\n",
       "      <td>1.851950e+06</td>\n",
       "      <td>1.863721e+06</td>\n",
       "      <td>1.863721e+06</td>\n",
       "      <td>1.851950e+06</td>\n",
       "      <td>1.863721e+06</td>\n",
       "      <td>1.863721e+06</td>\n",
       "      <td>1.863721e+06</td>\n",
       "      <td>1.753003e+06</td>\n",
       "    </tr>\n",
       "    <tr>\n",
       "      <th>mean</th>\n",
       "      <td>8.573026e+02</td>\n",
       "      <td>1.196744e+02</td>\n",
       "      <td>3.776678e+01</td>\n",
       "      <td>-1.223492e+02</td>\n",
       "      <td>1.181730e+02</td>\n",
       "      <td>3.776690e+01</td>\n",
       "      <td>-1.223487e+02</td>\n",
       "      <td>2.296851e+03</td>\n",
       "      <td>1.983088e+03</td>\n",
       "    </tr>\n",
       "    <tr>\n",
       "      <th>std</th>\n",
       "      <td>2.370379e+03</td>\n",
       "      <td>1.003976e+02</td>\n",
       "      <td>1.057689e-01</td>\n",
       "      <td>1.654634e-01</td>\n",
       "      <td>1.004403e+02</td>\n",
       "      <td>1.056483e-01</td>\n",
       "      <td>1.650597e-01</td>\n",
       "      <td>1.287733e+03</td>\n",
       "      <td>1.044289e+01</td>\n",
       "    </tr>\n",
       "    <tr>\n",
       "      <th>min</th>\n",
       "      <td>6.100000e+01</td>\n",
       "      <td>3.000000e+00</td>\n",
       "      <td>3.726331e+01</td>\n",
       "      <td>-1.224737e+02</td>\n",
       "      <td>3.000000e+00</td>\n",
       "      <td>3.726331e+01</td>\n",
       "      <td>-1.224737e+02</td>\n",
       "      <td>1.100000e+01</td>\n",
       "      <td>1.881000e+03</td>\n",
       "    </tr>\n",
       "    <tr>\n",
       "      <th>25%</th>\n",
       "      <td>3.500000e+02</td>\n",
       "      <td>3.300000e+01</td>\n",
       "      <td>3.777106e+01</td>\n",
       "      <td>-1.224114e+02</td>\n",
       "      <td>3.000000e+01</td>\n",
       "      <td>3.777106e+01</td>\n",
       "      <td>-1.224094e+02</td>\n",
       "      <td>1.225000e+03</td>\n",
       "      <td>1.978000e+03</td>\n",
       "    </tr>\n",
       "    <tr>\n",
       "      <th>50%</th>\n",
       "      <td>5.560000e+02</td>\n",
       "      <td>8.900000e+01</td>\n",
       "      <td>3.778107e+01</td>\n",
       "      <td>-1.223974e+02</td>\n",
       "      <td>8.800000e+01</td>\n",
       "      <td>3.778127e+01</td>\n",
       "      <td>-1.223971e+02</td>\n",
       "      <td>2.338000e+03</td>\n",
       "      <td>1.985000e+03</td>\n",
       "    </tr>\n",
       "    <tr>\n",
       "      <th>75%</th>\n",
       "      <td>8.720000e+02</td>\n",
       "      <td>1.860000e+02</td>\n",
       "      <td>3.779625e+01</td>\n",
       "      <td>-1.222865e+02</td>\n",
       "      <td>1.830000e+02</td>\n",
       "      <td>3.779728e+01</td>\n",
       "      <td>-1.222894e+02</td>\n",
       "      <td>3.333000e+03</td>\n",
       "      <td>1.991000e+03</td>\n",
       "    </tr>\n",
       "    <tr>\n",
       "      <th>max</th>\n",
       "      <td>8.636600e+04</td>\n",
       "      <td>3.810000e+02</td>\n",
       "      <td>4.551000e+01</td>\n",
       "      <td>-7.357000e+01</td>\n",
       "      <td>3.810000e+02</td>\n",
       "      <td>4.551000e+01</td>\n",
       "      <td>-7.357000e+01</td>\n",
       "      <td>6.234000e+03</td>\n",
       "      <td>2.000000e+03</td>\n",
       "    </tr>\n",
       "  </tbody>\n",
       "</table>\n",
       "</div>"
      ],
      "text/plain": [
       "       duration_sec  start_station_id  start_station_latitude  \\\n",
       "count  1.863721e+06      1.851950e+06            1.863721e+06   \n",
       "mean   8.573026e+02      1.196744e+02            3.776678e+01   \n",
       "std    2.370379e+03      1.003976e+02            1.057689e-01   \n",
       "min    6.100000e+01      3.000000e+00            3.726331e+01   \n",
       "25%    3.500000e+02      3.300000e+01            3.777106e+01   \n",
       "50%    5.560000e+02      8.900000e+01            3.778107e+01   \n",
       "75%    8.720000e+02      1.860000e+02            3.779625e+01   \n",
       "max    8.636600e+04      3.810000e+02            4.551000e+01   \n",
       "\n",
       "       start_station_longitude  end_station_id  end_station_latitude  \\\n",
       "count             1.863721e+06    1.851950e+06          1.863721e+06   \n",
       "mean             -1.223492e+02    1.181730e+02          3.776690e+01   \n",
       "std               1.654634e-01    1.004403e+02          1.056483e-01   \n",
       "min              -1.224737e+02    3.000000e+00          3.726331e+01   \n",
       "25%              -1.224114e+02    3.000000e+01          3.777106e+01   \n",
       "50%              -1.223974e+02    8.800000e+01          3.778127e+01   \n",
       "75%              -1.222865e+02    1.830000e+02          3.779728e+01   \n",
       "max              -7.357000e+01    3.810000e+02          4.551000e+01   \n",
       "\n",
       "       end_station_longitude       bike_id  member_birth_year  \n",
       "count           1.863721e+06  1.863721e+06       1.753003e+06  \n",
       "mean           -1.223487e+02  2.296851e+03       1.983088e+03  \n",
       "std             1.650597e-01  1.287733e+03       1.044289e+01  \n",
       "min            -1.224737e+02  1.100000e+01       1.881000e+03  \n",
       "25%            -1.224094e+02  1.225000e+03       1.978000e+03  \n",
       "50%            -1.223971e+02  2.338000e+03       1.985000e+03  \n",
       "75%            -1.222894e+02  3.333000e+03       1.991000e+03  \n",
       "max            -7.357000e+01  6.234000e+03       2.000000e+03  "
      ]
     },
     "execution_count": 186,
     "metadata": {},
     "output_type": "execute_result"
    }
   ],
   "source": [
    "# check summary statistics\n",
    "df_2018.describe()"
   ]
  },
  {
   "cell_type": "code",
   "execution_count": 187,
   "metadata": {},
   "outputs": [],
   "source": [
    "# load 2017 data into data frames\n",
    "df_2017 = pd.read_csv(\"2017-fordgobike-tripdata.csv\")"
   ]
  },
  {
   "cell_type": "code",
   "execution_count": 188,
   "metadata": {
    "scrolled": true
   },
   "outputs": [
    {
     "data": {
      "text/html": [
       "<div>\n",
       "<style scoped>\n",
       "    .dataframe tbody tr th:only-of-type {\n",
       "        vertical-align: middle;\n",
       "    }\n",
       "\n",
       "    .dataframe tbody tr th {\n",
       "        vertical-align: top;\n",
       "    }\n",
       "\n",
       "    .dataframe thead th {\n",
       "        text-align: right;\n",
       "    }\n",
       "</style>\n",
       "<table border=\"1\" class=\"dataframe\">\n",
       "  <thead>\n",
       "    <tr style=\"text-align: right;\">\n",
       "      <th></th>\n",
       "      <th>duration_sec</th>\n",
       "      <th>start_time</th>\n",
       "      <th>end_time</th>\n",
       "      <th>start_station_id</th>\n",
       "      <th>start_station_name</th>\n",
       "      <th>start_station_latitude</th>\n",
       "      <th>start_station_longitude</th>\n",
       "      <th>end_station_id</th>\n",
       "      <th>end_station_name</th>\n",
       "      <th>end_station_latitude</th>\n",
       "      <th>end_station_longitude</th>\n",
       "      <th>bike_id</th>\n",
       "      <th>user_type</th>\n",
       "      <th>member_birth_year</th>\n",
       "      <th>member_gender</th>\n",
       "    </tr>\n",
       "  </thead>\n",
       "  <tbody>\n",
       "    <tr>\n",
       "      <th>0</th>\n",
       "      <td>80110</td>\n",
       "      <td>2017-12-31 16:57:39.6540</td>\n",
       "      <td>2018-01-01 15:12:50.2450</td>\n",
       "      <td>74</td>\n",
       "      <td>Laguna St at Hayes St</td>\n",
       "      <td>37.776435</td>\n",
       "      <td>-122.426244</td>\n",
       "      <td>43</td>\n",
       "      <td>San Francisco Public Library (Grove St at Hyde...</td>\n",
       "      <td>37.778768</td>\n",
       "      <td>-122.415929</td>\n",
       "      <td>96</td>\n",
       "      <td>Customer</td>\n",
       "      <td>1987.0</td>\n",
       "      <td>Male</td>\n",
       "    </tr>\n",
       "    <tr>\n",
       "      <th>1</th>\n",
       "      <td>78800</td>\n",
       "      <td>2017-12-31 15:56:34.8420</td>\n",
       "      <td>2018-01-01 13:49:55.6170</td>\n",
       "      <td>284</td>\n",
       "      <td>Yerba Buena Center for the Arts (Howard St at ...</td>\n",
       "      <td>37.784872</td>\n",
       "      <td>-122.400876</td>\n",
       "      <td>96</td>\n",
       "      <td>Dolores St at 15th St</td>\n",
       "      <td>37.766210</td>\n",
       "      <td>-122.426614</td>\n",
       "      <td>88</td>\n",
       "      <td>Customer</td>\n",
       "      <td>1965.0</td>\n",
       "      <td>Female</td>\n",
       "    </tr>\n",
       "    <tr>\n",
       "      <th>2</th>\n",
       "      <td>45768</td>\n",
       "      <td>2017-12-31 22:45:48.4110</td>\n",
       "      <td>2018-01-01 11:28:36.8830</td>\n",
       "      <td>245</td>\n",
       "      <td>Downtown Berkeley BART</td>\n",
       "      <td>37.870348</td>\n",
       "      <td>-122.267764</td>\n",
       "      <td>245</td>\n",
       "      <td>Downtown Berkeley BART</td>\n",
       "      <td>37.870348</td>\n",
       "      <td>-122.267764</td>\n",
       "      <td>1094</td>\n",
       "      <td>Customer</td>\n",
       "      <td>NaN</td>\n",
       "      <td>NaN</td>\n",
       "    </tr>\n",
       "    <tr>\n",
       "      <th>3</th>\n",
       "      <td>62172</td>\n",
       "      <td>2017-12-31 17:31:10.6360</td>\n",
       "      <td>2018-01-01 10:47:23.5310</td>\n",
       "      <td>60</td>\n",
       "      <td>8th St at Ringold St</td>\n",
       "      <td>37.774520</td>\n",
       "      <td>-122.409449</td>\n",
       "      <td>5</td>\n",
       "      <td>Powell St BART Station (Market St at 5th St)</td>\n",
       "      <td>37.783899</td>\n",
       "      <td>-122.408445</td>\n",
       "      <td>2831</td>\n",
       "      <td>Customer</td>\n",
       "      <td>NaN</td>\n",
       "      <td>NaN</td>\n",
       "    </tr>\n",
       "    <tr>\n",
       "      <th>4</th>\n",
       "      <td>43603</td>\n",
       "      <td>2017-12-31 14:23:14.0010</td>\n",
       "      <td>2018-01-01 02:29:57.5710</td>\n",
       "      <td>239</td>\n",
       "      <td>Bancroft Way at Telegraph Ave</td>\n",
       "      <td>37.868813</td>\n",
       "      <td>-122.258764</td>\n",
       "      <td>247</td>\n",
       "      <td>Fulton St at Bancroft Way</td>\n",
       "      <td>37.867789</td>\n",
       "      <td>-122.265896</td>\n",
       "      <td>3167</td>\n",
       "      <td>Subscriber</td>\n",
       "      <td>1997.0</td>\n",
       "      <td>Female</td>\n",
       "    </tr>\n",
       "  </tbody>\n",
       "</table>\n",
       "</div>"
      ],
      "text/plain": [
       "   duration_sec                start_time                  end_time  \\\n",
       "0         80110  2017-12-31 16:57:39.6540  2018-01-01 15:12:50.2450   \n",
       "1         78800  2017-12-31 15:56:34.8420  2018-01-01 13:49:55.6170   \n",
       "2         45768  2017-12-31 22:45:48.4110  2018-01-01 11:28:36.8830   \n",
       "3         62172  2017-12-31 17:31:10.6360  2018-01-01 10:47:23.5310   \n",
       "4         43603  2017-12-31 14:23:14.0010  2018-01-01 02:29:57.5710   \n",
       "\n",
       "   start_station_id                                 start_station_name  \\\n",
       "0                74                              Laguna St at Hayes St   \n",
       "1               284  Yerba Buena Center for the Arts (Howard St at ...   \n",
       "2               245                             Downtown Berkeley BART   \n",
       "3                60                               8th St at Ringold St   \n",
       "4               239                      Bancroft Way at Telegraph Ave   \n",
       "\n",
       "   start_station_latitude  start_station_longitude  end_station_id  \\\n",
       "0               37.776435              -122.426244              43   \n",
       "1               37.784872              -122.400876              96   \n",
       "2               37.870348              -122.267764             245   \n",
       "3               37.774520              -122.409449               5   \n",
       "4               37.868813              -122.258764             247   \n",
       "\n",
       "                                    end_station_name  end_station_latitude  \\\n",
       "0  San Francisco Public Library (Grove St at Hyde...             37.778768   \n",
       "1                              Dolores St at 15th St             37.766210   \n",
       "2                             Downtown Berkeley BART             37.870348   \n",
       "3       Powell St BART Station (Market St at 5th St)             37.783899   \n",
       "4                          Fulton St at Bancroft Way             37.867789   \n",
       "\n",
       "   end_station_longitude  bike_id   user_type  member_birth_year member_gender  \n",
       "0            -122.415929       96    Customer             1987.0          Male  \n",
       "1            -122.426614       88    Customer             1965.0        Female  \n",
       "2            -122.267764     1094    Customer                NaN           NaN  \n",
       "3            -122.408445     2831    Customer                NaN           NaN  \n",
       "4            -122.265896     3167  Subscriber             1997.0        Female  "
      ]
     },
     "execution_count": 188,
     "metadata": {},
     "output_type": "execute_result"
    }
   ],
   "source": [
    "# check head\n",
    "df_2017.head()"
   ]
  },
  {
   "cell_type": "code",
   "execution_count": 189,
   "metadata": {
    "scrolled": true
   },
   "outputs": [
    {
     "data": {
      "text/plain": [
       "duration_sec               0.000000\n",
       "start_time                 0.000000\n",
       "end_time                   0.000000\n",
       "start_station_id           0.000000\n",
       "start_station_name         0.000000\n",
       "start_station_latitude     0.000000\n",
       "start_station_longitude    0.000000\n",
       "end_station_id             0.000000\n",
       "end_station_name           0.000000\n",
       "end_station_latitude       0.000000\n",
       "end_station_longitude      0.000000\n",
       "bike_id                    0.000000\n",
       "user_type                  0.000000\n",
       "member_birth_year          0.128037\n",
       "member_gender              0.127885\n",
       "dtype: float64"
      ]
     },
     "execution_count": 189,
     "metadata": {},
     "output_type": "execute_result"
    }
   ],
   "source": [
    "# check na\n",
    "df_2017.isna().sum() / df_2017.shape[0]"
   ]
  },
  {
   "cell_type": "code",
   "execution_count": 190,
   "metadata": {},
   "outputs": [
    {
     "name": "stdout",
     "output_type": "stream",
     "text": [
      "(1863721, 16)\n",
      "(519700, 15)\n"
     ]
    }
   ],
   "source": [
    "# check shape\n",
    "print(df_2018.shape)\n",
    "print(df_2017.shape)"
   ]
  },
  {
   "cell_type": "code",
   "execution_count": 191,
   "metadata": {},
   "outputs": [
    {
     "data": {
      "text/plain": [
       "Index(['duration_sec', 'start_time', 'end_time', 'start_station_id',\n",
       "       'start_station_name', 'start_station_latitude',\n",
       "       'start_station_longitude', 'end_station_id', 'end_station_name',\n",
       "       'end_station_latitude', 'end_station_longitude', 'bike_id', 'user_type',\n",
       "       'member_birth_year', 'member_gender', 'bike_share_for_all_trip'],\n",
       "      dtype='object')"
      ]
     },
     "execution_count": 191,
     "metadata": {},
     "output_type": "execute_result"
    }
   ],
   "source": [
    "# check columns name\n",
    "df_2018.columns"
   ]
  },
  {
   "cell_type": "code",
   "execution_count": 192,
   "metadata": {},
   "outputs": [
    {
     "data": {
      "text/plain": [
       "Index(['duration_sec', 'start_time', 'end_time', 'start_station_id',\n",
       "       'start_station_name', 'start_station_latitude',\n",
       "       'start_station_longitude', 'end_station_id', 'end_station_name',\n",
       "       'end_station_latitude', 'end_station_longitude', 'bike_id', 'user_type',\n",
       "       'member_birth_year', 'member_gender'],\n",
       "      dtype='object')"
      ]
     },
     "execution_count": 192,
     "metadata": {},
     "output_type": "execute_result"
    }
   ],
   "source": [
    "# # check columns name\n",
    "df_2017.columns"
   ]
  },
  {
   "cell_type": "markdown",
   "metadata": {},
   "source": [
    "## What is the structure of your dataset?\n",
    "\n",
    "> Adding the both data sets, there are 2383421 observations in total. A number of columns is 16 for the 2018 data set and 15 for the 2017 data set. Before we start analyzing data, data cleaning is essential.\n",
    "Following points should be checked in the data set.\n",
    "\n",
    "### Quality issue\n",
    "\n",
    "- missing value for start and end station id as well as name\n",
    "- missing gender\n",
    "- missing birth of year\n",
    "- start and end time is string\n",
    "- station id is float\n",
    "- bike id is int\n",
    "- gender is string\n",
    "- bike share service is string\n",
    "- bike share service column is missing in the 2017 data set\n",
    "- user type is string\n",
    "- duration in second is difficult to handle with\n",
    "- member_birth_year is difficult to handle with\n",
    "\n",
    "### Structure issue\n",
    "\n",
    "- merge 2 data set together\n",
    "- start time and end time contains dates and times\n",
    "\n",
    "## Clean\n",
    "### Defition\n",
    "concatinate the 2 data sets and create one data frame. As bike_sare_for_all_trip service seems like a new service from 2018, I will create a new column for the 2017 data set with No."
   ]
  },
  {
   "cell_type": "markdown",
   "metadata": {},
   "source": [
    "## columns\n",
    "Trip Duration (seconds)\n",
    "\n",
    "Start Time and Date\n",
    "\n",
    "End Time and Date\n",
    "\n",
    "Start Station ID\n",
    "\n",
    "Start Station Name\n",
    "\n",
    "Start Station Latitude\n",
    "\n",
    "Start Station Longitude\n",
    "\n",
    "End Station ID\n",
    "\n",
    "End Station Name\n",
    "\n",
    "End Station Latitude\n",
    "\n",
    "End Station Longitude\n",
    "\n",
    "Bike ID\n",
    "\n",
    "User Type (Subscriber or Customer – “Subscriber” = Member or “Customer” = Casual)\n",
    "\n",
    "Member Year of Birth\n",
    "\n",
    "Member Gender\n",
    "\n",
    "#### https://www.fordgobike.com/system-data"
   ]
  },
  {
   "cell_type": "code",
   "execution_count": 193,
   "metadata": {},
   "outputs": [],
   "source": [
    "# create a new column and fill in with \"No\"\n",
    "df_2017[\"bike_share_for_all_trip\"] = \"No\""
   ]
  },
  {
   "cell_type": "code",
   "execution_count": 194,
   "metadata": {},
   "outputs": [
    {
     "name": "stdout",
     "output_type": "stream",
     "text": [
      "8315200\n",
      "29819536\n",
      "38134736\n"
     ]
    }
   ],
   "source": [
    "# check data set size\n",
    "print(df_2017.size)\n",
    "print(df_2018.size)\n",
    "print(df_2017.size + df_2018.size)"
   ]
  },
  {
   "cell_type": "code",
   "execution_count": 195,
   "metadata": {},
   "outputs": [],
   "source": [
    "# concat\n",
    "df_all = pd.concat([df_2017, df_2018], ignore_index = True)"
   ]
  },
  {
   "cell_type": "markdown",
   "metadata": {},
   "source": [
    "## Test"
   ]
  },
  {
   "cell_type": "code",
   "execution_count": 196,
   "metadata": {},
   "outputs": [
    {
     "data": {
      "text/plain": [
       "38134736"
      ]
     },
     "execution_count": 196,
     "metadata": {},
     "output_type": "execute_result"
    }
   ],
   "source": [
    "# check size\n",
    "df_all.size"
   ]
  },
  {
   "cell_type": "code",
   "execution_count": 197,
   "metadata": {
    "scrolled": true
   },
   "outputs": [
    {
     "data": {
      "text/html": [
       "<div>\n",
       "<style scoped>\n",
       "    .dataframe tbody tr th:only-of-type {\n",
       "        vertical-align: middle;\n",
       "    }\n",
       "\n",
       "    .dataframe tbody tr th {\n",
       "        vertical-align: top;\n",
       "    }\n",
       "\n",
       "    .dataframe thead th {\n",
       "        text-align: right;\n",
       "    }\n",
       "</style>\n",
       "<table border=\"1\" class=\"dataframe\">\n",
       "  <thead>\n",
       "    <tr style=\"text-align: right;\">\n",
       "      <th></th>\n",
       "      <th>duration_sec</th>\n",
       "      <th>start_time</th>\n",
       "      <th>end_time</th>\n",
       "      <th>start_station_id</th>\n",
       "      <th>start_station_name</th>\n",
       "      <th>start_station_latitude</th>\n",
       "      <th>start_station_longitude</th>\n",
       "      <th>end_station_id</th>\n",
       "      <th>end_station_name</th>\n",
       "      <th>end_station_latitude</th>\n",
       "      <th>end_station_longitude</th>\n",
       "      <th>bike_id</th>\n",
       "      <th>user_type</th>\n",
       "      <th>member_birth_year</th>\n",
       "      <th>member_gender</th>\n",
       "      <th>bike_share_for_all_trip</th>\n",
       "    </tr>\n",
       "  </thead>\n",
       "  <tbody>\n",
       "    <tr>\n",
       "      <th>1017257</th>\n",
       "      <td>403</td>\n",
       "      <td>2018-05-22 16:45:58.4370</td>\n",
       "      <td>2018-05-22 16:52:42.2610</td>\n",
       "      <td>25.0</td>\n",
       "      <td>Howard St at 2nd St</td>\n",
       "      <td>37.787522</td>\n",
       "      <td>-122.397405</td>\n",
       "      <td>15.0</td>\n",
       "      <td>San Francisco Ferry Building (Harry Bridges Pl...</td>\n",
       "      <td>37.795392</td>\n",
       "      <td>-122.394203</td>\n",
       "      <td>1692</td>\n",
       "      <td>Subscriber</td>\n",
       "      <td>1980.0</td>\n",
       "      <td>Male</td>\n",
       "      <td>No</td>\n",
       "    </tr>\n",
       "    <tr>\n",
       "      <th>1799745</th>\n",
       "      <td>654</td>\n",
       "      <td>2018-09-20 01:17:47.8110</td>\n",
       "      <td>2018-09-20 01:28:42.5190</td>\n",
       "      <td>252.0</td>\n",
       "      <td>Channing Way at Shattuck Ave</td>\n",
       "      <td>37.865847</td>\n",
       "      <td>-122.267443</td>\n",
       "      <td>253.0</td>\n",
       "      <td>Haste St at College Ave</td>\n",
       "      <td>37.866418</td>\n",
       "      <td>-122.253799</td>\n",
       "      <td>1266</td>\n",
       "      <td>Subscriber</td>\n",
       "      <td>1987.0</td>\n",
       "      <td>Male</td>\n",
       "      <td>No</td>\n",
       "    </tr>\n",
       "    <tr>\n",
       "      <th>1956811</th>\n",
       "      <td>611</td>\n",
       "      <td>2018-10-25 12:42:16.2580</td>\n",
       "      <td>2018-10-25 12:52:27.9470</td>\n",
       "      <td>77.0</td>\n",
       "      <td>11th St at Natoma St</td>\n",
       "      <td>37.773507</td>\n",
       "      <td>-122.416040</td>\n",
       "      <td>77.0</td>\n",
       "      <td>11th St at Natoma St</td>\n",
       "      <td>37.773507</td>\n",
       "      <td>-122.416040</td>\n",
       "      <td>3151</td>\n",
       "      <td>Subscriber</td>\n",
       "      <td>1986.0</td>\n",
       "      <td>Male</td>\n",
       "      <td>No</td>\n",
       "    </tr>\n",
       "    <tr>\n",
       "      <th>1603971</th>\n",
       "      <td>368</td>\n",
       "      <td>2018-08-21 16:01:40.7870</td>\n",
       "      <td>2018-08-21 16:07:48.9770</td>\n",
       "      <td>37.0</td>\n",
       "      <td>2nd St at Folsom St</td>\n",
       "      <td>37.785000</td>\n",
       "      <td>-122.395936</td>\n",
       "      <td>15.0</td>\n",
       "      <td>San Francisco Ferry Building (Harry Bridges Pl...</td>\n",
       "      <td>37.795392</td>\n",
       "      <td>-122.394203</td>\n",
       "      <td>4382</td>\n",
       "      <td>Customer</td>\n",
       "      <td>1980.0</td>\n",
       "      <td>Male</td>\n",
       "      <td>No</td>\n",
       "    </tr>\n",
       "    <tr>\n",
       "      <th>1341226</th>\n",
       "      <td>509</td>\n",
       "      <td>2018-07-31 17:26:19.1250</td>\n",
       "      <td>2018-07-31 17:34:48.7810</td>\n",
       "      <td>61.0</td>\n",
       "      <td>Howard St at 8th St</td>\n",
       "      <td>37.776513</td>\n",
       "      <td>-122.411306</td>\n",
       "      <td>123.0</td>\n",
       "      <td>Folsom St at 19th St</td>\n",
       "      <td>37.760594</td>\n",
       "      <td>-122.414817</td>\n",
       "      <td>1735</td>\n",
       "      <td>Subscriber</td>\n",
       "      <td>1993.0</td>\n",
       "      <td>Male</td>\n",
       "      <td>No</td>\n",
       "    </tr>\n",
       "  </tbody>\n",
       "</table>\n",
       "</div>"
      ],
      "text/plain": [
       "         duration_sec                start_time                  end_time  \\\n",
       "1017257           403  2018-05-22 16:45:58.4370  2018-05-22 16:52:42.2610   \n",
       "1799745           654  2018-09-20 01:17:47.8110  2018-09-20 01:28:42.5190   \n",
       "1956811           611  2018-10-25 12:42:16.2580  2018-10-25 12:52:27.9470   \n",
       "1603971           368  2018-08-21 16:01:40.7870  2018-08-21 16:07:48.9770   \n",
       "1341226           509  2018-07-31 17:26:19.1250  2018-07-31 17:34:48.7810   \n",
       "\n",
       "         start_station_id            start_station_name  \\\n",
       "1017257              25.0           Howard St at 2nd St   \n",
       "1799745             252.0  Channing Way at Shattuck Ave   \n",
       "1956811              77.0          11th St at Natoma St   \n",
       "1603971              37.0           2nd St at Folsom St   \n",
       "1341226              61.0           Howard St at 8th St   \n",
       "\n",
       "         start_station_latitude  start_station_longitude  end_station_id  \\\n",
       "1017257               37.787522              -122.397405            15.0   \n",
       "1799745               37.865847              -122.267443           253.0   \n",
       "1956811               37.773507              -122.416040            77.0   \n",
       "1603971               37.785000              -122.395936            15.0   \n",
       "1341226               37.776513              -122.411306           123.0   \n",
       "\n",
       "                                          end_station_name  \\\n",
       "1017257  San Francisco Ferry Building (Harry Bridges Pl...   \n",
       "1799745                            Haste St at College Ave   \n",
       "1956811                               11th St at Natoma St   \n",
       "1603971  San Francisco Ferry Building (Harry Bridges Pl...   \n",
       "1341226                               Folsom St at 19th St   \n",
       "\n",
       "         end_station_latitude  end_station_longitude  bike_id   user_type  \\\n",
       "1017257             37.795392            -122.394203     1692  Subscriber   \n",
       "1799745             37.866418            -122.253799     1266  Subscriber   \n",
       "1956811             37.773507            -122.416040     3151  Subscriber   \n",
       "1603971             37.795392            -122.394203     4382    Customer   \n",
       "1341226             37.760594            -122.414817     1735  Subscriber   \n",
       "\n",
       "         member_birth_year member_gender bike_share_for_all_trip  \n",
       "1017257             1980.0          Male                      No  \n",
       "1799745             1987.0          Male                      No  \n",
       "1956811             1986.0          Male                      No  \n",
       "1603971             1980.0          Male                      No  \n",
       "1341226             1993.0          Male                      No  "
      ]
     },
     "execution_count": 197,
     "metadata": {},
     "output_type": "execute_result"
    }
   ],
   "source": [
    "# check df\n",
    "df_all.sample(5)"
   ]
  },
  {
   "cell_type": "code",
   "execution_count": 198,
   "metadata": {},
   "outputs": [
    {
     "name": "stdout",
     "output_type": "stream",
     "text": [
      "<class 'pandas.core.frame.DataFrame'>\n",
      "RangeIndex: 2383421 entries, 0 to 2383420\n",
      "Data columns (total 16 columns):\n",
      "duration_sec               int64\n",
      "start_time                 object\n",
      "end_time                   object\n",
      "start_station_id           float64\n",
      "start_station_name         object\n",
      "start_station_latitude     float64\n",
      "start_station_longitude    float64\n",
      "end_station_id             float64\n",
      "end_station_name           object\n",
      "end_station_latitude       float64\n",
      "end_station_longitude      float64\n",
      "bike_id                    int64\n",
      "user_type                  object\n",
      "member_birth_year          float64\n",
      "member_gender              object\n",
      "bike_share_for_all_trip    object\n",
      "dtypes: float64(7), int64(2), object(7)\n",
      "memory usage: 290.9+ MB\n"
     ]
    }
   ],
   "source": [
    "# check info\n",
    "df_all.info()"
   ]
  },
  {
   "cell_type": "code",
   "execution_count": 199,
   "metadata": {},
   "outputs": [
    {
     "data": {
      "text/plain": [
       "0"
      ]
     },
     "execution_count": 199,
     "metadata": {},
     "output_type": "execute_result"
    }
   ],
   "source": [
    "# check duplication\n",
    "df_all.duplicated().sum()"
   ]
  },
  {
   "cell_type": "code",
   "execution_count": 200,
   "metadata": {
    "scrolled": false
   },
   "outputs": [
    {
     "data": {
      "text/plain": [
       "duration_sec               0.000000\n",
       "start_time                 0.000000\n",
       "end_time                   0.000000\n",
       "start_station_id           0.004939\n",
       "start_station_name         0.004939\n",
       "start_station_latitude     0.000000\n",
       "start_station_longitude    0.000000\n",
       "end_station_id             0.004939\n",
       "end_station_name           0.004939\n",
       "end_station_latitude       0.000000\n",
       "end_station_longitude      0.000000\n",
       "bike_id                    0.000000\n",
       "user_type                  0.000000\n",
       "member_birth_year          0.074372\n",
       "member_gender              0.074191\n",
       "bike_share_for_all_trip    0.000000\n",
       "dtype: float64"
      ]
     },
     "execution_count": 200,
     "metadata": {},
     "output_type": "execute_result"
    }
   ],
   "source": [
    "# check na\n",
    "df_all.isna().sum() / df_all.shape[0]"
   ]
  },
  {
   "cell_type": "code",
   "execution_count": 201,
   "metadata": {
    "scrolled": true
   },
   "outputs": [
    {
     "data": {
      "image/png": "[encoded data removed]",
      "text/plain": [
       "<Figure size 432x288 with 1 Axes>"
      ]
     },
     "metadata": {
      "needs_background": "light"
     },
     "output_type": "display_data"
    }
   ],
   "source": [
    "# check hist for any outliers or possible error\n",
    "bins_edge = np.arange(df_all.member_birth_year.min(), df_all.member_birth_year.max() + 10, 10)\n",
    "plt.hist(data = df_all, x = \"member_birth_year\", bins = bins_edge);"
   ]
  },
  {
   "cell_type": "markdown",
   "metadata": {},
   "source": [
    "> It seems like some observations are over 100 years old, which is questionalble. I will think how to handle the age data later."
   ]
  },
  {
   "cell_type": "code",
   "execution_count": 202,
   "metadata": {},
   "outputs": [
    {
     "data": {
      "text/plain": [
       "2062405    2000.0\n",
       "2302496    2000.0\n",
       "1577120    2000.0\n",
       "2298833    2000.0\n",
       "1791982    2000.0\n",
       "Name: member_birth_year, dtype: float64"
      ]
     },
     "execution_count": 202,
     "metadata": {},
     "output_type": "execute_result"
    }
   ],
   "source": [
    "# check youngest\n",
    "df_all.member_birth_year.sort_values(ascending = False).head()"
   ]
  },
  {
   "cell_type": "code",
   "execution_count": 203,
   "metadata": {},
   "outputs": [
    {
     "data": {
      "text/plain": [
       "1402838    1881.0\n",
       "1400283    1881.0\n",
       "1402687    1881.0\n",
       "1402215    1881.0\n",
       "1402346    1881.0\n",
       "Name: member_birth_year, dtype: float64"
      ]
     },
     "execution_count": 203,
     "metadata": {},
     "output_type": "execute_result"
    }
   ],
   "source": [
    "# check oldest\n",
    "df_all.member_birth_year.sort_values(ascending = True).head()"
   ]
  },
  {
   "cell_type": "markdown",
   "metadata": {},
   "source": [
    "## Clean\n",
    "\n",
    "### Definition\n",
    "Missing value for station id/ name, birth of year and gender. I will check if I can fill in."
   ]
  },
  {
   "cell_type": "code",
   "execution_count": 204,
   "metadata": {
    "scrolled": false
   },
   "outputs": [
    {
     "data": {
      "text/html": [
       "<div>\n",
       "<style scoped>\n",
       "    .dataframe tbody tr th:only-of-type {\n",
       "        vertical-align: middle;\n",
       "    }\n",
       "\n",
       "    .dataframe tbody tr th {\n",
       "        vertical-align: top;\n",
       "    }\n",
       "\n",
       "    .dataframe thead th {\n",
       "        text-align: right;\n",
       "    }\n",
       "</style>\n",
       "<table border=\"1\" class=\"dataframe\">\n",
       "  <thead>\n",
       "    <tr style=\"text-align: right;\">\n",
       "      <th></th>\n",
       "      <th>duration_sec</th>\n",
       "      <th>start_time</th>\n",
       "      <th>end_time</th>\n",
       "      <th>start_station_id</th>\n",
       "      <th>start_station_name</th>\n",
       "      <th>start_station_latitude</th>\n",
       "      <th>start_station_longitude</th>\n",
       "      <th>end_station_id</th>\n",
       "      <th>end_station_name</th>\n",
       "      <th>end_station_latitude</th>\n",
       "      <th>end_station_longitude</th>\n",
       "      <th>bike_id</th>\n",
       "      <th>user_type</th>\n",
       "      <th>member_birth_year</th>\n",
       "      <th>member_gender</th>\n",
       "      <th>bike_share_for_all_trip</th>\n",
       "    </tr>\n",
       "  </thead>\n",
       "  <tbody>\n",
       "    <tr>\n",
       "      <th>2082587</th>\n",
       "      <td>401</td>\n",
       "      <td>2018-10-05 17:26:12.6520</td>\n",
       "      <td>2018-10-05 17:32:54.6290</td>\n",
       "      <td>NaN</td>\n",
       "      <td>NaN</td>\n",
       "      <td>37.420000</td>\n",
       "      <td>-121.950000</td>\n",
       "      <td>NaN</td>\n",
       "      <td>NaN</td>\n",
       "      <td>37.410000</td>\n",
       "      <td>-121.960000</td>\n",
       "      <td>4148</td>\n",
       "      <td>Customer</td>\n",
       "      <td>2000.0</td>\n",
       "      <td>Female</td>\n",
       "      <td>No</td>\n",
       "    </tr>\n",
       "    <tr>\n",
       "      <th>1089787</th>\n",
       "      <td>273</td>\n",
       "      <td>2018-05-10 07:28:04.1870</td>\n",
       "      <td>2018-05-10 07:32:38.1140</td>\n",
       "      <td>205.0</td>\n",
       "      <td>Shafter Ave at Cavour St</td>\n",
       "      <td>37.837947</td>\n",
       "      <td>-122.257243</td>\n",
       "      <td>171.0</td>\n",
       "      <td>Rockridge BART Station</td>\n",
       "      <td>37.844279</td>\n",
       "      <td>-122.251900</td>\n",
       "      <td>1115</td>\n",
       "      <td>Subscriber</td>\n",
       "      <td>NaN</td>\n",
       "      <td>NaN</td>\n",
       "      <td>No</td>\n",
       "    </tr>\n",
       "    <tr>\n",
       "      <th>1865312</th>\n",
       "      <td>3205</td>\n",
       "      <td>2018-09-10 13:53:21.6250</td>\n",
       "      <td>2018-09-10 14:46:47.2150</td>\n",
       "      <td>28.0</td>\n",
       "      <td>The Embarcadero at Bryant St</td>\n",
       "      <td>37.787168</td>\n",
       "      <td>-122.388098</td>\n",
       "      <td>323.0</td>\n",
       "      <td>Broadway at Kearny</td>\n",
       "      <td>37.798014</td>\n",
       "      <td>-122.405950</td>\n",
       "      <td>1756</td>\n",
       "      <td>Customer</td>\n",
       "      <td>NaN</td>\n",
       "      <td>NaN</td>\n",
       "      <td>No</td>\n",
       "    </tr>\n",
       "    <tr>\n",
       "      <th>994959</th>\n",
       "      <td>651</td>\n",
       "      <td>2018-05-26 10:50:20.7820</td>\n",
       "      <td>2018-05-26 11:01:12.6260</td>\n",
       "      <td>5.0</td>\n",
       "      <td>Powell St BART Station (Market St at 5th St)</td>\n",
       "      <td>37.783899</td>\n",
       "      <td>-122.408445</td>\n",
       "      <td>3.0</td>\n",
       "      <td>Powell St BART Station (Market St at 4th St)</td>\n",
       "      <td>37.786375</td>\n",
       "      <td>-122.404904</td>\n",
       "      <td>252</td>\n",
       "      <td>Customer</td>\n",
       "      <td>NaN</td>\n",
       "      <td>NaN</td>\n",
       "      <td>No</td>\n",
       "    </tr>\n",
       "    <tr>\n",
       "      <th>793746</th>\n",
       "      <td>446</td>\n",
       "      <td>2018-03-12 11:40:03.2490</td>\n",
       "      <td>2018-03-12 11:47:29.4400</td>\n",
       "      <td>19.0</td>\n",
       "      <td>Post St at Kearny St</td>\n",
       "      <td>37.788975</td>\n",
       "      <td>-122.403452</td>\n",
       "      <td>16.0</td>\n",
       "      <td>Steuart St at Market St</td>\n",
       "      <td>37.794130</td>\n",
       "      <td>-122.394430</td>\n",
       "      <td>2783</td>\n",
       "      <td>Customer</td>\n",
       "      <td>NaN</td>\n",
       "      <td>NaN</td>\n",
       "      <td>No</td>\n",
       "    </tr>\n",
       "    <tr>\n",
       "      <th>265137</th>\n",
       "      <td>799</td>\n",
       "      <td>2017-10-08 10:12:54.6140</td>\n",
       "      <td>2017-10-08 10:26:13.6730</td>\n",
       "      <td>44.0</td>\n",
       "      <td>Civic Center/UN Plaza BART Station (Market St ...</td>\n",
       "      <td>37.781074</td>\n",
       "      <td>-122.411738</td>\n",
       "      <td>15.0</td>\n",
       "      <td>San Francisco Ferry Building (Harry Bridges Pl...</td>\n",
       "      <td>37.795392</td>\n",
       "      <td>-122.394203</td>\n",
       "      <td>2645</td>\n",
       "      <td>Customer</td>\n",
       "      <td>NaN</td>\n",
       "      <td>NaN</td>\n",
       "      <td>No</td>\n",
       "    </tr>\n",
       "    <tr>\n",
       "      <th>1420312</th>\n",
       "      <td>539</td>\n",
       "      <td>2018-07-19 14:14:05.3250</td>\n",
       "      <td>2018-07-19 14:23:04.6610</td>\n",
       "      <td>15.0</td>\n",
       "      <td>San Francisco Ferry Building (Harry Bridges Pl...</td>\n",
       "      <td>37.795392</td>\n",
       "      <td>-122.394203</td>\n",
       "      <td>6.0</td>\n",
       "      <td>The Embarcadero at Sansome St</td>\n",
       "      <td>37.804770</td>\n",
       "      <td>-122.403234</td>\n",
       "      <td>1140</td>\n",
       "      <td>Customer</td>\n",
       "      <td>NaN</td>\n",
       "      <td>NaN</td>\n",
       "      <td>No</td>\n",
       "    </tr>\n",
       "    <tr>\n",
       "      <th>1529332</th>\n",
       "      <td>946</td>\n",
       "      <td>2018-07-02 18:36:27.1260</td>\n",
       "      <td>2018-07-02 18:52:13.2930</td>\n",
       "      <td>323.0</td>\n",
       "      <td>Broadway at Kearny</td>\n",
       "      <td>37.798014</td>\n",
       "      <td>-122.405950</td>\n",
       "      <td>30.0</td>\n",
       "      <td>San Francisco Caltrain (Townsend St at 4th St)</td>\n",
       "      <td>37.776598</td>\n",
       "      <td>-122.395282</td>\n",
       "      <td>3744</td>\n",
       "      <td>Subscriber</td>\n",
       "      <td>NaN</td>\n",
       "      <td>NaN</td>\n",
       "      <td>No</td>\n",
       "    </tr>\n",
       "    <tr>\n",
       "      <th>186331</th>\n",
       "      <td>1337</td>\n",
       "      <td>2017-10-31 02:46:05.5820</td>\n",
       "      <td>2017-10-31 03:08:23.2040</td>\n",
       "      <td>50.0</td>\n",
       "      <td>2nd St at Townsend St - Coming Soon</td>\n",
       "      <td>37.780526</td>\n",
       "      <td>-122.390288</td>\n",
       "      <td>21.0</td>\n",
       "      <td>Montgomery St BART Station (Market St at 2nd St)</td>\n",
       "      <td>37.789625</td>\n",
       "      <td>-122.400811</td>\n",
       "      <td>1269</td>\n",
       "      <td>Customer</td>\n",
       "      <td>NaN</td>\n",
       "      <td>NaN</td>\n",
       "      <td>No</td>\n",
       "    </tr>\n",
       "    <tr>\n",
       "      <th>1112598</th>\n",
       "      <td>1277</td>\n",
       "      <td>2018-05-06 10:41:09.1340</td>\n",
       "      <td>2018-05-06 11:02:26.1710</td>\n",
       "      <td>345.0</td>\n",
       "      <td>Hubbell St at 16th St</td>\n",
       "      <td>37.766474</td>\n",
       "      <td>-122.398295</td>\n",
       "      <td>59.0</td>\n",
       "      <td>S Van Ness Ave at Market St</td>\n",
       "      <td>37.774814</td>\n",
       "      <td>-122.418954</td>\n",
       "      <td>2178</td>\n",
       "      <td>Customer</td>\n",
       "      <td>NaN</td>\n",
       "      <td>NaN</td>\n",
       "      <td>No</td>\n",
       "    </tr>\n",
       "  </tbody>\n",
       "</table>\n",
       "</div>"
      ],
      "text/plain": [
       "         duration_sec                start_time                  end_time  \\\n",
       "2082587           401  2018-10-05 17:26:12.6520  2018-10-05 17:32:54.6290   \n",
       "1089787           273  2018-05-10 07:28:04.1870  2018-05-10 07:32:38.1140   \n",
       "1865312          3205  2018-09-10 13:53:21.6250  2018-09-10 14:46:47.2150   \n",
       "994959            651  2018-05-26 10:50:20.7820  2018-05-26 11:01:12.6260   \n",
       "793746            446  2018-03-12 11:40:03.2490  2018-03-12 11:47:29.4400   \n",
       "265137            799  2017-10-08 10:12:54.6140  2017-10-08 10:26:13.6730   \n",
       "1420312           539  2018-07-19 14:14:05.3250  2018-07-19 14:23:04.6610   \n",
       "1529332           946  2018-07-02 18:36:27.1260  2018-07-02 18:52:13.2930   \n",
       "186331           1337  2017-10-31 02:46:05.5820  2017-10-31 03:08:23.2040   \n",
       "1112598          1277  2018-05-06 10:41:09.1340  2018-05-06 11:02:26.1710   \n",
       "\n",
       "         start_station_id                                 start_station_name  \\\n",
       "2082587               NaN                                                NaN   \n",
       "1089787             205.0                           Shafter Ave at Cavour St   \n",
       "1865312              28.0                       The Embarcadero at Bryant St   \n",
       "994959                5.0       Powell St BART Station (Market St at 5th St)   \n",
       "793746               19.0                               Post St at Kearny St   \n",
       "265137               44.0  Civic Center/UN Plaza BART Station (Market St ...   \n",
       "1420312              15.0  San Francisco Ferry Building (Harry Bridges Pl...   \n",
       "1529332             323.0                                 Broadway at Kearny   \n",
       "186331               50.0                2nd St at Townsend St - Coming Soon   \n",
       "1112598             345.0                              Hubbell St at 16th St   \n",
       "\n",
       "         start_station_latitude  start_station_longitude  end_station_id  \\\n",
       "2082587               37.420000              -121.950000             NaN   \n",
       "1089787               37.837947              -122.257243           171.0   \n",
       "1865312               37.787168              -122.388098           323.0   \n",
       "994959                37.783899              -122.408445             3.0   \n",
       "793746                37.788975              -122.403452            16.0   \n",
       "265137                37.781074              -122.411738            15.0   \n",
       "1420312               37.795392              -122.394203             6.0   \n",
       "1529332               37.798014              -122.405950            30.0   \n",
       "186331                37.780526              -122.390288            21.0   \n",
       "1112598               37.766474              -122.398295            59.0   \n",
       "\n",
       "                                          end_station_name  \\\n",
       "2082587                                                NaN   \n",
       "1089787                             Rockridge BART Station   \n",
       "1865312                                 Broadway at Kearny   \n",
       "994959        Powell St BART Station (Market St at 4th St)   \n",
       "793746                             Steuart St at Market St   \n",
       "265137   San Francisco Ferry Building (Harry Bridges Pl...   \n",
       "1420312                      The Embarcadero at Sansome St   \n",
       "1529332     San Francisco Caltrain (Townsend St at 4th St)   \n",
       "186331    Montgomery St BART Station (Market St at 2nd St)   \n",
       "1112598                        S Van Ness Ave at Market St   \n",
       "\n",
       "         end_station_latitude  end_station_longitude  bike_id   user_type  \\\n",
       "2082587             37.410000            -121.960000     4148    Customer   \n",
       "1089787             37.844279            -122.251900     1115  Subscriber   \n",
       "1865312             37.798014            -122.405950     1756    Customer   \n",
       "994959              37.786375            -122.404904      252    Customer   \n",
       "793746              37.794130            -122.394430     2783    Customer   \n",
       "265137              37.795392            -122.394203     2645    Customer   \n",
       "1420312             37.804770            -122.403234     1140    Customer   \n",
       "1529332             37.776598            -122.395282     3744  Subscriber   \n",
       "186331              37.789625            -122.400811     1269    Customer   \n",
       "1112598             37.774814            -122.418954     2178    Customer   \n",
       "\n",
       "         member_birth_year member_gender bike_share_for_all_trip  \n",
       "2082587             2000.0        Female                      No  \n",
       "1089787                NaN           NaN                      No  \n",
       "1865312                NaN           NaN                      No  \n",
       "994959                 NaN           NaN                      No  \n",
       "793746                 NaN           NaN                      No  \n",
       "265137                 NaN           NaN                      No  \n",
       "1420312                NaN           NaN                      No  \n",
       "1529332                NaN           NaN                      No  \n",
       "186331                 NaN           NaN                      No  \n",
       "1112598                NaN           NaN                      No  "
      ]
     },
     "execution_count": 204,
     "metadata": {},
     "output_type": "execute_result"
    }
   ],
   "source": [
    "# check missing values\n",
    "df_all[df_all.isnull().any(axis = 1)].sample(10)"
   ]
  },
  {
   "cell_type": "code",
   "execution_count": 205,
   "metadata": {},
   "outputs": [
    {
     "data": {
      "text/plain": [
       "count    2.206162e+06\n",
       "mean     1.982537e+03\n",
       "std      1.051346e+01\n",
       "min      1.881000e+03\n",
       "25%      1.977000e+03\n",
       "50%      1.985000e+03\n",
       "75%      1.990000e+03\n",
       "max      2.000000e+03\n",
       "Name: member_birth_year, dtype: float64"
      ]
     },
     "execution_count": 205,
     "metadata": {},
     "output_type": "execute_result"
    }
   ],
   "source": [
    "# check summary statistic\n",
    "df_all.member_birth_year.describe()"
   ]
  },
  {
   "cell_type": "markdown",
   "metadata": {},
   "source": [
    "> As it is difficult to get information, I will leave the missing value for now. A station name may be able to identify with the given latitude and longitude."
   ]
  },
  {
   "cell_type": "code",
   "execution_count": 206,
   "metadata": {},
   "outputs": [
    {
     "data": {
      "text/plain": [
       "start_station_latitude  start_station_longitude\n",
       "37.41                   -121.94                    2104\n",
       "37.40                   -121.94                    1588\n",
       "                        -121.93                    1427\n",
       "37.41                   -121.96                    1240\n",
       "37.40                   -121.92                    1162\n",
       "37.41                   -121.95                     961\n",
       "37.42                   -121.96                     668\n",
       "37.39                   -121.93                     584\n",
       "37.41                   -121.93                     470\n",
       "37.42                   -121.95                     335\n",
       "dtype: int64"
      ]
     },
     "execution_count": 206,
     "metadata": {},
     "output_type": "execute_result"
    }
   ],
   "source": [
    "# find most common combination\n",
    "df_all[df_all.start_station_id.isnull()].groupby([\"start_station_latitude\", \"start_station_longitude\"]).size().sort_values(ascending = False).head(10)"
   ]
  },
  {
   "cell_type": "markdown",
   "metadata": {},
   "source": [
    "https://www.latlong.net/Show-Latitude-Longitude.html & https://member.fordgobike.com/map/\n",
    "37.41 -121.94 = Baypointe Parkway, San Jose, California 95134, United States of America\n",
    "37.40 -121.94 = 3331 N 1st St, San Jose, California 95134, United States\n",
    "37.40 -121.93 = Central San Jose, San Jose, California 95125, United States of America\n",
    "37.41 -121.96 = not found\n",
    "37.40 -121.92 = Epic, 600 Epic Way, San Jose, California 95134, United States of America\n",
    "37.42 -121.96 = not found\n",
    "37.39 -121.93 = 2704 North 1st Street, San Jose, California 95134, United States of America\n",
    "37.41 -121.93 = not found\n",
    "37.42 -121.95 = not found\n",
    "37.38 -121.93 = 2509 Orchard Parkway, San Jose, California 95131, United States of America\n",
    "\n",
    "> there is a tendency that missing station name is data from San Jose. I will leave it as I can us other part of data even though the data is from other city."
   ]
  },
  {
   "cell_type": "markdown",
   "metadata": {},
   "source": [
    "### Clean\n",
    "\n",
    "### Definition\n",
    "\n",
    "Extract start/end year, month, day and time from the start / end time columns"
   ]
  },
  {
   "cell_type": "code",
   "execution_count": 207,
   "metadata": {
    "scrolled": true
   },
   "outputs": [],
   "source": [
    "# convert data type\n",
    "df_all[\"start_time\"] = pd.to_datetime(df_all.start_time)\n",
    "df_all[\"end_time\"] = pd.to_datetime(df_all.end_time)"
   ]
  },
  {
   "cell_type": "code",
   "execution_count": 208,
   "metadata": {},
   "outputs": [],
   "source": [
    "# create new columns\n",
    "df_all[\"start_date\"] = df_all.start_time.dt.date\n",
    "df_all[\"start_hour\"] = df_all.start_time.dt.hour\n",
    "df_all[\"start_min\"] = df_all.start_time.dt.minute\n",
    "\n",
    "df_all[\"end_date\"] = df_all.end_time.dt.date\n",
    "df_all[\"end_hour\"] = df_all.end_time.dt.hour\n",
    "df_all[\"end_min\"] = df_all.end_time.dt.minute"
   ]
  },
  {
   "cell_type": "code",
   "execution_count": 209,
   "metadata": {},
   "outputs": [],
   "source": [
    "# create date columns\n",
    "df_all[\"start_date\"] = pd.to_datetime(df_all.start_date)\n",
    "df_all[\"end_date\"] = pd.to_datetime(df_all.end_date)"
   ]
  },
  {
   "cell_type": "code",
   "execution_count": 210,
   "metadata": {},
   "outputs": [],
   "source": [
    "# create weekday column and convert it to string\n",
    "df_all[\"start_weekday\"] = df_all.start_date.dt.dayofweek\n",
    "df_all[\"start_weekday\"] = df_all[\"start_weekday\"].replace({0:\"Mon\",\n",
    "                                                          1:\"Tue\",\n",
    "                                                          2:\"Wed\",\n",
    "                                                          3:\"Thu\",\n",
    "                                                          4:\"Fri\",\n",
    "                                                          5:\"Sat\",\n",
    "                                                          6:\"Sun\"})"
   ]
  },
  {
   "cell_type": "code",
   "execution_count": 211,
   "metadata": {},
   "outputs": [],
   "source": [
    "# drop start time and end time\n",
    "df_all.drop(columns = [\"start_time\", \"end_time\"], axis = 1, inplace = True)"
   ]
  },
  {
   "cell_type": "markdown",
   "metadata": {},
   "source": [
    "### Test"
   ]
  },
  {
   "cell_type": "code",
   "execution_count": 212,
   "metadata": {
    "scrolled": true
   },
   "outputs": [
    {
     "data": {
      "text/html": [
       "<div>\n",
       "<style scoped>\n",
       "    .dataframe tbody tr th:only-of-type {\n",
       "        vertical-align: middle;\n",
       "    }\n",
       "\n",
       "    .dataframe tbody tr th {\n",
       "        vertical-align: top;\n",
       "    }\n",
       "\n",
       "    .dataframe thead th {\n",
       "        text-align: right;\n",
       "    }\n",
       "</style>\n",
       "<table border=\"1\" class=\"dataframe\">\n",
       "  <thead>\n",
       "    <tr style=\"text-align: right;\">\n",
       "      <th></th>\n",
       "      <th>duration_sec</th>\n",
       "      <th>start_station_id</th>\n",
       "      <th>start_station_name</th>\n",
       "      <th>start_station_latitude</th>\n",
       "      <th>start_station_longitude</th>\n",
       "      <th>end_station_id</th>\n",
       "      <th>end_station_name</th>\n",
       "      <th>end_station_latitude</th>\n",
       "      <th>end_station_longitude</th>\n",
       "      <th>bike_id</th>\n",
       "      <th>...</th>\n",
       "      <th>member_birth_year</th>\n",
       "      <th>member_gender</th>\n",
       "      <th>bike_share_for_all_trip</th>\n",
       "      <th>start_date</th>\n",
       "      <th>start_hour</th>\n",
       "      <th>start_min</th>\n",
       "      <th>end_date</th>\n",
       "      <th>end_hour</th>\n",
       "      <th>end_min</th>\n",
       "      <th>start_weekday</th>\n",
       "    </tr>\n",
       "  </thead>\n",
       "  <tbody>\n",
       "    <tr>\n",
       "      <th>0</th>\n",
       "      <td>80110</td>\n",
       "      <td>74.0</td>\n",
       "      <td>Laguna St at Hayes St</td>\n",
       "      <td>37.776435</td>\n",
       "      <td>-122.426244</td>\n",
       "      <td>43.0</td>\n",
       "      <td>San Francisco Public Library (Grove St at Hyde...</td>\n",
       "      <td>37.778768</td>\n",
       "      <td>-122.415929</td>\n",
       "      <td>96</td>\n",
       "      <td>...</td>\n",
       "      <td>1987.0</td>\n",
       "      <td>Male</td>\n",
       "      <td>No</td>\n",
       "      <td>2017-12-31</td>\n",
       "      <td>16</td>\n",
       "      <td>57</td>\n",
       "      <td>2018-01-01</td>\n",
       "      <td>15</td>\n",
       "      <td>12</td>\n",
       "      <td>Sun</td>\n",
       "    </tr>\n",
       "    <tr>\n",
       "      <th>1</th>\n",
       "      <td>78800</td>\n",
       "      <td>284.0</td>\n",
       "      <td>Yerba Buena Center for the Arts (Howard St at ...</td>\n",
       "      <td>37.784872</td>\n",
       "      <td>-122.400876</td>\n",
       "      <td>96.0</td>\n",
       "      <td>Dolores St at 15th St</td>\n",
       "      <td>37.766210</td>\n",
       "      <td>-122.426614</td>\n",
       "      <td>88</td>\n",
       "      <td>...</td>\n",
       "      <td>1965.0</td>\n",
       "      <td>Female</td>\n",
       "      <td>No</td>\n",
       "      <td>2017-12-31</td>\n",
       "      <td>15</td>\n",
       "      <td>56</td>\n",
       "      <td>2018-01-01</td>\n",
       "      <td>13</td>\n",
       "      <td>49</td>\n",
       "      <td>Sun</td>\n",
       "    </tr>\n",
       "    <tr>\n",
       "      <th>2</th>\n",
       "      <td>45768</td>\n",
       "      <td>245.0</td>\n",
       "      <td>Downtown Berkeley BART</td>\n",
       "      <td>37.870348</td>\n",
       "      <td>-122.267764</td>\n",
       "      <td>245.0</td>\n",
       "      <td>Downtown Berkeley BART</td>\n",
       "      <td>37.870348</td>\n",
       "      <td>-122.267764</td>\n",
       "      <td>1094</td>\n",
       "      <td>...</td>\n",
       "      <td>NaN</td>\n",
       "      <td>NaN</td>\n",
       "      <td>No</td>\n",
       "      <td>2017-12-31</td>\n",
       "      <td>22</td>\n",
       "      <td>45</td>\n",
       "      <td>2018-01-01</td>\n",
       "      <td>11</td>\n",
       "      <td>28</td>\n",
       "      <td>Sun</td>\n",
       "    </tr>\n",
       "    <tr>\n",
       "      <th>3</th>\n",
       "      <td>62172</td>\n",
       "      <td>60.0</td>\n",
       "      <td>8th St at Ringold St</td>\n",
       "      <td>37.774520</td>\n",
       "      <td>-122.409449</td>\n",
       "      <td>5.0</td>\n",
       "      <td>Powell St BART Station (Market St at 5th St)</td>\n",
       "      <td>37.783899</td>\n",
       "      <td>-122.408445</td>\n",
       "      <td>2831</td>\n",
       "      <td>...</td>\n",
       "      <td>NaN</td>\n",
       "      <td>NaN</td>\n",
       "      <td>No</td>\n",
       "      <td>2017-12-31</td>\n",
       "      <td>17</td>\n",
       "      <td>31</td>\n",
       "      <td>2018-01-01</td>\n",
       "      <td>10</td>\n",
       "      <td>47</td>\n",
       "      <td>Sun</td>\n",
       "    </tr>\n",
       "    <tr>\n",
       "      <th>4</th>\n",
       "      <td>43603</td>\n",
       "      <td>239.0</td>\n",
       "      <td>Bancroft Way at Telegraph Ave</td>\n",
       "      <td>37.868813</td>\n",
       "      <td>-122.258764</td>\n",
       "      <td>247.0</td>\n",
       "      <td>Fulton St at Bancroft Way</td>\n",
       "      <td>37.867789</td>\n",
       "      <td>-122.265896</td>\n",
       "      <td>3167</td>\n",
       "      <td>...</td>\n",
       "      <td>1997.0</td>\n",
       "      <td>Female</td>\n",
       "      <td>No</td>\n",
       "      <td>2017-12-31</td>\n",
       "      <td>14</td>\n",
       "      <td>23</td>\n",
       "      <td>2018-01-01</td>\n",
       "      <td>2</td>\n",
       "      <td>29</td>\n",
       "      <td>Sun</td>\n",
       "    </tr>\n",
       "  </tbody>\n",
       "</table>\n",
       "<p>5 rows × 21 columns</p>\n",
       "</div>"
      ],
      "text/plain": [
       "   duration_sec  start_station_id  \\\n",
       "0         80110              74.0   \n",
       "1         78800             284.0   \n",
       "2         45768             245.0   \n",
       "3         62172              60.0   \n",
       "4         43603             239.0   \n",
       "\n",
       "                                  start_station_name  start_station_latitude  \\\n",
       "0                              Laguna St at Hayes St               37.776435   \n",
       "1  Yerba Buena Center for the Arts (Howard St at ...               37.784872   \n",
       "2                             Downtown Berkeley BART               37.870348   \n",
       "3                               8th St at Ringold St               37.774520   \n",
       "4                      Bancroft Way at Telegraph Ave               37.868813   \n",
       "\n",
       "   start_station_longitude  end_station_id  \\\n",
       "0              -122.426244            43.0   \n",
       "1              -122.400876            96.0   \n",
       "2              -122.267764           245.0   \n",
       "3              -122.409449             5.0   \n",
       "4              -122.258764           247.0   \n",
       "\n",
       "                                    end_station_name  end_station_latitude  \\\n",
       "0  San Francisco Public Library (Grove St at Hyde...             37.778768   \n",
       "1                              Dolores St at 15th St             37.766210   \n",
       "2                             Downtown Berkeley BART             37.870348   \n",
       "3       Powell St BART Station (Market St at 5th St)             37.783899   \n",
       "4                          Fulton St at Bancroft Way             37.867789   \n",
       "\n",
       "   end_station_longitude  bike_id      ...       member_birth_year  \\\n",
       "0            -122.415929       96      ...                  1987.0   \n",
       "1            -122.426614       88      ...                  1965.0   \n",
       "2            -122.267764     1094      ...                     NaN   \n",
       "3            -122.408445     2831      ...                     NaN   \n",
       "4            -122.265896     3167      ...                  1997.0   \n",
       "\n",
       "   member_gender bike_share_for_all_trip start_date start_hour  start_min  \\\n",
       "0           Male                      No 2017-12-31         16         57   \n",
       "1         Female                      No 2017-12-31         15         56   \n",
       "2            NaN                      No 2017-12-31         22         45   \n",
       "3            NaN                      No 2017-12-31         17         31   \n",
       "4         Female                      No 2017-12-31         14         23   \n",
       "\n",
       "    end_date end_hour  end_min  start_weekday  \n",
       "0 2018-01-01       15       12            Sun  \n",
       "1 2018-01-01       13       49            Sun  \n",
       "2 2018-01-01       11       28            Sun  \n",
       "3 2018-01-01       10       47            Sun  \n",
       "4 2018-01-01        2       29            Sun  \n",
       "\n",
       "[5 rows x 21 columns]"
      ]
     },
     "execution_count": 212,
     "metadata": {},
     "output_type": "execute_result"
    }
   ],
   "source": [
    "# check\n",
    "df_all.head()"
   ]
  },
  {
   "cell_type": "markdown",
   "metadata": {},
   "source": [
    "## Clean\n",
    "### Definition\n",
    "\n",
    "Create a new column for usage duration in minitues. Then delet the duration_sec column."
   ]
  },
  {
   "cell_type": "code",
   "execution_count": 213,
   "metadata": {},
   "outputs": [],
   "source": [
    "# create min usage column\n",
    "df_all[\"duration_min\"] = df_all[\"duration_sec\"] / 60"
   ]
  },
  {
   "cell_type": "code",
   "execution_count": 214,
   "metadata": {},
   "outputs": [],
   "source": [
    "# drop min\n",
    "df_all.drop(\"duration_sec\", axis = 1, inplace = True)"
   ]
  },
  {
   "cell_type": "markdown",
   "metadata": {},
   "source": [
    "## Test"
   ]
  },
  {
   "cell_type": "code",
   "execution_count": 215,
   "metadata": {
    "scrolled": true
   },
   "outputs": [
    {
     "data": {
      "text/plain": [
       "Index(['start_station_id', 'start_station_name', 'start_station_latitude',\n",
       "       'start_station_longitude', 'end_station_id', 'end_station_name',\n",
       "       'end_station_latitude', 'end_station_longitude', 'bike_id', 'user_type',\n",
       "       'member_birth_year', 'member_gender', 'bike_share_for_all_trip',\n",
       "       'start_date', 'start_hour', 'start_min', 'end_date', 'end_hour',\n",
       "       'end_min', 'start_weekday', 'duration_min'],\n",
       "      dtype='object')"
      ]
     },
     "execution_count": 215,
     "metadata": {},
     "output_type": "execute_result"
    }
   ],
   "source": [
    "# check\n",
    "df_all.columns"
   ]
  },
  {
   "cell_type": "markdown",
   "metadata": {},
   "source": [
    "## Clean\n",
    "### Definition\n",
    "\n",
    "Create a new column for age. current year - date of birth"
   ]
  },
  {
   "cell_type": "code",
   "execution_count": 216,
   "metadata": {},
   "outputs": [],
   "source": [
    "# create age column # data is from June 2017 to December 2018\n",
    "df_all[\"age\"] = 2018 - df_all.member_birth_year\n",
    "df_all.drop(\"member_birth_year\", axis = 1, inplace = True)"
   ]
  },
  {
   "cell_type": "markdown",
   "metadata": {},
   "source": [
    "## Test"
   ]
  },
  {
   "cell_type": "code",
   "execution_count": 217,
   "metadata": {},
   "outputs": [
    {
     "name": "stdout",
     "output_type": "stream",
     "text": [
      "<class 'pandas.core.frame.DataFrame'>\n",
      "RangeIndex: 2383421 entries, 0 to 2383420\n",
      "Data columns (total 21 columns):\n",
      "start_station_id           float64\n",
      "start_station_name         object\n",
      "start_station_latitude     float64\n",
      "start_station_longitude    float64\n",
      "end_station_id             float64\n",
      "end_station_name           object\n",
      "end_station_latitude       float64\n",
      "end_station_longitude      float64\n",
      "bike_id                    int64\n",
      "user_type                  object\n",
      "member_gender              object\n",
      "bike_share_for_all_trip    object\n",
      "start_date                 datetime64[ns]\n",
      "start_hour                 int64\n",
      "start_min                  int64\n",
      "end_date                   datetime64[ns]\n",
      "end_hour                   int64\n",
      "end_min                    int64\n",
      "start_weekday              object\n",
      "duration_min               float64\n",
      "age                        float64\n",
      "dtypes: datetime64[ns](2), float64(8), int64(5), object(6)\n",
      "memory usage: 381.9+ MB\n"
     ]
    }
   ],
   "source": [
    "# check\n",
    "df_all.info()"
   ]
  },
  {
   "cell_type": "markdown",
   "metadata": {},
   "source": [
    "> Accordning to Ford GObike service agreement, the user must be older than 18 years old."
   ]
  },
  {
   "cell_type": "markdown",
   "metadata": {},
   "source": [
    "## Clean\n",
    "\n",
    "### Definition \n",
    "several columns have wrong data types. Convert them."
   ]
  },
  {
   "cell_type": "code",
   "execution_count": 218,
   "metadata": {},
   "outputs": [],
   "source": [
    "# convert data types\n",
    "df_all[\"start_station_id\"] = df_all[\"start_station_id\"].astype(\"str\")\n",
    "df_all[\"end_station_id\"] = df_all[\"end_station_id\"].astype(\"str\")\n",
    "df_all[\"bike_id\"] = df_all[\"bike_id\"].astype(\"str\")\n",
    "df_all[\"member_gender\"] = df_all[\"member_gender\"].astype(\"category\")\n",
    "df_all[\"bike_share_for_all_trip\"] = df_all[\"bike_share_for_all_trip\"].astype(\"category\")\n",
    "df_all[\"start_weekday\"] = df_all[\"start_weekday\"].astype(\"category\")"
   ]
  },
  {
   "cell_type": "markdown",
   "metadata": {},
   "source": [
    "## Test"
   ]
  },
  {
   "cell_type": "code",
   "execution_count": 219,
   "metadata": {},
   "outputs": [
    {
     "name": "stdout",
     "output_type": "stream",
     "text": [
      "<class 'pandas.core.frame.DataFrame'>\n",
      "RangeIndex: 2383421 entries, 0 to 2383420\n",
      "Data columns (total 21 columns):\n",
      "start_station_id           object\n",
      "start_station_name         object\n",
      "start_station_latitude     float64\n",
      "start_station_longitude    float64\n",
      "end_station_id             object\n",
      "end_station_name           object\n",
      "end_station_latitude       float64\n",
      "end_station_longitude      float64\n",
      "bike_id                    object\n",
      "user_type                  object\n",
      "member_gender              category\n",
      "bike_share_for_all_trip    category\n",
      "start_date                 datetime64[ns]\n",
      "start_hour                 int64\n",
      "start_min                  int64\n",
      "end_date                   datetime64[ns]\n",
      "end_hour                   int64\n",
      "end_min                    int64\n",
      "start_weekday              category\n",
      "duration_min               float64\n",
      "age                        float64\n",
      "dtypes: category(3), datetime64[ns](2), float64(6), int64(4), object(6)\n",
      "memory usage: 334.1+ MB\n"
     ]
    }
   ],
   "source": [
    "# check\n",
    "df_all.info()"
   ]
  },
  {
   "cell_type": "code",
   "execution_count": 220,
   "metadata": {
    "scrolled": true
   },
   "outputs": [
    {
     "data": {
      "image/png": "[encoded data removed]",
      "text/plain": [
       "<Figure size 1080x720 with 12 Axes>"
      ]
     },
     "metadata": {
      "needs_background": "light"
     },
     "output_type": "display_data"
    }
   ],
   "source": [
    "# check qucik histogram\n",
    "df_all.hist(figsize=[15, 10]);"
   ]
  },
  {
   "cell_type": "markdown",
   "metadata": {},
   "source": [
    "> Outlier of Latitude and Longitude are the data with a missing station name. The data is from the next city.<p></p>\n",
    "> Age and start hour can be interesting to look at."
   ]
  },
  {
   "cell_type": "markdown",
   "metadata": {},
   "source": [
    "### What is/are the main feature(s) of interest in your dataset?\n",
    "\n",
    "- What kind of people are using this service?\n",
    "- How long do people use the service per trip?\n",
    "- when is do people use the service?\n",
    "- Where (which) is the most frequently used station?\n",
    "- What kind of changes can be seen over time?\n",
    "\n",
    "### What features in the dataset do you think will help support your investigation into your feature(s) of interest?\n",
    "\n",
    "- Gender, age, bike_share_for_all_trip, user type, start_hour, weekday, month, date \n",
    "> With these variables I should be able to find some insights."
   ]
  },
  {
   "cell_type": "markdown",
   "metadata": {},
   "source": [
    "## Univariate Exploration\n"
   ]
  },
  {
   "cell_type": "code",
   "execution_count": 221,
   "metadata": {
    "scrolled": false
   },
   "outputs": [
    {
     "data": {
      "image/png": "[encoded data removed]",
      "text/plain": [
       "<Figure size 432x288 with 1 Axes>"
      ]
     },
     "metadata": {},
     "output_type": "display_data"
    }
   ],
   "source": [
    "# plot gender\n",
    "gender = df_all.groupby(\"member_gender\").size()\n",
    "sorted_counts = gender.sort_values()\n",
    "plt.pie(sorted_counts, labels = sorted_counts.index, startangle = 90, counterclock = False, autopct = '%1.1f%%')\n",
    "plt.axis(\"square\")\n",
    "plt.title(\"Gender ratio\");"
   ]
  },
  {
   "cell_type": "markdown",
   "metadata": {},
   "source": [
    "> more than 70% of user are male. Now I am going to check user age."
   ]
  },
  {
   "cell_type": "code",
   "execution_count": 222,
   "metadata": {
    "scrolled": false
   },
   "outputs": [
    {
     "data": {
      "image/png": "[encoded data removed]",
      "text/plain": [
       "<Figure size 432x288 with 1 Axes>"
      ]
     },
     "metadata": {
      "needs_background": "light"
     },
     "output_type": "display_data"
    }
   ],
   "source": [
    "# check customer type\n",
    "# get base blue color\n",
    "base_color = sns.color_palette()[0]\n",
    "sns.countplot(data = df_all, x = \"user_type\", color = base_color)\n",
    "\n",
    "# create % annot\n",
    "\n",
    "n_point = df_all.shape[0]\n",
    "cat_counts = df_all[\"user_type\"].value_counts()\n",
    "# get the current x location and label\n",
    "locs, labels = plt.xticks()\n",
    "\n",
    "# loop through each pair of location and label\n",
    "for loc, label in zip(locs, labels):\n",
    "    count = cat_counts[label.get_text()]\n",
    "    pct_string = '{:0.2f}%'.format(100 * count / n_point)\n",
    "    plt.text(loc, count-150000, pct_string, ha = 'center', color = 'w')\n",
    "\n",
    "# get % in y axis\n",
    "max_counts = df_all[\"user_type\"].value_counts().max()\n",
    "max_prop = max_counts / n_point\n",
    "tick_props = np.arange(0, max_prop + 0.2, 0.1)\n",
    "tick_names = ['{:0.2f}%'.format(v) for v in tick_props]\n",
    "plt.yticks(tick_props * n_point, tick_names)\n",
    "\n",
    "plt.title(\"User type ratio\");"
   ]
  },
  {
   "cell_type": "markdown",
   "metadata": {},
   "source": [
    "> More than 80% of people are  subscriber."
   ]
  },
  {
   "cell_type": "code",
   "execution_count": 223,
   "metadata": {
    "scrolled": false
   },
   "outputs": [
    {
     "data": {
      "text/plain": [
       "Text(0.5, 1.0, 'Ratio of Bike share for all trip service member')"
      ]
     },
     "execution_count": 223,
     "metadata": {},
     "output_type": "execute_result"
    },
    {
     "data": {
      "image/png": "[encoded data removed]",
      "text/plain": [
       "<Figure size 432x288 with 1 Axes>"
      ]
     },
     "metadata": {
      "needs_background": "light"
     },
     "output_type": "display_data"
    }
   ],
   "source": [
    "# bike share service\n",
    "\n",
    "base_palette = sns.color_palette()[0]\n",
    "sns.countplot(data = df_all, x = \"bike_share_for_all_trip\", color = base_color)\n",
    "\n",
    "# get % y axis\n",
    "\n",
    "n_point = df_all.shape[0]\n",
    "max_count = df_all[\"bike_share_for_all_trip\"].value_counts().max()\n",
    "max_prop = max_count / n_point\n",
    "\n",
    "tick_props = np.arange(0, max_prop + 0.1, 0.1)\n",
    "tcik_names = ['{:0.2f}%'.format(v) for v in tick_props]\n",
    "plt.yticks(tick_props * n_point, tick_names)\n",
    "\n",
    "# get x %\n",
    "cat_counts = df_all[\"bike_share_for_all_trip\"].value_counts()\n",
    "locs, labels = plt.xticks()\n",
    "\n",
    "for loc, label in zip(locs, labels):\n",
    "    count = cat_counts[label.get_text()]\n",
    "    pct_string = '{:0.2f}%'.format(100 * count / n_point)\n",
    "    plt.text(loc, count - 140000, pct_string, ha = \"center\", color = \"w\")\n",
    "\n",
    "plt.title(\"Ratio of Bike share for all trip service member\")\n"
   ]
  },
  {
   "cell_type": "markdown",
   "metadata": {},
   "source": [
    "> More than 90% of user is not part of the bike_share_for_all_trip. This makes sense as the service is only for people qualify for sertain requirements. https://www.fordgobike.com/pricing/bikeshareforall"
   ]
  },
  {
   "cell_type": "code",
   "execution_count": 224,
   "metadata": {
    "scrolled": true
   },
   "outputs": [
    {
     "data": {
      "text/plain": [
       "count    2.206162e+06\n",
       "mean     3.546318e+01\n",
       "std      1.051346e+01\n",
       "min      1.800000e+01\n",
       "25%      2.800000e+01\n",
       "50%      3.300000e+01\n",
       "75%      4.100000e+01\n",
       "max      1.370000e+02\n",
       "Name: age, dtype: float64"
      ]
     },
     "execution_count": 224,
     "metadata": {},
     "output_type": "execute_result"
    }
   ],
   "source": [
    "# age summary statistic\n",
    "df_all.age.describe()"
   ]
  },
  {
   "cell_type": "markdown",
   "metadata": {},
   "source": [
    "> It makes sense that a start age is 18, as the Ford GoBike terms and condition insists that user has to be at least 18. However, people with 137 years old are questionable."
   ]
  },
  {
   "cell_type": "code",
   "execution_count": 225,
   "metadata": {
    "scrolled": true
   },
   "outputs": [
    {
     "data": {
      "image/png": "[encoded data removed]",
      "text/plain": [
       "<Figure size 432x288 with 1 Axes>"
      ]
     },
     "metadata": {
      "needs_background": "light"
     },
     "output_type": "display_data"
    }
   ],
   "source": [
    "# plot hist\n",
    "bin_edges = np.arange(18, df_all.age.max() +2, 2)\n",
    "\n",
    "# set lims between 18 years old and 100\n",
    "plt.xlim(18, 100)\n",
    "plt.hist(data = df_all, x = \"age\", bins = bin_edges)\n",
    "plt.xlabel(\"Age\")\n",
    "plt.ylabel(\"Count\");"
   ]
  },
  {
   "cell_type": "markdown",
   "metadata": {},
   "source": [
    "> A peak is around at 30 years old and the distribution is skewed."
   ]
  },
  {
   "cell_type": "code",
   "execution_count": 226,
   "metadata": {
    "scrolled": false
   },
   "outputs": [
    {
     "data": {
      "image/png": "[encoded data removed]",
      "text/plain": [
       "<Figure size 360x360 with 1 Axes>"
      ]
     },
     "metadata": {
      "needs_background": "light"
     },
     "output_type": "display_data"
    }
   ],
   "source": [
    "# hist service usage time per trip\n",
    "plt.figure(figsize=[5, 5])\n",
    "\n",
    "# 1 min bins\n",
    "bin_edges = np.arange(0, df_all[\"duration_min\"].max() + 1, 1)\n",
    "# focus on data below 100 min\n",
    "plt.xlim(0, 100)\n",
    "plt.hist(data = df_all, x = \"duration_min\", bins = bin_edges)\n",
    "plt.xlabel(\"Duration of service usage (min)\")\n",
    "plt.ylabel(\"Count\");"
   ]
  },
  {
   "cell_type": "code",
   "execution_count": 227,
   "metadata": {
    "scrolled": true
   },
   "outputs": [
    {
     "data": {
      "text/plain": [
       "count    2.383421e+06\n",
       "mean     1.516677e+01\n",
       "std      4.406442e+01\n",
       "min      1.016667e+00\n",
       "25%      5.950000e+00\n",
       "50%      9.400000e+00\n",
       "75%      1.475000e+01\n",
       "max      1.439483e+03\n",
       "Name: duration_min, dtype: float64"
      ]
     },
     "execution_count": 227,
     "metadata": {},
     "output_type": "execute_result"
    }
   ],
   "source": [
    "# check summary statistic\n",
    "df_all[\"duration_min\"].describe()"
   ]
  },
  {
   "cell_type": "markdown",
   "metadata": {},
   "source": [
    "> According to the official website (https://www.fordgobike.com/pricing), their are 4 major types of pricing.\n",
    "<ol>\n",
    "    <li>2 dollar per trip / max 30 min</li>\n",
    "    <li>10 dollar a day / unlimited 30 min ride</li>\n",
    "    <li>15 dollar a month / unlimited 45min trips</li>\n",
    "    <li>Bike Share For All 5 dollar for the first year / 60 min trip</li>"
   ]
  },
  {
   "cell_type": "markdown",
   "metadata": {},
   "source": [
    "> Looking at the price systems, it makes sense that a peak is below 30min and there are some user for around 40 to 45 minutes uses as well as around 60 min uses."
   ]
  },
  {
   "cell_type": "code",
   "execution_count": 228,
   "metadata": {},
   "outputs": [
    {
     "data": {
      "text/plain": [
       "Text(0.5, 1.0, 'Weekdays usage frequency')"
      ]
     },
     "execution_count": 228,
     "metadata": {},
     "output_type": "execute_result"
    },
    {
     "data": {
      "image/png": "[encoded data removed]",
      "text/plain": [
       "<Figure size 432x288 with 1 Axes>"
      ]
     },
     "metadata": {
      "needs_background": "light"
     },
     "output_type": "display_data"
    }
   ],
   "source": [
    "# set category order\n",
    "level_order = [\"Mon\", \"Tue\", \"Wed\", \"Thu\", \"Fri\", \"Sat\", \"Sun\"]\n",
    "ordered_cat = pd.api.types.CategoricalDtype(ordered = True, categories = level_order)\n",
    "\n",
    "# assign the order\n",
    "df_all[\"start_weekday\"] = df_all[\"start_weekday\"].astype(ordered_cat)\n",
    "\n",
    "# plot\n",
    "base_color = sns.color_palette()[0]\n",
    "sns.countplot(data = df_all, x = \"start_weekday\", color = base_color)\n",
    "plt.title(\"Weekdays usage frequency\")"
   ]
  },
  {
   "cell_type": "markdown",
   "metadata": {},
   "source": [
    "> There are less users on weekends. Tuesday, Wednesday and Thursday are the most popular weekdays."
   ]
  },
  {
   "cell_type": "code",
   "execution_count": 229,
   "metadata": {},
   "outputs": [
    {
     "data": {
      "text/html": [
       "<div>\n",
       "<style scoped>\n",
       "    .dataframe tbody tr th:only-of-type {\n",
       "        vertical-align: middle;\n",
       "    }\n",
       "\n",
       "    .dataframe tbody tr th {\n",
       "        vertical-align: top;\n",
       "    }\n",
       "\n",
       "    .dataframe thead th {\n",
       "        text-align: right;\n",
       "    }\n",
       "</style>\n",
       "<table border=\"1\" class=\"dataframe\">\n",
       "  <thead>\n",
       "    <tr style=\"text-align: right;\">\n",
       "      <th></th>\n",
       "      <th>start_station_id</th>\n",
       "      <th>start_station_name</th>\n",
       "      <th>start_station_latitude</th>\n",
       "      <th>start_station_longitude</th>\n",
       "      <th>end_station_id</th>\n",
       "      <th>end_station_name</th>\n",
       "      <th>end_station_latitude</th>\n",
       "      <th>end_station_longitude</th>\n",
       "      <th>bike_id</th>\n",
       "      <th>user_type</th>\n",
       "      <th>...</th>\n",
       "      <th>bike_share_for_all_trip</th>\n",
       "      <th>start_date</th>\n",
       "      <th>start_hour</th>\n",
       "      <th>start_min</th>\n",
       "      <th>end_date</th>\n",
       "      <th>end_hour</th>\n",
       "      <th>end_min</th>\n",
       "      <th>start_weekday</th>\n",
       "      <th>duration_min</th>\n",
       "      <th>age</th>\n",
       "    </tr>\n",
       "  </thead>\n",
       "  <tbody>\n",
       "    <tr>\n",
       "      <th>0</th>\n",
       "      <td>74.0</td>\n",
       "      <td>Laguna St at Hayes St</td>\n",
       "      <td>37.776435</td>\n",
       "      <td>-122.426244</td>\n",
       "      <td>43.0</td>\n",
       "      <td>San Francisco Public Library (Grove St at Hyde...</td>\n",
       "      <td>37.778768</td>\n",
       "      <td>-122.415929</td>\n",
       "      <td>96</td>\n",
       "      <td>Customer</td>\n",
       "      <td>...</td>\n",
       "      <td>No</td>\n",
       "      <td>2017-12-31</td>\n",
       "      <td>16</td>\n",
       "      <td>57</td>\n",
       "      <td>2018-01-01</td>\n",
       "      <td>15</td>\n",
       "      <td>12</td>\n",
       "      <td>Sun</td>\n",
       "      <td>1335.166667</td>\n",
       "      <td>31.0</td>\n",
       "    </tr>\n",
       "    <tr>\n",
       "      <th>1</th>\n",
       "      <td>284.0</td>\n",
       "      <td>Yerba Buena Center for the Arts (Howard St at ...</td>\n",
       "      <td>37.784872</td>\n",
       "      <td>-122.400876</td>\n",
       "      <td>96.0</td>\n",
       "      <td>Dolores St at 15th St</td>\n",
       "      <td>37.766210</td>\n",
       "      <td>-122.426614</td>\n",
       "      <td>88</td>\n",
       "      <td>Customer</td>\n",
       "      <td>...</td>\n",
       "      <td>No</td>\n",
       "      <td>2017-12-31</td>\n",
       "      <td>15</td>\n",
       "      <td>56</td>\n",
       "      <td>2018-01-01</td>\n",
       "      <td>13</td>\n",
       "      <td>49</td>\n",
       "      <td>Sun</td>\n",
       "      <td>1313.333333</td>\n",
       "      <td>53.0</td>\n",
       "    </tr>\n",
       "    <tr>\n",
       "      <th>2</th>\n",
       "      <td>245.0</td>\n",
       "      <td>Downtown Berkeley BART</td>\n",
       "      <td>37.870348</td>\n",
       "      <td>-122.267764</td>\n",
       "      <td>245.0</td>\n",
       "      <td>Downtown Berkeley BART</td>\n",
       "      <td>37.870348</td>\n",
       "      <td>-122.267764</td>\n",
       "      <td>1094</td>\n",
       "      <td>Customer</td>\n",
       "      <td>...</td>\n",
       "      <td>No</td>\n",
       "      <td>2017-12-31</td>\n",
       "      <td>22</td>\n",
       "      <td>45</td>\n",
       "      <td>2018-01-01</td>\n",
       "      <td>11</td>\n",
       "      <td>28</td>\n",
       "      <td>Sun</td>\n",
       "      <td>762.800000</td>\n",
       "      <td>NaN</td>\n",
       "    </tr>\n",
       "    <tr>\n",
       "      <th>3</th>\n",
       "      <td>60.0</td>\n",
       "      <td>8th St at Ringold St</td>\n",
       "      <td>37.774520</td>\n",
       "      <td>-122.409449</td>\n",
       "      <td>5.0</td>\n",
       "      <td>Powell St BART Station (Market St at 5th St)</td>\n",
       "      <td>37.783899</td>\n",
       "      <td>-122.408445</td>\n",
       "      <td>2831</td>\n",
       "      <td>Customer</td>\n",
       "      <td>...</td>\n",
       "      <td>No</td>\n",
       "      <td>2017-12-31</td>\n",
       "      <td>17</td>\n",
       "      <td>31</td>\n",
       "      <td>2018-01-01</td>\n",
       "      <td>10</td>\n",
       "      <td>47</td>\n",
       "      <td>Sun</td>\n",
       "      <td>1036.200000</td>\n",
       "      <td>NaN</td>\n",
       "    </tr>\n",
       "    <tr>\n",
       "      <th>4</th>\n",
       "      <td>239.0</td>\n",
       "      <td>Bancroft Way at Telegraph Ave</td>\n",
       "      <td>37.868813</td>\n",
       "      <td>-122.258764</td>\n",
       "      <td>247.0</td>\n",
       "      <td>Fulton St at Bancroft Way</td>\n",
       "      <td>37.867789</td>\n",
       "      <td>-122.265896</td>\n",
       "      <td>3167</td>\n",
       "      <td>Subscriber</td>\n",
       "      <td>...</td>\n",
       "      <td>No</td>\n",
       "      <td>2017-12-31</td>\n",
       "      <td>14</td>\n",
       "      <td>23</td>\n",
       "      <td>2018-01-01</td>\n",
       "      <td>2</td>\n",
       "      <td>29</td>\n",
       "      <td>Sun</td>\n",
       "      <td>726.716667</td>\n",
       "      <td>21.0</td>\n",
       "    </tr>\n",
       "  </tbody>\n",
       "</table>\n",
       "<p>5 rows × 21 columns</p>\n",
       "</div>"
      ],
      "text/plain": [
       "  start_station_id                                 start_station_name  \\\n",
       "0             74.0                              Laguna St at Hayes St   \n",
       "1            284.0  Yerba Buena Center for the Arts (Howard St at ...   \n",
       "2            245.0                             Downtown Berkeley BART   \n",
       "3             60.0                               8th St at Ringold St   \n",
       "4            239.0                      Bancroft Way at Telegraph Ave   \n",
       "\n",
       "   start_station_latitude  start_station_longitude end_station_id  \\\n",
       "0               37.776435              -122.426244           43.0   \n",
       "1               37.784872              -122.400876           96.0   \n",
       "2               37.870348              -122.267764          245.0   \n",
       "3               37.774520              -122.409449            5.0   \n",
       "4               37.868813              -122.258764          247.0   \n",
       "\n",
       "                                    end_station_name  end_station_latitude  \\\n",
       "0  San Francisco Public Library (Grove St at Hyde...             37.778768   \n",
       "1                              Dolores St at 15th St             37.766210   \n",
       "2                             Downtown Berkeley BART             37.870348   \n",
       "3       Powell St BART Station (Market St at 5th St)             37.783899   \n",
       "4                          Fulton St at Bancroft Way             37.867789   \n",
       "\n",
       "   end_station_longitude bike_id   user_type  ...  bike_share_for_all_trip  \\\n",
       "0            -122.415929      96    Customer  ...                       No   \n",
       "1            -122.426614      88    Customer  ...                       No   \n",
       "2            -122.267764    1094    Customer  ...                       No   \n",
       "3            -122.408445    2831    Customer  ...                       No   \n",
       "4            -122.265896    3167  Subscriber  ...                       No   \n",
       "\n",
       "  start_date start_hour  start_min   end_date end_hour  end_min  \\\n",
       "0 2017-12-31         16         57 2018-01-01       15       12   \n",
       "1 2017-12-31         15         56 2018-01-01       13       49   \n",
       "2 2017-12-31         22         45 2018-01-01       11       28   \n",
       "3 2017-12-31         17         31 2018-01-01       10       47   \n",
       "4 2017-12-31         14         23 2018-01-01        2       29   \n",
       "\n",
       "   start_weekday duration_min   age  \n",
       "0            Sun  1335.166667  31.0  \n",
       "1            Sun  1313.333333  53.0  \n",
       "2            Sun   762.800000   NaN  \n",
       "3            Sun  1036.200000   NaN  \n",
       "4            Sun   726.716667  21.0  \n",
       "\n",
       "[5 rows x 21 columns]"
      ]
     },
     "execution_count": 229,
     "metadata": {},
     "output_type": "execute_result"
    }
   ],
   "source": [
    "df_all.head()"
   ]
  },
  {
   "cell_type": "code",
   "execution_count": 230,
   "metadata": {
    "scrolled": true
   },
   "outputs": [],
   "source": [
    "# function to round up\n",
    "def round_up(col):\n",
    "    ''' if time is more than 30 minutes, round up'''\n",
    "    if col > 30:\n",
    "        return 1\n",
    "    else:\n",
    "        return 0\n",
    "\n",
    "# round up start hour and delete columns which I will not use\n",
    "df_all[\"start_hour\"] = df_all[\"start_hour\"] + df_all[\"start_min\"].apply(round_up)\n",
    "df_all.drop(columns = [\"start_min\", \"end_hour\", \"end_min\"], axis = 1, inplace = True)"
   ]
  },
  {
   "cell_type": "code",
   "execution_count": 231,
   "metadata": {},
   "outputs": [],
   "source": [
    "# change 25 to 0 am\n",
    "df_all.loc[df_all.start_hour == 25, \"start_hour\"] = 0"
   ]
  },
  {
   "cell_type": "code",
   "execution_count": 232,
   "metadata": {
    "scrolled": true
   },
   "outputs": [
    {
     "data": {
      "text/plain": [
       "Index(['start_station_id', 'start_station_name', 'start_station_latitude',\n",
       "       'start_station_longitude', 'end_station_id', 'end_station_name',\n",
       "       'end_station_latitude', 'end_station_longitude', 'bike_id', 'user_type',\n",
       "       'member_gender', 'bike_share_for_all_trip', 'start_date', 'start_hour',\n",
       "       'end_date', 'start_weekday', 'duration_min', 'age'],\n",
       "      dtype='object')"
      ]
     },
     "execution_count": 232,
     "metadata": {},
     "output_type": "execute_result"
    }
   ],
   "source": [
    "# test\n",
    "df_all.columns"
   ]
  },
  {
   "cell_type": "code",
   "execution_count": 233,
   "metadata": {},
   "outputs": [
    {
     "data": {
      "image/png": "[encoded data removed]",
      "text/plain": [
       "<Figure size 432x288 with 1 Axes>"
      ]
     },
     "metadata": {
      "needs_background": "light"
     },
     "output_type": "display_data"
    }
   ],
   "source": [
    "bin_edges = np.arange(0, 24 +1, 1)\n",
    "plt.hist(data = df_all, x = \"start_hour\", bins = bin_edges)\n",
    "plt.xticks(np.arange(0, 24 +1))\n",
    "plt.title(\"Frequent usage time\")\n",
    "plt.xlabel(\"service start time\")\n",
    "plt.ylabel(\"Count\");"
   ]
  },
  {
   "cell_type": "markdown",
   "metadata": {},
   "source": [
    ">There are 2 peaks which are between 8 to 11 and between 17 to 20. People are using the service to commute to work and college or University??"
   ]
  },
  {
   "cell_type": "code",
   "execution_count": 234,
   "metadata": {
    "scrolled": false
   },
   "outputs": [
    {
     "data": {
      "text/plain": [
       "user_type\n",
       "Customer      35.037661\n",
       "Subscriber    11.271565\n",
       "Name: duration_min, dtype: float64"
      ]
     },
     "execution_count": 234,
     "metadata": {},
     "output_type": "execute_result"
    }
   ],
   "source": [
    "df_all.groupby(\"user_type\").mean().duration_min"
   ]
  },
  {
   "cell_type": "markdown",
   "metadata": {},
   "source": [
    "> A customer type (causal usage) has more longer usage time in average. "
   ]
  },
  {
   "cell_type": "code",
   "execution_count": 235,
   "metadata": {},
   "outputs": [
    {
     "data": {
      "text/plain": [
       "bike_share_for_all_trip\n",
       "No     15.351004\n",
       "Yes    12.646077\n",
       "Name: duration_min, dtype: float64"
      ]
     },
     "execution_count": 235,
     "metadata": {},
     "output_type": "execute_result"
    }
   ],
   "source": [
    "df_all.groupby(\"bike_share_for_all_trip\").mean().duration_min"
   ]
  },
  {
   "cell_type": "markdown",
   "metadata": {},
   "source": [
    "> Even though the bike_share_for_all_trip entitled user can use the service longer per trip, non- entitled user rides more in average."
   ]
  },
  {
   "cell_type": "code",
   "execution_count": 238,
   "metadata": {
    "scrolled": true
   },
   "outputs": [],
   "source": [
    "date = df_all.groupby(\"start_date\").size()"
   ]
  },
  {
   "cell_type": "code",
   "execution_count": 249,
   "metadata": {},
   "outputs": [
    {
     "data": {
      "image/png": "[encoded data removed]",
      "text/plain": [
       "<Figure size 720x360 with 1 Axes>"
      ]
     },
     "metadata": {
      "needs_background": "light"
     },
     "output_type": "display_data"
    }
   ],
   "source": [
    "# plot average bike share over time\n",
    "plt.figure(figsize=[10, 5])\n",
    "\n",
    "# plot\n",
    "sns.lineplot(data = date)\n",
    "\n",
    "# set title and labels\n",
    "plt.title(\"Average bike share over time\")\n",
    "plt.xlabel(\"Time\")\n",
    "plt.ylabel(\"Average service usage\");\n"
   ]
  },
  {
   "cell_type": "code",
   "execution_count": null,
   "metadata": {},
   "outputs": [],
   "source": []
  }
 ],
 "metadata": {
  "kernelspec": {
   "display_name": "Python 3",
   "language": "python",
   "name": "python3"
  },
  "language_info": {
   "codemirror_mode": {
    "name": "ipython",
    "version": 3
   },
   "file_extension": ".py",
   "mimetype": "text/x-python",
   "name": "python",
   "nbconvert_exporter": "python",
   "pygments_lexer": "ipython3",
   "version": "3.7.1"
  }
 },
 "nbformat": 4,
 "nbformat_minor": 2
}
