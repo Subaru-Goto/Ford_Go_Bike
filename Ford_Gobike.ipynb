{
 "cells": [
  {
   "cell_type": "markdown",
   "metadata": {},
   "source": [
    "## Ford_Gobike_Systems\n",
    "## by Subaru Goto\n",
    "\n",
    "## Preliminary Wrangling\n",
    "\n",
    "> This data set includes information about individual rides made in a bike-sharing system covering the greater San Francisco Bay area. This service has started since June 2017. Therefore, there is data from June 2017 to December 2018. The data set can be downloaded from https://www.fordgobike.com/system-data ."
   ]
  },
  {
   "cell_type": "code",
   "execution_count": 1,
   "metadata": {},
   "outputs": [],
   "source": [
    "# import modules\n",
    "import pandas as pd\n",
    "import numpy as np\n",
    "import matplotlib.pyplot as plt\n",
    "import seaborn as sns\n",
    "import glob\n",
    "\n",
    "%matplotlib inline"
   ]
  },
  {
   "cell_type": "code",
   "execution_count": 2,
   "metadata": {
    "scrolled": false
   },
   "outputs": [],
   "source": [
    "# open several zip files\n",
    "# http://cracktechinterviews.com/Article.aspx?BlogID=21&Title=How-to-import-multiple-files-into-Pandas-data-frame-efficiently?\n",
    "# get all the zip files\n",
    "zip_files = glob.glob('2018*-fordgobike-tripdata.csv.zip')\n",
    "# initialize the list for data frame\n",
    "file_lists = []\n",
    "\n",
    "for file in zip_files:\n",
    "    \n",
    "    data = pd.read_csv(file, header = 0, sep = \",\")\n",
    "    file_lists.append(data)\n",
    "\n",
    "# merge\n",
    "df_2018 = pd.concat(file_lists, ignore_index = True)"
   ]
  },
  {
   "cell_type": "code",
   "execution_count": 3,
   "metadata": {
    "scrolled": false
   },
   "outputs": [
    {
     "data": {
      "text/html": [
       "<div>\n",
       "<style scoped>\n",
       "    .dataframe tbody tr th:only-of-type {\n",
       "        vertical-align: middle;\n",
       "    }\n",
       "\n",
       "    .dataframe tbody tr th {\n",
       "        vertical-align: top;\n",
       "    }\n",
       "\n",
       "    .dataframe thead th {\n",
       "        text-align: right;\n",
       "    }\n",
       "</style>\n",
       "<table border=\"1\" class=\"dataframe\">\n",
       "  <thead>\n",
       "    <tr style=\"text-align: right;\">\n",
       "      <th></th>\n",
       "      <th>duration_sec</th>\n",
       "      <th>start_time</th>\n",
       "      <th>end_time</th>\n",
       "      <th>start_station_id</th>\n",
       "      <th>start_station_name</th>\n",
       "      <th>start_station_latitude</th>\n",
       "      <th>start_station_longitude</th>\n",
       "      <th>end_station_id</th>\n",
       "      <th>end_station_name</th>\n",
       "      <th>end_station_latitude</th>\n",
       "      <th>end_station_longitude</th>\n",
       "      <th>bike_id</th>\n",
       "      <th>user_type</th>\n",
       "      <th>member_birth_year</th>\n",
       "      <th>member_gender</th>\n",
       "      <th>bike_share_for_all_trip</th>\n",
       "    </tr>\n",
       "  </thead>\n",
       "  <tbody>\n",
       "    <tr>\n",
       "      <th>1863716</th>\n",
       "      <td>473</td>\n",
       "      <td>2018-12-01 00:11:54.8110</td>\n",
       "      <td>2018-12-01 00:19:48.5470</td>\n",
       "      <td>345.0</td>\n",
       "      <td>Hubbell St at 16th St</td>\n",
       "      <td>37.766474</td>\n",
       "      <td>-122.398295</td>\n",
       "      <td>81.0</td>\n",
       "      <td>Berry St at 4th St</td>\n",
       "      <td>37.775880</td>\n",
       "      <td>-122.393170</td>\n",
       "      <td>3035</td>\n",
       "      <td>Subscriber</td>\n",
       "      <td>1982.0</td>\n",
       "      <td>Female</td>\n",
       "      <td>No</td>\n",
       "    </tr>\n",
       "    <tr>\n",
       "      <th>1863717</th>\n",
       "      <td>841</td>\n",
       "      <td>2018-12-01 00:02:48.7260</td>\n",
       "      <td>2018-12-01 00:16:49.7660</td>\n",
       "      <td>10.0</td>\n",
       "      <td>Washington St at Kearny St</td>\n",
       "      <td>37.795393</td>\n",
       "      <td>-122.404770</td>\n",
       "      <td>58.0</td>\n",
       "      <td>Market St at 10th St</td>\n",
       "      <td>37.776619</td>\n",
       "      <td>-122.417385</td>\n",
       "      <td>2034</td>\n",
       "      <td>Subscriber</td>\n",
       "      <td>1999.0</td>\n",
       "      <td>Female</td>\n",
       "      <td>No</td>\n",
       "    </tr>\n",
       "    <tr>\n",
       "      <th>1863718</th>\n",
       "      <td>260</td>\n",
       "      <td>2018-12-01 00:05:27.6150</td>\n",
       "      <td>2018-12-01 00:09:47.9560</td>\n",
       "      <td>245.0</td>\n",
       "      <td>Downtown Berkeley BART</td>\n",
       "      <td>37.870139</td>\n",
       "      <td>-122.268422</td>\n",
       "      <td>255.0</td>\n",
       "      <td>Virginia St at Shattuck Ave</td>\n",
       "      <td>37.876573</td>\n",
       "      <td>-122.269528</td>\n",
       "      <td>2243</td>\n",
       "      <td>Subscriber</td>\n",
       "      <td>1991.0</td>\n",
       "      <td>Male</td>\n",
       "      <td>No</td>\n",
       "    </tr>\n",
       "    <tr>\n",
       "      <th>1863719</th>\n",
       "      <td>292</td>\n",
       "      <td>2018-12-01 00:03:06.5490</td>\n",
       "      <td>2018-12-01 00:07:59.0800</td>\n",
       "      <td>93.0</td>\n",
       "      <td>4th St at Mission Bay Blvd S</td>\n",
       "      <td>37.770407</td>\n",
       "      <td>-122.391198</td>\n",
       "      <td>126.0</td>\n",
       "      <td>Esprit Park</td>\n",
       "      <td>37.761634</td>\n",
       "      <td>-122.390648</td>\n",
       "      <td>545</td>\n",
       "      <td>Subscriber</td>\n",
       "      <td>1963.0</td>\n",
       "      <td>Male</td>\n",
       "      <td>No</td>\n",
       "    </tr>\n",
       "    <tr>\n",
       "      <th>1863720</th>\n",
       "      <td>150</td>\n",
       "      <td>2018-12-01 00:03:05.7420</td>\n",
       "      <td>2018-12-01 00:05:36.0260</td>\n",
       "      <td>107.0</td>\n",
       "      <td>17th St at Dolores St</td>\n",
       "      <td>37.763015</td>\n",
       "      <td>-122.426497</td>\n",
       "      <td>119.0</td>\n",
       "      <td>18th St at Noe St</td>\n",
       "      <td>37.761047</td>\n",
       "      <td>-122.432642</td>\n",
       "      <td>4319</td>\n",
       "      <td>Subscriber</td>\n",
       "      <td>NaN</td>\n",
       "      <td>NaN</td>\n",
       "      <td>No</td>\n",
       "    </tr>\n",
       "  </tbody>\n",
       "</table>\n",
       "</div>"
      ],
      "text/plain": [
       "         duration_sec                start_time                  end_time  \\\n",
       "1863716           473  2018-12-01 00:11:54.8110  2018-12-01 00:19:48.5470   \n",
       "1863717           841  2018-12-01 00:02:48.7260  2018-12-01 00:16:49.7660   \n",
       "1863718           260  2018-12-01 00:05:27.6150  2018-12-01 00:09:47.9560   \n",
       "1863719           292  2018-12-01 00:03:06.5490  2018-12-01 00:07:59.0800   \n",
       "1863720           150  2018-12-01 00:03:05.7420  2018-12-01 00:05:36.0260   \n",
       "\n",
       "         start_station_id            start_station_name  \\\n",
       "1863716             345.0         Hubbell St at 16th St   \n",
       "1863717              10.0    Washington St at Kearny St   \n",
       "1863718             245.0        Downtown Berkeley BART   \n",
       "1863719              93.0  4th St at Mission Bay Blvd S   \n",
       "1863720             107.0         17th St at Dolores St   \n",
       "\n",
       "         start_station_latitude  start_station_longitude  end_station_id  \\\n",
       "1863716               37.766474              -122.398295            81.0   \n",
       "1863717               37.795393              -122.404770            58.0   \n",
       "1863718               37.870139              -122.268422           255.0   \n",
       "1863719               37.770407              -122.391198           126.0   \n",
       "1863720               37.763015              -122.426497           119.0   \n",
       "\n",
       "                    end_station_name  end_station_latitude  \\\n",
       "1863716           Berry St at 4th St             37.775880   \n",
       "1863717         Market St at 10th St             37.776619   \n",
       "1863718  Virginia St at Shattuck Ave             37.876573   \n",
       "1863719                  Esprit Park             37.761634   \n",
       "1863720            18th St at Noe St             37.761047   \n",
       "\n",
       "         end_station_longitude  bike_id   user_type  member_birth_year  \\\n",
       "1863716            -122.393170     3035  Subscriber             1982.0   \n",
       "1863717            -122.417385     2034  Subscriber             1999.0   \n",
       "1863718            -122.269528     2243  Subscriber             1991.0   \n",
       "1863719            -122.390648      545  Subscriber             1963.0   \n",
       "1863720            -122.432642     4319  Subscriber                NaN   \n",
       "\n",
       "        member_gender bike_share_for_all_trip  \n",
       "1863716        Female                      No  \n",
       "1863717        Female                      No  \n",
       "1863718          Male                      No  \n",
       "1863719          Male                      No  \n",
       "1863720           NaN                      No  "
      ]
     },
     "execution_count": 3,
     "metadata": {},
     "output_type": "execute_result"
    }
   ],
   "source": [
    "# check df\n",
    "df_2018.tail()"
   ]
  },
  {
   "cell_type": "code",
   "execution_count": 4,
   "metadata": {
    "scrolled": true
   },
   "outputs": [
    {
     "name": "stdout",
     "output_type": "stream",
     "text": [
      "<class 'pandas.core.frame.DataFrame'>\n",
      "RangeIndex: 1863721 entries, 0 to 1863720\n",
      "Data columns (total 16 columns):\n",
      "duration_sec               int64\n",
      "start_time                 object\n",
      "end_time                   object\n",
      "start_station_id           float64\n",
      "start_station_name         object\n",
      "start_station_latitude     float64\n",
      "start_station_longitude    float64\n",
      "end_station_id             float64\n",
      "end_station_name           object\n",
      "end_station_latitude       float64\n",
      "end_station_longitude      float64\n",
      "bike_id                    int64\n",
      "user_type                  object\n",
      "member_birth_year          float64\n",
      "member_gender              object\n",
      "bike_share_for_all_trip    object\n",
      "dtypes: float64(7), int64(2), object(7)\n",
      "memory usage: 227.5+ MB\n"
     ]
    }
   ],
   "source": [
    "# check info\n",
    "df_2018.info()"
   ]
  },
  {
   "cell_type": "code",
   "execution_count": 5,
   "metadata": {
    "scrolled": true
   },
   "outputs": [
    {
     "data": {
      "text/plain": [
       "duration_sec               0.000000\n",
       "start_time                 0.000000\n",
       "end_time                   0.000000\n",
       "start_station_id           0.006316\n",
       "start_station_name         0.006316\n",
       "start_station_latitude     0.000000\n",
       "start_station_longitude    0.000000\n",
       "end_station_id             0.006316\n",
       "end_station_name           0.006316\n",
       "end_station_latitude       0.000000\n",
       "end_station_longitude      0.000000\n",
       "bike_id                    0.000000\n",
       "user_type                  0.000000\n",
       "member_birth_year          0.059407\n",
       "member_gender              0.059219\n",
       "bike_share_for_all_trip    0.000000\n",
       "dtype: float64"
      ]
     },
     "execution_count": 5,
     "metadata": {},
     "output_type": "execute_result"
    }
   ],
   "source": [
    "# check na\n",
    "df_2018.isna().sum() / df_2018.shape[0]"
   ]
  },
  {
   "cell_type": "code",
   "execution_count": 6,
   "metadata": {},
   "outputs": [
    {
     "data": {
      "text/html": [
       "<div>\n",
       "<style scoped>\n",
       "    .dataframe tbody tr th:only-of-type {\n",
       "        vertical-align: middle;\n",
       "    }\n",
       "\n",
       "    .dataframe tbody tr th {\n",
       "        vertical-align: top;\n",
       "    }\n",
       "\n",
       "    .dataframe thead th {\n",
       "        text-align: right;\n",
       "    }\n",
       "</style>\n",
       "<table border=\"1\" class=\"dataframe\">\n",
       "  <thead>\n",
       "    <tr style=\"text-align: right;\">\n",
       "      <th></th>\n",
       "      <th>duration_sec</th>\n",
       "      <th>start_station_id</th>\n",
       "      <th>start_station_latitude</th>\n",
       "      <th>start_station_longitude</th>\n",
       "      <th>end_station_id</th>\n",
       "      <th>end_station_latitude</th>\n",
       "      <th>end_station_longitude</th>\n",
       "      <th>bike_id</th>\n",
       "      <th>member_birth_year</th>\n",
       "    </tr>\n",
       "  </thead>\n",
       "  <tbody>\n",
       "    <tr>\n",
       "      <th>count</th>\n",
       "      <td>1.863721e+06</td>\n",
       "      <td>1.851950e+06</td>\n",
       "      <td>1.863721e+06</td>\n",
       "      <td>1.863721e+06</td>\n",
       "      <td>1.851950e+06</td>\n",
       "      <td>1.863721e+06</td>\n",
       "      <td>1.863721e+06</td>\n",
       "      <td>1.863721e+06</td>\n",
       "      <td>1.753003e+06</td>\n",
       "    </tr>\n",
       "    <tr>\n",
       "      <th>mean</th>\n",
       "      <td>8.573026e+02</td>\n",
       "      <td>1.196744e+02</td>\n",
       "      <td>3.776678e+01</td>\n",
       "      <td>-1.223492e+02</td>\n",
       "      <td>1.181730e+02</td>\n",
       "      <td>3.776690e+01</td>\n",
       "      <td>-1.223487e+02</td>\n",
       "      <td>2.296851e+03</td>\n",
       "      <td>1.983088e+03</td>\n",
       "    </tr>\n",
       "    <tr>\n",
       "      <th>std</th>\n",
       "      <td>2.370379e+03</td>\n",
       "      <td>1.003976e+02</td>\n",
       "      <td>1.057689e-01</td>\n",
       "      <td>1.654634e-01</td>\n",
       "      <td>1.004403e+02</td>\n",
       "      <td>1.056483e-01</td>\n",
       "      <td>1.650597e-01</td>\n",
       "      <td>1.287733e+03</td>\n",
       "      <td>1.044289e+01</td>\n",
       "    </tr>\n",
       "    <tr>\n",
       "      <th>min</th>\n",
       "      <td>6.100000e+01</td>\n",
       "      <td>3.000000e+00</td>\n",
       "      <td>3.726331e+01</td>\n",
       "      <td>-1.224737e+02</td>\n",
       "      <td>3.000000e+00</td>\n",
       "      <td>3.726331e+01</td>\n",
       "      <td>-1.224737e+02</td>\n",
       "      <td>1.100000e+01</td>\n",
       "      <td>1.881000e+03</td>\n",
       "    </tr>\n",
       "    <tr>\n",
       "      <th>25%</th>\n",
       "      <td>3.500000e+02</td>\n",
       "      <td>3.300000e+01</td>\n",
       "      <td>3.777106e+01</td>\n",
       "      <td>-1.224114e+02</td>\n",
       "      <td>3.000000e+01</td>\n",
       "      <td>3.777106e+01</td>\n",
       "      <td>-1.224094e+02</td>\n",
       "      <td>1.225000e+03</td>\n",
       "      <td>1.978000e+03</td>\n",
       "    </tr>\n",
       "    <tr>\n",
       "      <th>50%</th>\n",
       "      <td>5.560000e+02</td>\n",
       "      <td>8.900000e+01</td>\n",
       "      <td>3.778107e+01</td>\n",
       "      <td>-1.223974e+02</td>\n",
       "      <td>8.800000e+01</td>\n",
       "      <td>3.778127e+01</td>\n",
       "      <td>-1.223971e+02</td>\n",
       "      <td>2.338000e+03</td>\n",
       "      <td>1.985000e+03</td>\n",
       "    </tr>\n",
       "    <tr>\n",
       "      <th>75%</th>\n",
       "      <td>8.720000e+02</td>\n",
       "      <td>1.860000e+02</td>\n",
       "      <td>3.779625e+01</td>\n",
       "      <td>-1.222865e+02</td>\n",
       "      <td>1.830000e+02</td>\n",
       "      <td>3.779728e+01</td>\n",
       "      <td>-1.222894e+02</td>\n",
       "      <td>3.333000e+03</td>\n",
       "      <td>1.991000e+03</td>\n",
       "    </tr>\n",
       "    <tr>\n",
       "      <th>max</th>\n",
       "      <td>8.636600e+04</td>\n",
       "      <td>3.810000e+02</td>\n",
       "      <td>4.551000e+01</td>\n",
       "      <td>-7.357000e+01</td>\n",
       "      <td>3.810000e+02</td>\n",
       "      <td>4.551000e+01</td>\n",
       "      <td>-7.357000e+01</td>\n",
       "      <td>6.234000e+03</td>\n",
       "      <td>2.000000e+03</td>\n",
       "    </tr>\n",
       "  </tbody>\n",
       "</table>\n",
       "</div>"
      ],
      "text/plain": [
       "       duration_sec  start_station_id  start_station_latitude  \\\n",
       "count  1.863721e+06      1.851950e+06            1.863721e+06   \n",
       "mean   8.573026e+02      1.196744e+02            3.776678e+01   \n",
       "std    2.370379e+03      1.003976e+02            1.057689e-01   \n",
       "min    6.100000e+01      3.000000e+00            3.726331e+01   \n",
       "25%    3.500000e+02      3.300000e+01            3.777106e+01   \n",
       "50%    5.560000e+02      8.900000e+01            3.778107e+01   \n",
       "75%    8.720000e+02      1.860000e+02            3.779625e+01   \n",
       "max    8.636600e+04      3.810000e+02            4.551000e+01   \n",
       "\n",
       "       start_station_longitude  end_station_id  end_station_latitude  \\\n",
       "count             1.863721e+06    1.851950e+06          1.863721e+06   \n",
       "mean             -1.223492e+02    1.181730e+02          3.776690e+01   \n",
       "std               1.654634e-01    1.004403e+02          1.056483e-01   \n",
       "min              -1.224737e+02    3.000000e+00          3.726331e+01   \n",
       "25%              -1.224114e+02    3.000000e+01          3.777106e+01   \n",
       "50%              -1.223974e+02    8.800000e+01          3.778127e+01   \n",
       "75%              -1.222865e+02    1.830000e+02          3.779728e+01   \n",
       "max              -7.357000e+01    3.810000e+02          4.551000e+01   \n",
       "\n",
       "       end_station_longitude       bike_id  member_birth_year  \n",
       "count           1.863721e+06  1.863721e+06       1.753003e+06  \n",
       "mean           -1.223487e+02  2.296851e+03       1.983088e+03  \n",
       "std             1.650597e-01  1.287733e+03       1.044289e+01  \n",
       "min            -1.224737e+02  1.100000e+01       1.881000e+03  \n",
       "25%            -1.224094e+02  1.225000e+03       1.978000e+03  \n",
       "50%            -1.223971e+02  2.338000e+03       1.985000e+03  \n",
       "75%            -1.222894e+02  3.333000e+03       1.991000e+03  \n",
       "max            -7.357000e+01  6.234000e+03       2.000000e+03  "
      ]
     },
     "execution_count": 6,
     "metadata": {},
     "output_type": "execute_result"
    }
   ],
   "source": [
    "# check summary statistics\n",
    "df_2018.describe()"
   ]
  },
  {
   "cell_type": "code",
   "execution_count": 7,
   "metadata": {},
   "outputs": [],
   "source": [
    "# load 2017 data into data frames\n",
    "df_2017 = pd.read_csv(\"2017-fordgobike-tripdata.csv\")"
   ]
  },
  {
   "cell_type": "code",
   "execution_count": 8,
   "metadata": {
    "scrolled": true
   },
   "outputs": [
    {
     "data": {
      "text/html": [
       "<div>\n",
       "<style scoped>\n",
       "    .dataframe tbody tr th:only-of-type {\n",
       "        vertical-align: middle;\n",
       "    }\n",
       "\n",
       "    .dataframe tbody tr th {\n",
       "        vertical-align: top;\n",
       "    }\n",
       "\n",
       "    .dataframe thead th {\n",
       "        text-align: right;\n",
       "    }\n",
       "</style>\n",
       "<table border=\"1\" class=\"dataframe\">\n",
       "  <thead>\n",
       "    <tr style=\"text-align: right;\">\n",
       "      <th></th>\n",
       "      <th>duration_sec</th>\n",
       "      <th>start_time</th>\n",
       "      <th>end_time</th>\n",
       "      <th>start_station_id</th>\n",
       "      <th>start_station_name</th>\n",
       "      <th>start_station_latitude</th>\n",
       "      <th>start_station_longitude</th>\n",
       "      <th>end_station_id</th>\n",
       "      <th>end_station_name</th>\n",
       "      <th>end_station_latitude</th>\n",
       "      <th>end_station_longitude</th>\n",
       "      <th>bike_id</th>\n",
       "      <th>user_type</th>\n",
       "      <th>member_birth_year</th>\n",
       "      <th>member_gender</th>\n",
       "    </tr>\n",
       "  </thead>\n",
       "  <tbody>\n",
       "    <tr>\n",
       "      <th>0</th>\n",
       "      <td>80110</td>\n",
       "      <td>2017-12-31 16:57:39.6540</td>\n",
       "      <td>2018-01-01 15:12:50.2450</td>\n",
       "      <td>74</td>\n",
       "      <td>Laguna St at Hayes St</td>\n",
       "      <td>37.776435</td>\n",
       "      <td>-122.426244</td>\n",
       "      <td>43</td>\n",
       "      <td>San Francisco Public Library (Grove St at Hyde...</td>\n",
       "      <td>37.778768</td>\n",
       "      <td>-122.415929</td>\n",
       "      <td>96</td>\n",
       "      <td>Customer</td>\n",
       "      <td>1987.0</td>\n",
       "      <td>Male</td>\n",
       "    </tr>\n",
       "    <tr>\n",
       "      <th>1</th>\n",
       "      <td>78800</td>\n",
       "      <td>2017-12-31 15:56:34.8420</td>\n",
       "      <td>2018-01-01 13:49:55.6170</td>\n",
       "      <td>284</td>\n",
       "      <td>Yerba Buena Center for the Arts (Howard St at ...</td>\n",
       "      <td>37.784872</td>\n",
       "      <td>-122.400876</td>\n",
       "      <td>96</td>\n",
       "      <td>Dolores St at 15th St</td>\n",
       "      <td>37.766210</td>\n",
       "      <td>-122.426614</td>\n",
       "      <td>88</td>\n",
       "      <td>Customer</td>\n",
       "      <td>1965.0</td>\n",
       "      <td>Female</td>\n",
       "    </tr>\n",
       "    <tr>\n",
       "      <th>2</th>\n",
       "      <td>45768</td>\n",
       "      <td>2017-12-31 22:45:48.4110</td>\n",
       "      <td>2018-01-01 11:28:36.8830</td>\n",
       "      <td>245</td>\n",
       "      <td>Downtown Berkeley BART</td>\n",
       "      <td>37.870348</td>\n",
       "      <td>-122.267764</td>\n",
       "      <td>245</td>\n",
       "      <td>Downtown Berkeley BART</td>\n",
       "      <td>37.870348</td>\n",
       "      <td>-122.267764</td>\n",
       "      <td>1094</td>\n",
       "      <td>Customer</td>\n",
       "      <td>NaN</td>\n",
       "      <td>NaN</td>\n",
       "    </tr>\n",
       "    <tr>\n",
       "      <th>3</th>\n",
       "      <td>62172</td>\n",
       "      <td>2017-12-31 17:31:10.6360</td>\n",
       "      <td>2018-01-01 10:47:23.5310</td>\n",
       "      <td>60</td>\n",
       "      <td>8th St at Ringold St</td>\n",
       "      <td>37.774520</td>\n",
       "      <td>-122.409449</td>\n",
       "      <td>5</td>\n",
       "      <td>Powell St BART Station (Market St at 5th St)</td>\n",
       "      <td>37.783899</td>\n",
       "      <td>-122.408445</td>\n",
       "      <td>2831</td>\n",
       "      <td>Customer</td>\n",
       "      <td>NaN</td>\n",
       "      <td>NaN</td>\n",
       "    </tr>\n",
       "    <tr>\n",
       "      <th>4</th>\n",
       "      <td>43603</td>\n",
       "      <td>2017-12-31 14:23:14.0010</td>\n",
       "      <td>2018-01-01 02:29:57.5710</td>\n",
       "      <td>239</td>\n",
       "      <td>Bancroft Way at Telegraph Ave</td>\n",
       "      <td>37.868813</td>\n",
       "      <td>-122.258764</td>\n",
       "      <td>247</td>\n",
       "      <td>Fulton St at Bancroft Way</td>\n",
       "      <td>37.867789</td>\n",
       "      <td>-122.265896</td>\n",
       "      <td>3167</td>\n",
       "      <td>Subscriber</td>\n",
       "      <td>1997.0</td>\n",
       "      <td>Female</td>\n",
       "    </tr>\n",
       "  </tbody>\n",
       "</table>\n",
       "</div>"
      ],
      "text/plain": [
       "   duration_sec                start_time                  end_time  \\\n",
       "0         80110  2017-12-31 16:57:39.6540  2018-01-01 15:12:50.2450   \n",
       "1         78800  2017-12-31 15:56:34.8420  2018-01-01 13:49:55.6170   \n",
       "2         45768  2017-12-31 22:45:48.4110  2018-01-01 11:28:36.8830   \n",
       "3         62172  2017-12-31 17:31:10.6360  2018-01-01 10:47:23.5310   \n",
       "4         43603  2017-12-31 14:23:14.0010  2018-01-01 02:29:57.5710   \n",
       "\n",
       "   start_station_id                                 start_station_name  \\\n",
       "0                74                              Laguna St at Hayes St   \n",
       "1               284  Yerba Buena Center for the Arts (Howard St at ...   \n",
       "2               245                             Downtown Berkeley BART   \n",
       "3                60                               8th St at Ringold St   \n",
       "4               239                      Bancroft Way at Telegraph Ave   \n",
       "\n",
       "   start_station_latitude  start_station_longitude  end_station_id  \\\n",
       "0               37.776435              -122.426244              43   \n",
       "1               37.784872              -122.400876              96   \n",
       "2               37.870348              -122.267764             245   \n",
       "3               37.774520              -122.409449               5   \n",
       "4               37.868813              -122.258764             247   \n",
       "\n",
       "                                    end_station_name  end_station_latitude  \\\n",
       "0  San Francisco Public Library (Grove St at Hyde...             37.778768   \n",
       "1                              Dolores St at 15th St             37.766210   \n",
       "2                             Downtown Berkeley BART             37.870348   \n",
       "3       Powell St BART Station (Market St at 5th St)             37.783899   \n",
       "4                          Fulton St at Bancroft Way             37.867789   \n",
       "\n",
       "   end_station_longitude  bike_id   user_type  member_birth_year member_gender  \n",
       "0            -122.415929       96    Customer             1987.0          Male  \n",
       "1            -122.426614       88    Customer             1965.0        Female  \n",
       "2            -122.267764     1094    Customer                NaN           NaN  \n",
       "3            -122.408445     2831    Customer                NaN           NaN  \n",
       "4            -122.265896     3167  Subscriber             1997.0        Female  "
      ]
     },
     "execution_count": 8,
     "metadata": {},
     "output_type": "execute_result"
    }
   ],
   "source": [
    "# check head\n",
    "df_2017.head()"
   ]
  },
  {
   "cell_type": "code",
   "execution_count": 9,
   "metadata": {
    "scrolled": true
   },
   "outputs": [
    {
     "data": {
      "text/plain": [
       "duration_sec               0.000000\n",
       "start_time                 0.000000\n",
       "end_time                   0.000000\n",
       "start_station_id           0.000000\n",
       "start_station_name         0.000000\n",
       "start_station_latitude     0.000000\n",
       "start_station_longitude    0.000000\n",
       "end_station_id             0.000000\n",
       "end_station_name           0.000000\n",
       "end_station_latitude       0.000000\n",
       "end_station_longitude      0.000000\n",
       "bike_id                    0.000000\n",
       "user_type                  0.000000\n",
       "member_birth_year          0.128037\n",
       "member_gender              0.127885\n",
       "dtype: float64"
      ]
     },
     "execution_count": 9,
     "metadata": {},
     "output_type": "execute_result"
    }
   ],
   "source": [
    "# check na\n",
    "df_2017.isna().sum() / df_2017.shape[0]"
   ]
  },
  {
   "cell_type": "code",
   "execution_count": 10,
   "metadata": {},
   "outputs": [
    {
     "name": "stdout",
     "output_type": "stream",
     "text": [
      "(1863721, 16)\n",
      "(519700, 15)\n"
     ]
    }
   ],
   "source": [
    "# check shape\n",
    "print(df_2018.shape)\n",
    "print(df_2017.shape)"
   ]
  },
  {
   "cell_type": "code",
   "execution_count": 11,
   "metadata": {},
   "outputs": [
    {
     "data": {
      "text/plain": [
       "Index(['duration_sec', 'start_time', 'end_time', 'start_station_id',\n",
       "       'start_station_name', 'start_station_latitude',\n",
       "       'start_station_longitude', 'end_station_id', 'end_station_name',\n",
       "       'end_station_latitude', 'end_station_longitude', 'bike_id', 'user_type',\n",
       "       'member_birth_year', 'member_gender', 'bike_share_for_all_trip'],\n",
       "      dtype='object')"
      ]
     },
     "execution_count": 11,
     "metadata": {},
     "output_type": "execute_result"
    }
   ],
   "source": [
    "# check columns name\n",
    "df_2018.columns"
   ]
  },
  {
   "cell_type": "code",
   "execution_count": 12,
   "metadata": {},
   "outputs": [
    {
     "data": {
      "text/plain": [
       "Index(['duration_sec', 'start_time', 'end_time', 'start_station_id',\n",
       "       'start_station_name', 'start_station_latitude',\n",
       "       'start_station_longitude', 'end_station_id', 'end_station_name',\n",
       "       'end_station_latitude', 'end_station_longitude', 'bike_id', 'user_type',\n",
       "       'member_birth_year', 'member_gender'],\n",
       "      dtype='object')"
      ]
     },
     "execution_count": 12,
     "metadata": {},
     "output_type": "execute_result"
    }
   ],
   "source": [
    "# # check columns name\n",
    "df_2017.columns"
   ]
  },
  {
   "cell_type": "markdown",
   "metadata": {},
   "source": [
    "## What is the structure of your dataset?\n",
    "\n",
    "> Adding the both data sets, there are 2383421 observations in total. A number of columns is 16 for the 2018 data set and 15 for the 2017 data set. Before we start analyzing data, data cleaning is essential.\n",
    "Following points should be checked in the data set.\n",
    "\n",
    "### Quality issue\n",
    "\n",
    "- missing value for start and end station id as well as name\n",
    "- missing gender\n",
    "- missing birth of year\n",
    "- start and end time is string\n",
    "- station id is float\n",
    "- bike id is int\n",
    "- gender is string\n",
    "- bike share service is string\n",
    "- bike share service column is missing in the 2017 data set\n",
    "- user type is string\n",
    "- duration in second is difficult to handle with\n",
    "- member_birth_year is difficult to handle with\n",
    "\n",
    "### Structure issue\n",
    "\n",
    "- merge 2 data set together\n",
    "- start time and end time contains dates and times\n",
    "\n",
    "## Clean\n",
    "### Defition\n",
    "concatinate the 2 data sets and create one data frame. As bike_sare_for_all_trip service seems like a new service from 2018, I will create a new column for the 2017 data set with No."
   ]
  },
  {
   "cell_type": "code",
   "execution_count": 13,
   "metadata": {},
   "outputs": [],
   "source": [
    "# create a new column and fill in with \"No\"\n",
    "df_2017[\"bike_share_for_all_trip\"] = \"No\""
   ]
  },
  {
   "cell_type": "code",
   "execution_count": 14,
   "metadata": {},
   "outputs": [
    {
     "name": "stdout",
     "output_type": "stream",
     "text": [
      "8315200\n",
      "29819536\n",
      "38134736\n"
     ]
    }
   ],
   "source": [
    "# check data set size\n",
    "print(df_2017.size)\n",
    "print(df_2018.size)\n",
    "print(df_2017.size + df_2018.size)"
   ]
  },
  {
   "cell_type": "code",
   "execution_count": 15,
   "metadata": {},
   "outputs": [],
   "source": [
    "# concat\n",
    "df_all = pd.concat([df_2017, df_2018], ignore_index = True)"
   ]
  },
  {
   "cell_type": "markdown",
   "metadata": {},
   "source": [
    "## Test"
   ]
  },
  {
   "cell_type": "code",
   "execution_count": 16,
   "metadata": {},
   "outputs": [
    {
     "data": {
      "text/plain": [
       "38134736"
      ]
     },
     "execution_count": 16,
     "metadata": {},
     "output_type": "execute_result"
    }
   ],
   "source": [
    "# check size\n",
    "df_all.size"
   ]
  },
  {
   "cell_type": "code",
   "execution_count": 17,
   "metadata": {
    "scrolled": true
   },
   "outputs": [
    {
     "data": {
      "text/html": [
       "<div>\n",
       "<style scoped>\n",
       "    .dataframe tbody tr th:only-of-type {\n",
       "        vertical-align: middle;\n",
       "    }\n",
       "\n",
       "    .dataframe tbody tr th {\n",
       "        vertical-align: top;\n",
       "    }\n",
       "\n",
       "    .dataframe thead th {\n",
       "        text-align: right;\n",
       "    }\n",
       "</style>\n",
       "<table border=\"1\" class=\"dataframe\">\n",
       "  <thead>\n",
       "    <tr style=\"text-align: right;\">\n",
       "      <th></th>\n",
       "      <th>duration_sec</th>\n",
       "      <th>start_time</th>\n",
       "      <th>end_time</th>\n",
       "      <th>start_station_id</th>\n",
       "      <th>start_station_name</th>\n",
       "      <th>start_station_latitude</th>\n",
       "      <th>start_station_longitude</th>\n",
       "      <th>end_station_id</th>\n",
       "      <th>end_station_name</th>\n",
       "      <th>end_station_latitude</th>\n",
       "      <th>end_station_longitude</th>\n",
       "      <th>bike_id</th>\n",
       "      <th>user_type</th>\n",
       "      <th>member_birth_year</th>\n",
       "      <th>member_gender</th>\n",
       "      <th>bike_share_for_all_trip</th>\n",
       "    </tr>\n",
       "  </thead>\n",
       "  <tbody>\n",
       "    <tr>\n",
       "      <th>372281</th>\n",
       "      <td>588</td>\n",
       "      <td>2017-09-07 08:48:39.6380</td>\n",
       "      <td>2017-09-07 08:58:28.1030</td>\n",
       "      <td>15.0</td>\n",
       "      <td>San Francisco Ferry Building (Harry Bridges Pl...</td>\n",
       "      <td>37.795392</td>\n",
       "      <td>-122.394203</td>\n",
       "      <td>81.0</td>\n",
       "      <td>Berry St at 4th St</td>\n",
       "      <td>37.775880</td>\n",
       "      <td>-122.393170</td>\n",
       "      <td>2904</td>\n",
       "      <td>Subscriber</td>\n",
       "      <td>1981.0</td>\n",
       "      <td>Male</td>\n",
       "      <td>No</td>\n",
       "    </tr>\n",
       "    <tr>\n",
       "      <th>2088041</th>\n",
       "      <td>322</td>\n",
       "      <td>2018-10-04 21:17:58.9230</td>\n",
       "      <td>2018-10-04 21:23:21.7180</td>\n",
       "      <td>139.0</td>\n",
       "      <td>Garfield Square (25th St at Harrison St)</td>\n",
       "      <td>37.751017</td>\n",
       "      <td>-122.411901</td>\n",
       "      <td>125.0</td>\n",
       "      <td>20th St at Bryant St</td>\n",
       "      <td>37.759200</td>\n",
       "      <td>-122.409851</td>\n",
       "      <td>4318</td>\n",
       "      <td>Subscriber</td>\n",
       "      <td>1988.0</td>\n",
       "      <td>Male</td>\n",
       "      <td>No</td>\n",
       "    </tr>\n",
       "    <tr>\n",
       "      <th>1039512</th>\n",
       "      <td>1697</td>\n",
       "      <td>2018-05-18 10:25:37.0930</td>\n",
       "      <td>2018-05-18 10:53:54.4720</td>\n",
       "      <td>179.0</td>\n",
       "      <td>Telegraph Ave at 27th St</td>\n",
       "      <td>37.816073</td>\n",
       "      <td>-122.267886</td>\n",
       "      <td>240.0</td>\n",
       "      <td>Haste St at Telegraph Ave</td>\n",
       "      <td>37.866043</td>\n",
       "      <td>-122.258804</td>\n",
       "      <td>2181</td>\n",
       "      <td>Customer</td>\n",
       "      <td>1985.0</td>\n",
       "      <td>Male</td>\n",
       "      <td>No</td>\n",
       "    </tr>\n",
       "    <tr>\n",
       "      <th>1898449</th>\n",
       "      <td>1023</td>\n",
       "      <td>2018-09-05 07:38:36.5030</td>\n",
       "      <td>2018-09-05 07:55:40.4560</td>\n",
       "      <td>73.0</td>\n",
       "      <td>Pierce St at Haight St</td>\n",
       "      <td>37.771793</td>\n",
       "      <td>-122.433708</td>\n",
       "      <td>10.0</td>\n",
       "      <td>Washington St at Kearny St</td>\n",
       "      <td>37.795393</td>\n",
       "      <td>-122.404770</td>\n",
       "      <td>2737</td>\n",
       "      <td>Subscriber</td>\n",
       "      <td>1985.0</td>\n",
       "      <td>Male</td>\n",
       "      <td>No</td>\n",
       "    </tr>\n",
       "    <tr>\n",
       "      <th>2189638</th>\n",
       "      <td>694</td>\n",
       "      <td>2018-11-11 19:13:28.2590</td>\n",
       "      <td>2018-11-11 19:25:02.6180</td>\n",
       "      <td>171.0</td>\n",
       "      <td>Rockridge BART Station</td>\n",
       "      <td>37.844279</td>\n",
       "      <td>-122.251900</td>\n",
       "      <td>268.0</td>\n",
       "      <td>Ellsworth St at Russell St</td>\n",
       "      <td>37.857490</td>\n",
       "      <td>-122.261578</td>\n",
       "      <td>1945</td>\n",
       "      <td>Subscriber</td>\n",
       "      <td>1995.0</td>\n",
       "      <td>Male</td>\n",
       "      <td>No</td>\n",
       "    </tr>\n",
       "  </tbody>\n",
       "</table>\n",
       "</div>"
      ],
      "text/plain": [
       "         duration_sec                start_time                  end_time  \\\n",
       "372281            588  2017-09-07 08:48:39.6380  2017-09-07 08:58:28.1030   \n",
       "2088041           322  2018-10-04 21:17:58.9230  2018-10-04 21:23:21.7180   \n",
       "1039512          1697  2018-05-18 10:25:37.0930  2018-05-18 10:53:54.4720   \n",
       "1898449          1023  2018-09-05 07:38:36.5030  2018-09-05 07:55:40.4560   \n",
       "2189638           694  2018-11-11 19:13:28.2590  2018-11-11 19:25:02.6180   \n",
       "\n",
       "         start_station_id                                 start_station_name  \\\n",
       "372281               15.0  San Francisco Ferry Building (Harry Bridges Pl...   \n",
       "2088041             139.0           Garfield Square (25th St at Harrison St)   \n",
       "1039512             179.0                           Telegraph Ave at 27th St   \n",
       "1898449              73.0                             Pierce St at Haight St   \n",
       "2189638             171.0                             Rockridge BART Station   \n",
       "\n",
       "         start_station_latitude  start_station_longitude  end_station_id  \\\n",
       "372281                37.795392              -122.394203            81.0   \n",
       "2088041               37.751017              -122.411901           125.0   \n",
       "1039512               37.816073              -122.267886           240.0   \n",
       "1898449               37.771793              -122.433708            10.0   \n",
       "2189638               37.844279              -122.251900           268.0   \n",
       "\n",
       "                   end_station_name  end_station_latitude  \\\n",
       "372281           Berry St at 4th St             37.775880   \n",
       "2088041        20th St at Bryant St             37.759200   \n",
       "1039512   Haste St at Telegraph Ave             37.866043   \n",
       "1898449  Washington St at Kearny St             37.795393   \n",
       "2189638  Ellsworth St at Russell St             37.857490   \n",
       "\n",
       "         end_station_longitude  bike_id   user_type  member_birth_year  \\\n",
       "372281             -122.393170     2904  Subscriber             1981.0   \n",
       "2088041            -122.409851     4318  Subscriber             1988.0   \n",
       "1039512            -122.258804     2181    Customer             1985.0   \n",
       "1898449            -122.404770     2737  Subscriber             1985.0   \n",
       "2189638            -122.261578     1945  Subscriber             1995.0   \n",
       "\n",
       "        member_gender bike_share_for_all_trip  \n",
       "372281           Male                      No  \n",
       "2088041          Male                      No  \n",
       "1039512          Male                      No  \n",
       "1898449          Male                      No  \n",
       "2189638          Male                      No  "
      ]
     },
     "execution_count": 17,
     "metadata": {},
     "output_type": "execute_result"
    }
   ],
   "source": [
    "# check df\n",
    "df_all.sample(5)"
   ]
  },
  {
   "cell_type": "code",
   "execution_count": 18,
   "metadata": {},
   "outputs": [
    {
     "name": "stdout",
     "output_type": "stream",
     "text": [
      "<class 'pandas.core.frame.DataFrame'>\n",
      "RangeIndex: 2383421 entries, 0 to 2383420\n",
      "Data columns (total 16 columns):\n",
      "duration_sec               int64\n",
      "start_time                 object\n",
      "end_time                   object\n",
      "start_station_id           float64\n",
      "start_station_name         object\n",
      "start_station_latitude     float64\n",
      "start_station_longitude    float64\n",
      "end_station_id             float64\n",
      "end_station_name           object\n",
      "end_station_latitude       float64\n",
      "end_station_longitude      float64\n",
      "bike_id                    int64\n",
      "user_type                  object\n",
      "member_birth_year          float64\n",
      "member_gender              object\n",
      "bike_share_for_all_trip    object\n",
      "dtypes: float64(7), int64(2), object(7)\n",
      "memory usage: 290.9+ MB\n"
     ]
    }
   ],
   "source": [
    "# check info\n",
    "df_all.info()"
   ]
  },
  {
   "cell_type": "code",
   "execution_count": 19,
   "metadata": {},
   "outputs": [
    {
     "data": {
      "text/plain": [
       "0"
      ]
     },
     "execution_count": 19,
     "metadata": {},
     "output_type": "execute_result"
    }
   ],
   "source": [
    "# check duplication\n",
    "df_all.duplicated().sum()"
   ]
  },
  {
   "cell_type": "code",
   "execution_count": 20,
   "metadata": {
    "scrolled": false
   },
   "outputs": [
    {
     "data": {
      "text/plain": [
       "duration_sec               0.000000\n",
       "start_time                 0.000000\n",
       "end_time                   0.000000\n",
       "start_station_id           0.004939\n",
       "start_station_name         0.004939\n",
       "start_station_latitude     0.000000\n",
       "start_station_longitude    0.000000\n",
       "end_station_id             0.004939\n",
       "end_station_name           0.004939\n",
       "end_station_latitude       0.000000\n",
       "end_station_longitude      0.000000\n",
       "bike_id                    0.000000\n",
       "user_type                  0.000000\n",
       "member_birth_year          0.074372\n",
       "member_gender              0.074191\n",
       "bike_share_for_all_trip    0.000000\n",
       "dtype: float64"
      ]
     },
     "execution_count": 20,
     "metadata": {},
     "output_type": "execute_result"
    }
   ],
   "source": [
    "# check na\n",
    "df_all.isna().sum() / df_all.shape[0]"
   ]
  },
  {
   "cell_type": "code",
   "execution_count": 21,
   "metadata": {
    "scrolled": true
   },
   "outputs": [
    {
     "data": {
      "image/png": "[encoded data removed]",
      "text/plain": [
       "<Figure size 432x288 with 1 Axes>"
      ]
     },
     "metadata": {
      "needs_background": "light"
     },
     "output_type": "display_data"
    }
   ],
   "source": [
    "# check hist for any outliers or possible error\n",
    "bins_edge = np.arange(df_all.member_birth_year.min(), df_all.member_birth_year.max() + 10, 10)\n",
    "plt.hist(data = df_all, x = \"member_birth_year\", bins = bins_edge);"
   ]
  },
  {
   "cell_type": "markdown",
   "metadata": {},
   "source": [
    "> It seems like some observations are over 100 years old, which is questionalble. I will think how to handle the age data later."
   ]
  },
  {
   "cell_type": "code",
   "execution_count": 22,
   "metadata": {},
   "outputs": [
    {
     "data": {
      "text/plain": [
       "2062405    2000.0\n",
       "2302496    2000.0\n",
       "1577120    2000.0\n",
       "2298833    2000.0\n",
       "1791982    2000.0\n",
       "Name: member_birth_year, dtype: float64"
      ]
     },
     "execution_count": 22,
     "metadata": {},
     "output_type": "execute_result"
    }
   ],
   "source": [
    "# check youngest\n",
    "df_all.member_birth_year.sort_values(ascending = False).head()"
   ]
  },
  {
   "cell_type": "code",
   "execution_count": 23,
   "metadata": {},
   "outputs": [
    {
     "data": {
      "text/plain": [
       "1402838    1881.0\n",
       "1400283    1881.0\n",
       "1402687    1881.0\n",
       "1402215    1881.0\n",
       "1402346    1881.0\n",
       "Name: member_birth_year, dtype: float64"
      ]
     },
     "execution_count": 23,
     "metadata": {},
     "output_type": "execute_result"
    }
   ],
   "source": [
    "# check oldest\n",
    "df_all.member_birth_year.sort_values(ascending = True).head()"
   ]
  },
  {
   "cell_type": "markdown",
   "metadata": {},
   "source": [
    "## Clean\n",
    "\n",
    "### Definition\n",
    "Missing value for station id/ name, birth of year and gender. I will check if I can fill in."
   ]
  },
  {
   "cell_type": "code",
   "execution_count": 24,
   "metadata": {
    "scrolled": false
   },
   "outputs": [
    {
     "data": {
      "text/html": [
       "<div>\n",
       "<style scoped>\n",
       "    .dataframe tbody tr th:only-of-type {\n",
       "        vertical-align: middle;\n",
       "    }\n",
       "\n",
       "    .dataframe tbody tr th {\n",
       "        vertical-align: top;\n",
       "    }\n",
       "\n",
       "    .dataframe thead th {\n",
       "        text-align: right;\n",
       "    }\n",
       "</style>\n",
       "<table border=\"1\" class=\"dataframe\">\n",
       "  <thead>\n",
       "    <tr style=\"text-align: right;\">\n",
       "      <th></th>\n",
       "      <th>duration_sec</th>\n",
       "      <th>start_time</th>\n",
       "      <th>end_time</th>\n",
       "      <th>start_station_id</th>\n",
       "      <th>start_station_name</th>\n",
       "      <th>start_station_latitude</th>\n",
       "      <th>start_station_longitude</th>\n",
       "      <th>end_station_id</th>\n",
       "      <th>end_station_name</th>\n",
       "      <th>end_station_latitude</th>\n",
       "      <th>end_station_longitude</th>\n",
       "      <th>bike_id</th>\n",
       "      <th>user_type</th>\n",
       "      <th>member_birth_year</th>\n",
       "      <th>member_gender</th>\n",
       "      <th>bike_share_for_all_trip</th>\n",
       "    </tr>\n",
       "  </thead>\n",
       "  <tbody>\n",
       "    <tr>\n",
       "      <th>1531754</th>\n",
       "      <td>91</td>\n",
       "      <td>2018-07-02 14:13:52.6360</td>\n",
       "      <td>2018-07-02 14:15:23.9540</td>\n",
       "      <td>66.0</td>\n",
       "      <td>3rd St at Townsend St</td>\n",
       "      <td>37.778742</td>\n",
       "      <td>-122.392741</td>\n",
       "      <td>50.0</td>\n",
       "      <td>2nd St at Townsend St</td>\n",
       "      <td>37.780526</td>\n",
       "      <td>-122.390288</td>\n",
       "      <td>1147</td>\n",
       "      <td>Subscriber</td>\n",
       "      <td>NaN</td>\n",
       "      <td>NaN</td>\n",
       "      <td>No</td>\n",
       "    </tr>\n",
       "    <tr>\n",
       "      <th>1187754</th>\n",
       "      <td>783</td>\n",
       "      <td>2018-06-24 17:13:50.4530</td>\n",
       "      <td>2018-06-24 17:26:54.2650</td>\n",
       "      <td>6.0</td>\n",
       "      <td>The Embarcadero at Sansome St</td>\n",
       "      <td>37.804770</td>\n",
       "      <td>-122.403234</td>\n",
       "      <td>49.0</td>\n",
       "      <td>S Park St at 3rd St</td>\n",
       "      <td>37.780760</td>\n",
       "      <td>-122.394989</td>\n",
       "      <td>67</td>\n",
       "      <td>Customer</td>\n",
       "      <td>NaN</td>\n",
       "      <td>NaN</td>\n",
       "      <td>No</td>\n",
       "    </tr>\n",
       "    <tr>\n",
       "      <th>469430</th>\n",
       "      <td>478</td>\n",
       "      <td>2017-08-02 14:00:43.1380</td>\n",
       "      <td>2017-08-02 14:08:41.2920</td>\n",
       "      <td>109.0</td>\n",
       "      <td>17th St at Valencia St</td>\n",
       "      <td>37.763316</td>\n",
       "      <td>-122.421904</td>\n",
       "      <td>76.0</td>\n",
       "      <td>McCoppin St at Valencia St</td>\n",
       "      <td>37.771662</td>\n",
       "      <td>-122.422423</td>\n",
       "      <td>900</td>\n",
       "      <td>Customer</td>\n",
       "      <td>NaN</td>\n",
       "      <td>NaN</td>\n",
       "      <td>No</td>\n",
       "    </tr>\n",
       "    <tr>\n",
       "      <th>340865</th>\n",
       "      <td>302</td>\n",
       "      <td>2017-09-16 15:52:45.5770</td>\n",
       "      <td>2017-09-16 15:57:48.4430</td>\n",
       "      <td>194.0</td>\n",
       "      <td>Lakeshore Ave at Trestle Glen Rd</td>\n",
       "      <td>37.811081</td>\n",
       "      <td>-122.243268</td>\n",
       "      <td>197.0</td>\n",
       "      <td>El Embarcadero at Grand Ave</td>\n",
       "      <td>37.808848</td>\n",
       "      <td>-122.249680</td>\n",
       "      <td>484</td>\n",
       "      <td>Customer</td>\n",
       "      <td>NaN</td>\n",
       "      <td>NaN</td>\n",
       "      <td>No</td>\n",
       "    </tr>\n",
       "    <tr>\n",
       "      <th>641364</th>\n",
       "      <td>672</td>\n",
       "      <td>2018-02-21 09:59:18.0590</td>\n",
       "      <td>2018-02-21 10:10:30.7170</td>\n",
       "      <td>70.0</td>\n",
       "      <td>Central Ave at Fell St</td>\n",
       "      <td>37.773311</td>\n",
       "      <td>-122.444293</td>\n",
       "      <td>58.0</td>\n",
       "      <td>Market St at 10th St</td>\n",
       "      <td>37.776619</td>\n",
       "      <td>-122.417385</td>\n",
       "      <td>1591</td>\n",
       "      <td>Subscriber</td>\n",
       "      <td>NaN</td>\n",
       "      <td>NaN</td>\n",
       "      <td>No</td>\n",
       "    </tr>\n",
       "    <tr>\n",
       "      <th>63900</th>\n",
       "      <td>1141</td>\n",
       "      <td>2017-12-07 11:12:55.4010</td>\n",
       "      <td>2017-12-07 11:31:56.8840</td>\n",
       "      <td>81.0</td>\n",
       "      <td>Berry St at 4th St</td>\n",
       "      <td>37.775880</td>\n",
       "      <td>-122.393170</td>\n",
       "      <td>13.0</td>\n",
       "      <td>Commercial St at Montgomery St</td>\n",
       "      <td>37.794231</td>\n",
       "      <td>-122.402923</td>\n",
       "      <td>101</td>\n",
       "      <td>Customer</td>\n",
       "      <td>NaN</td>\n",
       "      <td>NaN</td>\n",
       "      <td>No</td>\n",
       "    </tr>\n",
       "    <tr>\n",
       "      <th>1073067</th>\n",
       "      <td>1868</td>\n",
       "      <td>2018-05-12 15:52:48.8730</td>\n",
       "      <td>2018-05-12 16:23:56.9230</td>\n",
       "      <td>6.0</td>\n",
       "      <td>The Embarcadero at Sansome St</td>\n",
       "      <td>37.804770</td>\n",
       "      <td>-122.403234</td>\n",
       "      <td>37.0</td>\n",
       "      <td>2nd St at Folsom St</td>\n",
       "      <td>37.785000</td>\n",
       "      <td>-122.395936</td>\n",
       "      <td>3911</td>\n",
       "      <td>Customer</td>\n",
       "      <td>NaN</td>\n",
       "      <td>NaN</td>\n",
       "      <td>No</td>\n",
       "    </tr>\n",
       "    <tr>\n",
       "      <th>1124891</th>\n",
       "      <td>3569</td>\n",
       "      <td>2018-05-03 16:51:20.9110</td>\n",
       "      <td>2018-05-03 17:50:50.1150</td>\n",
       "      <td>324.0</td>\n",
       "      <td>Union Square (Powell St at Post St)</td>\n",
       "      <td>37.788300</td>\n",
       "      <td>-122.408531</td>\n",
       "      <td>88.0</td>\n",
       "      <td>11th St at Bryant St</td>\n",
       "      <td>37.770030</td>\n",
       "      <td>-122.411726</td>\n",
       "      <td>3778</td>\n",
       "      <td>Customer</td>\n",
       "      <td>NaN</td>\n",
       "      <td>NaN</td>\n",
       "      <td>No</td>\n",
       "    </tr>\n",
       "    <tr>\n",
       "      <th>575171</th>\n",
       "      <td>151</td>\n",
       "      <td>2018-01-16 09:53:29.4860</td>\n",
       "      <td>2018-01-16 09:56:00.5410</td>\n",
       "      <td>182.0</td>\n",
       "      <td>19th Street BART Station</td>\n",
       "      <td>37.809013</td>\n",
       "      <td>-122.268247</td>\n",
       "      <td>220.0</td>\n",
       "      <td>San Pablo Ave at MLK Jr Way</td>\n",
       "      <td>37.811351</td>\n",
       "      <td>-122.273422</td>\n",
       "      <td>1585</td>\n",
       "      <td>Subscriber</td>\n",
       "      <td>NaN</td>\n",
       "      <td>NaN</td>\n",
       "      <td>No</td>\n",
       "    </tr>\n",
       "    <tr>\n",
       "      <th>378470</th>\n",
       "      <td>4760</td>\n",
       "      <td>2017-09-05 15:28:52.6620</td>\n",
       "      <td>2017-09-05 16:48:12.8590</td>\n",
       "      <td>45.0</td>\n",
       "      <td>5th St at Howard St</td>\n",
       "      <td>37.781752</td>\n",
       "      <td>-122.405127</td>\n",
       "      <td>11.0</td>\n",
       "      <td>Davis St at Jackson St</td>\n",
       "      <td>37.797280</td>\n",
       "      <td>-122.398436</td>\n",
       "      <td>817</td>\n",
       "      <td>Customer</td>\n",
       "      <td>NaN</td>\n",
       "      <td>NaN</td>\n",
       "      <td>No</td>\n",
       "    </tr>\n",
       "  </tbody>\n",
       "</table>\n",
       "</div>"
      ],
      "text/plain": [
       "         duration_sec                start_time                  end_time  \\\n",
       "1531754            91  2018-07-02 14:13:52.6360  2018-07-02 14:15:23.9540   \n",
       "1187754           783  2018-06-24 17:13:50.4530  2018-06-24 17:26:54.2650   \n",
       "469430            478  2017-08-02 14:00:43.1380  2017-08-02 14:08:41.2920   \n",
       "340865            302  2017-09-16 15:52:45.5770  2017-09-16 15:57:48.4430   \n",
       "641364            672  2018-02-21 09:59:18.0590  2018-02-21 10:10:30.7170   \n",
       "63900            1141  2017-12-07 11:12:55.4010  2017-12-07 11:31:56.8840   \n",
       "1073067          1868  2018-05-12 15:52:48.8730  2018-05-12 16:23:56.9230   \n",
       "1124891          3569  2018-05-03 16:51:20.9110  2018-05-03 17:50:50.1150   \n",
       "575171            151  2018-01-16 09:53:29.4860  2018-01-16 09:56:00.5410   \n",
       "378470           4760  2017-09-05 15:28:52.6620  2017-09-05 16:48:12.8590   \n",
       "\n",
       "         start_station_id                   start_station_name  \\\n",
       "1531754              66.0                3rd St at Townsend St   \n",
       "1187754               6.0        The Embarcadero at Sansome St   \n",
       "469430              109.0               17th St at Valencia St   \n",
       "340865              194.0     Lakeshore Ave at Trestle Glen Rd   \n",
       "641364               70.0               Central Ave at Fell St   \n",
       "63900                81.0                   Berry St at 4th St   \n",
       "1073067               6.0        The Embarcadero at Sansome St   \n",
       "1124891             324.0  Union Square (Powell St at Post St)   \n",
       "575171              182.0             19th Street BART Station   \n",
       "378470               45.0                  5th St at Howard St   \n",
       "\n",
       "         start_station_latitude  start_station_longitude  end_station_id  \\\n",
       "1531754               37.778742              -122.392741            50.0   \n",
       "1187754               37.804770              -122.403234            49.0   \n",
       "469430                37.763316              -122.421904            76.0   \n",
       "340865                37.811081              -122.243268           197.0   \n",
       "641364                37.773311              -122.444293            58.0   \n",
       "63900                 37.775880              -122.393170            13.0   \n",
       "1073067               37.804770              -122.403234            37.0   \n",
       "1124891               37.788300              -122.408531            88.0   \n",
       "575171                37.809013              -122.268247           220.0   \n",
       "378470                37.781752              -122.405127            11.0   \n",
       "\n",
       "                       end_station_name  end_station_latitude  \\\n",
       "1531754           2nd St at Townsend St             37.780526   \n",
       "1187754             S Park St at 3rd St             37.780760   \n",
       "469430       McCoppin St at Valencia St             37.771662   \n",
       "340865      El Embarcadero at Grand Ave             37.808848   \n",
       "641364             Market St at 10th St             37.776619   \n",
       "63900    Commercial St at Montgomery St             37.794231   \n",
       "1073067             2nd St at Folsom St             37.785000   \n",
       "1124891            11th St at Bryant St             37.770030   \n",
       "575171      San Pablo Ave at MLK Jr Way             37.811351   \n",
       "378470           Davis St at Jackson St             37.797280   \n",
       "\n",
       "         end_station_longitude  bike_id   user_type  member_birth_year  \\\n",
       "1531754            -122.390288     1147  Subscriber                NaN   \n",
       "1187754            -122.394989       67    Customer                NaN   \n",
       "469430             -122.422423      900    Customer                NaN   \n",
       "340865             -122.249680      484    Customer                NaN   \n",
       "641364             -122.417385     1591  Subscriber                NaN   \n",
       "63900              -122.402923      101    Customer                NaN   \n",
       "1073067            -122.395936     3911    Customer                NaN   \n",
       "1124891            -122.411726     3778    Customer                NaN   \n",
       "575171             -122.273422     1585  Subscriber                NaN   \n",
       "378470             -122.398436      817    Customer                NaN   \n",
       "\n",
       "        member_gender bike_share_for_all_trip  \n",
       "1531754           NaN                      No  \n",
       "1187754           NaN                      No  \n",
       "469430            NaN                      No  \n",
       "340865            NaN                      No  \n",
       "641364            NaN                      No  \n",
       "63900             NaN                      No  \n",
       "1073067           NaN                      No  \n",
       "1124891           NaN                      No  \n",
       "575171            NaN                      No  \n",
       "378470            NaN                      No  "
      ]
     },
     "execution_count": 24,
     "metadata": {},
     "output_type": "execute_result"
    }
   ],
   "source": [
    "# check missing values\n",
    "df_all[df_all.isnull().any(axis = 1)].sample(10)"
   ]
  },
  {
   "cell_type": "code",
   "execution_count": 25,
   "metadata": {},
   "outputs": [
    {
     "data": {
      "text/plain": [
       "count    2.206162e+06\n",
       "mean     1.982537e+03\n",
       "std      1.051346e+01\n",
       "min      1.881000e+03\n",
       "25%      1.977000e+03\n",
       "50%      1.985000e+03\n",
       "75%      1.990000e+03\n",
       "max      2.000000e+03\n",
       "Name: member_birth_year, dtype: float64"
      ]
     },
     "execution_count": 25,
     "metadata": {},
     "output_type": "execute_result"
    }
   ],
   "source": [
    "# check summary statistic\n",
    "df_all.member_birth_year.describe()"
   ]
  },
  {
   "cell_type": "markdown",
   "metadata": {},
   "source": [
    "> As it is difficult to get information, I will leave the missing value for now. A station name may be able to identify with the given latitude and longitude."
   ]
  },
  {
   "cell_type": "code",
   "execution_count": 26,
   "metadata": {},
   "outputs": [
    {
     "data": {
      "text/plain": [
       "start_station_latitude  start_station_longitude\n",
       "37.41                   -121.94                    2104\n",
       "37.40                   -121.94                    1588\n",
       "                        -121.93                    1427\n",
       "37.41                   -121.96                    1240\n",
       "37.40                   -121.92                    1162\n",
       "37.41                   -121.95                     961\n",
       "37.42                   -121.96                     668\n",
       "37.39                   -121.93                     584\n",
       "37.41                   -121.93                     470\n",
       "37.42                   -121.95                     335\n",
       "dtype: int64"
      ]
     },
     "execution_count": 26,
     "metadata": {},
     "output_type": "execute_result"
    }
   ],
   "source": [
    "# find most common combination\n",
    "df_all[df_all.start_station_id.isnull()].groupby([\"start_station_latitude\", \"start_station_longitude\"]).size().sort_values(ascending = False).head(10)"
   ]
  },
  {
   "cell_type": "markdown",
   "metadata": {},
   "source": [
    "https://www.latlong.net/Show-Latitude-Longitude.html & https://member.fordgobike.com/map/\n",
    "37.41 -121.94 = Baypointe Parkway, San Jose, California 95134, United States of America\n",
    "37.40 -121.94 = 3331 N 1st St, San Jose, California 95134, United States\n",
    "37.40 -121.93 = Central San Jose, San Jose, California 95125, United States of America\n",
    "37.41 -121.96 = not found\n",
    "37.40 -121.92 = Epic, 600 Epic Way, San Jose, California 95134, United States of America\n",
    "37.42 -121.96 = not found\n",
    "37.39 -121.93 = 2704 North 1st Street, San Jose, California 95134, United States of America\n",
    "37.41 -121.93 = not found\n",
    "37.42 -121.95 = not found\n",
    "37.38 -121.93 = 2509 Orchard Parkway, San Jose, California 95131, United States of America\n",
    "\n",
    "> there is a tendency that missing station name is data from San Jose. I will leave it as I can us other part of data even though the data is from other city."
   ]
  },
  {
   "cell_type": "markdown",
   "metadata": {},
   "source": [
    "### Clean\n",
    "\n",
    "### Definition\n",
    "\n",
    "Extract start/end year, month, day and time from the start / end time columns"
   ]
  },
  {
   "cell_type": "code",
   "execution_count": 27,
   "metadata": {
    "scrolled": true
   },
   "outputs": [],
   "source": [
    "# convert data type\n",
    "df_all[\"start_time\"] = pd.to_datetime(df_all.start_time)\n",
    "df_all[\"end_time\"] = pd.to_datetime(df_all.end_time)"
   ]
  },
  {
   "cell_type": "code",
   "execution_count": 28,
   "metadata": {},
   "outputs": [],
   "source": [
    "# create new columns\n",
    "df_all[\"start_date\"] = df_all.start_time.dt.date\n",
    "df_all[\"start_hour\"] = df_all.start_time.dt.hour\n",
    "df_all[\"start_min\"] = df_all.start_time.dt.minute\n",
    "\n",
    "df_all[\"end_date\"] = df_all.end_time.dt.date\n",
    "df_all[\"end_hour\"] = df_all.end_time.dt.hour\n",
    "df_all[\"end_min\"] = df_all.end_time.dt.minute"
   ]
  },
  {
   "cell_type": "code",
   "execution_count": 29,
   "metadata": {},
   "outputs": [],
   "source": [
    "# create date columns\n",
    "df_all[\"start_date\"] = pd.to_datetime(df_all.start_date)\n",
    "df_all[\"end_date\"] = pd.to_datetime(df_all.end_date)"
   ]
  },
  {
   "cell_type": "code",
   "execution_count": 30,
   "metadata": {},
   "outputs": [],
   "source": [
    "# create weekday column and convert it to string\n",
    "df_all[\"start_weekday\"] = df_all.start_date.dt.dayofweek\n",
    "df_all[\"start_weekday\"] = df_all[\"start_weekday\"].replace({0:\"Mon\",\n",
    "                                                          1:\"Tue\",\n",
    "                                                          2:\"Wed\",\n",
    "                                                          3:\"Thu\",\n",
    "                                                          4:\"Fri\",\n",
    "                                                          5:\"Sat\",\n",
    "                                                          6:\"Sun\"})"
   ]
  },
  {
   "cell_type": "markdown",
   "metadata": {},
   "source": [
    "### Test"
   ]
  },
  {
   "cell_type": "code",
   "execution_count": 31,
   "metadata": {
    "scrolled": true
   },
   "outputs": [
    {
     "data": {
      "text/html": [
       "<div>\n",
       "<style scoped>\n",
       "    .dataframe tbody tr th:only-of-type {\n",
       "        vertical-align: middle;\n",
       "    }\n",
       "\n",
       "    .dataframe tbody tr th {\n",
       "        vertical-align: top;\n",
       "    }\n",
       "\n",
       "    .dataframe thead th {\n",
       "        text-align: right;\n",
       "    }\n",
       "</style>\n",
       "<table border=\"1\" class=\"dataframe\">\n",
       "  <thead>\n",
       "    <tr style=\"text-align: right;\">\n",
       "      <th></th>\n",
       "      <th>duration_sec</th>\n",
       "      <th>start_time</th>\n",
       "      <th>end_time</th>\n",
       "      <th>start_station_id</th>\n",
       "      <th>start_station_name</th>\n",
       "      <th>start_station_latitude</th>\n",
       "      <th>start_station_longitude</th>\n",
       "      <th>end_station_id</th>\n",
       "      <th>end_station_name</th>\n",
       "      <th>end_station_latitude</th>\n",
       "      <th>...</th>\n",
       "      <th>member_birth_year</th>\n",
       "      <th>member_gender</th>\n",
       "      <th>bike_share_for_all_trip</th>\n",
       "      <th>start_date</th>\n",
       "      <th>start_hour</th>\n",
       "      <th>start_min</th>\n",
       "      <th>end_date</th>\n",
       "      <th>end_hour</th>\n",
       "      <th>end_min</th>\n",
       "      <th>start_weekday</th>\n",
       "    </tr>\n",
       "  </thead>\n",
       "  <tbody>\n",
       "    <tr>\n",
       "      <th>0</th>\n",
       "      <td>80110</td>\n",
       "      <td>2017-12-31 16:57:39.654</td>\n",
       "      <td>2018-01-01 15:12:50.245</td>\n",
       "      <td>74.0</td>\n",
       "      <td>Laguna St at Hayes St</td>\n",
       "      <td>37.776435</td>\n",
       "      <td>-122.426244</td>\n",
       "      <td>43.0</td>\n",
       "      <td>San Francisco Public Library (Grove St at Hyde...</td>\n",
       "      <td>37.778768</td>\n",
       "      <td>...</td>\n",
       "      <td>1987.0</td>\n",
       "      <td>Male</td>\n",
       "      <td>No</td>\n",
       "      <td>2017-12-31</td>\n",
       "      <td>16</td>\n",
       "      <td>57</td>\n",
       "      <td>2018-01-01</td>\n",
       "      <td>15</td>\n",
       "      <td>12</td>\n",
       "      <td>Sun</td>\n",
       "    </tr>\n",
       "    <tr>\n",
       "      <th>1</th>\n",
       "      <td>78800</td>\n",
       "      <td>2017-12-31 15:56:34.842</td>\n",
       "      <td>2018-01-01 13:49:55.617</td>\n",
       "      <td>284.0</td>\n",
       "      <td>Yerba Buena Center for the Arts (Howard St at ...</td>\n",
       "      <td>37.784872</td>\n",
       "      <td>-122.400876</td>\n",
       "      <td>96.0</td>\n",
       "      <td>Dolores St at 15th St</td>\n",
       "      <td>37.766210</td>\n",
       "      <td>...</td>\n",
       "      <td>1965.0</td>\n",
       "      <td>Female</td>\n",
       "      <td>No</td>\n",
       "      <td>2017-12-31</td>\n",
       "      <td>15</td>\n",
       "      <td>56</td>\n",
       "      <td>2018-01-01</td>\n",
       "      <td>13</td>\n",
       "      <td>49</td>\n",
       "      <td>Sun</td>\n",
       "    </tr>\n",
       "    <tr>\n",
       "      <th>2</th>\n",
       "      <td>45768</td>\n",
       "      <td>2017-12-31 22:45:48.411</td>\n",
       "      <td>2018-01-01 11:28:36.883</td>\n",
       "      <td>245.0</td>\n",
       "      <td>Downtown Berkeley BART</td>\n",
       "      <td>37.870348</td>\n",
       "      <td>-122.267764</td>\n",
       "      <td>245.0</td>\n",
       "      <td>Downtown Berkeley BART</td>\n",
       "      <td>37.870348</td>\n",
       "      <td>...</td>\n",
       "      <td>NaN</td>\n",
       "      <td>NaN</td>\n",
       "      <td>No</td>\n",
       "      <td>2017-12-31</td>\n",
       "      <td>22</td>\n",
       "      <td>45</td>\n",
       "      <td>2018-01-01</td>\n",
       "      <td>11</td>\n",
       "      <td>28</td>\n",
       "      <td>Sun</td>\n",
       "    </tr>\n",
       "    <tr>\n",
       "      <th>3</th>\n",
       "      <td>62172</td>\n",
       "      <td>2017-12-31 17:31:10.636</td>\n",
       "      <td>2018-01-01 10:47:23.531</td>\n",
       "      <td>60.0</td>\n",
       "      <td>8th St at Ringold St</td>\n",
       "      <td>37.774520</td>\n",
       "      <td>-122.409449</td>\n",
       "      <td>5.0</td>\n",
       "      <td>Powell St BART Station (Market St at 5th St)</td>\n",
       "      <td>37.783899</td>\n",
       "      <td>...</td>\n",
       "      <td>NaN</td>\n",
       "      <td>NaN</td>\n",
       "      <td>No</td>\n",
       "      <td>2017-12-31</td>\n",
       "      <td>17</td>\n",
       "      <td>31</td>\n",
       "      <td>2018-01-01</td>\n",
       "      <td>10</td>\n",
       "      <td>47</td>\n",
       "      <td>Sun</td>\n",
       "    </tr>\n",
       "    <tr>\n",
       "      <th>4</th>\n",
       "      <td>43603</td>\n",
       "      <td>2017-12-31 14:23:14.001</td>\n",
       "      <td>2018-01-01 02:29:57.571</td>\n",
       "      <td>239.0</td>\n",
       "      <td>Bancroft Way at Telegraph Ave</td>\n",
       "      <td>37.868813</td>\n",
       "      <td>-122.258764</td>\n",
       "      <td>247.0</td>\n",
       "      <td>Fulton St at Bancroft Way</td>\n",
       "      <td>37.867789</td>\n",
       "      <td>...</td>\n",
       "      <td>1997.0</td>\n",
       "      <td>Female</td>\n",
       "      <td>No</td>\n",
       "      <td>2017-12-31</td>\n",
       "      <td>14</td>\n",
       "      <td>23</td>\n",
       "      <td>2018-01-01</td>\n",
       "      <td>2</td>\n",
       "      <td>29</td>\n",
       "      <td>Sun</td>\n",
       "    </tr>\n",
       "  </tbody>\n",
       "</table>\n",
       "<p>5 rows × 23 columns</p>\n",
       "</div>"
      ],
      "text/plain": [
       "   duration_sec              start_time                end_time  \\\n",
       "0         80110 2017-12-31 16:57:39.654 2018-01-01 15:12:50.245   \n",
       "1         78800 2017-12-31 15:56:34.842 2018-01-01 13:49:55.617   \n",
       "2         45768 2017-12-31 22:45:48.411 2018-01-01 11:28:36.883   \n",
       "3         62172 2017-12-31 17:31:10.636 2018-01-01 10:47:23.531   \n",
       "4         43603 2017-12-31 14:23:14.001 2018-01-01 02:29:57.571   \n",
       "\n",
       "   start_station_id                                 start_station_name  \\\n",
       "0              74.0                              Laguna St at Hayes St   \n",
       "1             284.0  Yerba Buena Center for the Arts (Howard St at ...   \n",
       "2             245.0                             Downtown Berkeley BART   \n",
       "3              60.0                               8th St at Ringold St   \n",
       "4             239.0                      Bancroft Way at Telegraph Ave   \n",
       "\n",
       "   start_station_latitude  start_station_longitude  end_station_id  \\\n",
       "0               37.776435              -122.426244            43.0   \n",
       "1               37.784872              -122.400876            96.0   \n",
       "2               37.870348              -122.267764           245.0   \n",
       "3               37.774520              -122.409449             5.0   \n",
       "4               37.868813              -122.258764           247.0   \n",
       "\n",
       "                                    end_station_name  end_station_latitude  \\\n",
       "0  San Francisco Public Library (Grove St at Hyde...             37.778768   \n",
       "1                              Dolores St at 15th St             37.766210   \n",
       "2                             Downtown Berkeley BART             37.870348   \n",
       "3       Powell St BART Station (Market St at 5th St)             37.783899   \n",
       "4                          Fulton St at Bancroft Way             37.867789   \n",
       "\n",
       "       ...       member_birth_year  member_gender bike_share_for_all_trip  \\\n",
       "0      ...                  1987.0           Male                      No   \n",
       "1      ...                  1965.0         Female                      No   \n",
       "2      ...                     NaN            NaN                      No   \n",
       "3      ...                     NaN            NaN                      No   \n",
       "4      ...                  1997.0         Female                      No   \n",
       "\n",
       "   start_date start_hour start_min   end_date  end_hour  end_min start_weekday  \n",
       "0  2017-12-31         16        57 2018-01-01        15       12           Sun  \n",
       "1  2017-12-31         15        56 2018-01-01        13       49           Sun  \n",
       "2  2017-12-31         22        45 2018-01-01        11       28           Sun  \n",
       "3  2017-12-31         17        31 2018-01-01        10       47           Sun  \n",
       "4  2017-12-31         14        23 2018-01-01         2       29           Sun  \n",
       "\n",
       "[5 rows x 23 columns]"
      ]
     },
     "execution_count": 31,
     "metadata": {},
     "output_type": "execute_result"
    }
   ],
   "source": [
    "# check\n",
    "df_all.head()"
   ]
  },
  {
   "cell_type": "markdown",
   "metadata": {},
   "source": [
    "## Clean\n",
    "### Definition\n",
    "\n",
    "Create a new column for usage duration in minitues. Then delet the duration_sec column."
   ]
  },
  {
   "cell_type": "code",
   "execution_count": 32,
   "metadata": {},
   "outputs": [],
   "source": [
    "# create min usage column\n",
    "df_all[\"duration_min\"] = df_all[\"duration_sec\"] / 60"
   ]
  },
  {
   "cell_type": "code",
   "execution_count": 33,
   "metadata": {},
   "outputs": [],
   "source": [
    "# drop min\n",
    "df_all.drop(\"duration_sec\", axis = 1, inplace = True)"
   ]
  },
  {
   "cell_type": "markdown",
   "metadata": {},
   "source": [
    "## Test"
   ]
  },
  {
   "cell_type": "code",
   "execution_count": 34,
   "metadata": {
    "scrolled": true
   },
   "outputs": [
    {
     "data": {
      "text/plain": [
       "Index(['start_time', 'end_time', 'start_station_id', 'start_station_name',\n",
       "       'start_station_latitude', 'start_station_longitude', 'end_station_id',\n",
       "       'end_station_name', 'end_station_latitude', 'end_station_longitude',\n",
       "       'bike_id', 'user_type', 'member_birth_year', 'member_gender',\n",
       "       'bike_share_for_all_trip', 'start_date', 'start_hour', 'start_min',\n",
       "       'end_date', 'end_hour', 'end_min', 'start_weekday', 'duration_min'],\n",
       "      dtype='object')"
      ]
     },
     "execution_count": 34,
     "metadata": {},
     "output_type": "execute_result"
    }
   ],
   "source": [
    "# check\n",
    "df_all.columns"
   ]
  },
  {
   "cell_type": "code",
   "execution_count": 35,
   "metadata": {
    "scrolled": true
   },
   "outputs": [
    {
     "data": {
      "text/plain": [
       "count    2.383421e+06\n",
       "mean     1.516677e+01\n",
       "std      4.406442e+01\n",
       "min      1.016667e+00\n",
       "25%      5.950000e+00\n",
       "50%      9.400000e+00\n",
       "75%      1.475000e+01\n",
       "max      1.439483e+03\n",
       "Name: duration_min, dtype: float64"
      ]
     },
     "execution_count": 35,
     "metadata": {},
     "output_type": "execute_result"
    }
   ],
   "source": [
    "# check summary statistic\n",
    "df_all.duration_min.describe()"
   ]
  },
  {
   "cell_type": "markdown",
   "metadata": {},
   "source": [
    "> Median is about 10 min and the max user rents a bike for about 14 hours. 75% of pepole tend to use a shared bike mostly shorter than 15 min."
   ]
  },
  {
   "cell_type": "markdown",
   "metadata": {},
   "source": [
    "## Clean\n",
    "### Definition\n",
    "\n",
    "Create a new column for age. current year - date of birth"
   ]
  },
  {
   "cell_type": "code",
   "execution_count": 36,
   "metadata": {},
   "outputs": [],
   "source": [
    "# create age column # data is from June 2017 to December 2018\n",
    "df_all[\"age\"] = 2018 - df_all.member_birth_year\n",
    "df_all.drop(\"member_birth_year\", axis = 1, inplace = True)"
   ]
  },
  {
   "cell_type": "markdown",
   "metadata": {},
   "source": [
    "## Test"
   ]
  },
  {
   "cell_type": "code",
   "execution_count": 37,
   "metadata": {},
   "outputs": [
    {
     "name": "stdout",
     "output_type": "stream",
     "text": [
      "<class 'pandas.core.frame.DataFrame'>\n",
      "RangeIndex: 2383421 entries, 0 to 2383420\n",
      "Data columns (total 23 columns):\n",
      "start_time                 datetime64[ns]\n",
      "end_time                   datetime64[ns]\n",
      "start_station_id           float64\n",
      "start_station_name         object\n",
      "start_station_latitude     float64\n",
      "start_station_longitude    float64\n",
      "end_station_id             float64\n",
      "end_station_name           object\n",
      "end_station_latitude       float64\n",
      "end_station_longitude      float64\n",
      "bike_id                    int64\n",
      "user_type                  object\n",
      "member_gender              object\n",
      "bike_share_for_all_trip    object\n",
      "start_date                 datetime64[ns]\n",
      "start_hour                 int64\n",
      "start_min                  int64\n",
      "end_date                   datetime64[ns]\n",
      "end_hour                   int64\n",
      "end_min                    int64\n",
      "start_weekday              object\n",
      "duration_min               float64\n",
      "age                        float64\n",
      "dtypes: datetime64[ns](4), float64(8), int64(5), object(6)\n",
      "memory usage: 418.2+ MB\n"
     ]
    }
   ],
   "source": [
    "# check\n",
    "df_all.info()"
   ]
  },
  {
   "cell_type": "markdown",
   "metadata": {},
   "source": [
    "> Accordning to Ford GObike service agreement, the user must be older than 18 years old."
   ]
  },
  {
   "cell_type": "markdown",
   "metadata": {},
   "source": [
    "## Clean\n",
    "\n",
    "### Definition \n",
    "several columns have wrong data types. Convert them."
   ]
  },
  {
   "cell_type": "code",
   "execution_count": 38,
   "metadata": {},
   "outputs": [],
   "source": [
    "# convert data types\n",
    "df_all[\"start_station_id\"] = df_all[\"start_station_id\"].astype(\"str\")\n",
    "df_all[\"end_station_id\"] = df_all[\"end_station_id\"].astype(\"str\")\n",
    "df_all[\"bike_id\"] = df_all[\"bike_id\"].astype(\"str\")\n",
    "df_all[\"member_gender\"] = df_all[\"member_gender\"].astype(\"category\")\n",
    "df_all[\"bike_share_for_all_trip\"] = df_all[\"bike_share_for_all_trip\"].astype(\"category\")\n",
    "df_all[\"start_weekday\"] = df_all[\"start_weekday\"].astype(\"category\")"
   ]
  },
  {
   "cell_type": "markdown",
   "metadata": {},
   "source": [
    "## Test"
   ]
  },
  {
   "cell_type": "code",
   "execution_count": 39,
   "metadata": {},
   "outputs": [
    {
     "name": "stdout",
     "output_type": "stream",
     "text": [
      "<class 'pandas.core.frame.DataFrame'>\n",
      "RangeIndex: 2383421 entries, 0 to 2383420\n",
      "Data columns (total 23 columns):\n",
      "start_time                 datetime64[ns]\n",
      "end_time                   datetime64[ns]\n",
      "start_station_id           object\n",
      "start_station_name         object\n",
      "start_station_latitude     float64\n",
      "start_station_longitude    float64\n",
      "end_station_id             object\n",
      "end_station_name           object\n",
      "end_station_latitude       float64\n",
      "end_station_longitude      float64\n",
      "bike_id                    object\n",
      "user_type                  object\n",
      "member_gender              category\n",
      "bike_share_for_all_trip    category\n",
      "start_date                 datetime64[ns]\n",
      "start_hour                 int64\n",
      "start_min                  int64\n",
      "end_date                   datetime64[ns]\n",
      "end_hour                   int64\n",
      "end_min                    int64\n",
      "start_weekday              category\n",
      "duration_min               float64\n",
      "age                        float64\n",
      "dtypes: category(3), datetime64[ns](4), float64(6), int64(4), object(6)\n",
      "memory usage: 370.5+ MB\n"
     ]
    }
   ],
   "source": [
    "# check\n",
    "df_all.info()"
   ]
  },
  {
   "cell_type": "code",
   "execution_count": 40,
   "metadata": {
    "scrolled": true
   },
   "outputs": [
    {
     "data": {
      "image/png": "[encoded data removed]",
      "text/plain": [
       "<Figure size 1080x720 with 12 Axes>"
      ]
     },
     "metadata": {
      "needs_background": "light"
     },
     "output_type": "display_data"
    }
   ],
   "source": [
    "# check qucik histogram\n",
    "df_all.hist(figsize=[15, 10]);"
   ]
  },
  {
   "cell_type": "markdown",
   "metadata": {},
   "source": [
    "> Outlier of Latitude and Longitude are the data with a missing station name. The data is from the next city city.<p></p>\n",
    "> Age and start hour can be interesting to look at."
   ]
  },
  {
   "cell_type": "markdown",
   "metadata": {},
   "source": [
    "### What is/are the main feature(s) of interest in your dataset?\n",
    "\n",
    "- What kind of people are using this service?\n",
    "- How long do people use the service per trip?\n",
    "- when is do people use the service?\n",
    "- Where (which) is the most frequently used station?\n",
    "- What kind of changes can be seen over time?\n",
    "\n",
    "### What features in the dataset do you think will help support your investigation into your feature(s) of interest?\n",
    "\n",
    "- Gender, age, bike_share_for_all_trip, user type, start_hour, weekday, month, date \n",
    "> With these variables I should be able to find some insights."
   ]
  },
  {
   "cell_type": "code",
   "execution_count": 63,
   "metadata": {
    "scrolled": true
   },
   "outputs": [
    {
     "data": {
      "image/png": "[encoded data removed]",
      "text/plain": [
       "<Figure size 432x288 with 1 Axes>"
      ]
     },
     "metadata": {},
     "output_type": "display_data"
    }
   ],
   "source": [
    "# plot gender\n",
    "gender = df_all.groupby(\"member_gender\").size()\n",
    "sorted_counts = gender.sort_values()\n",
    "plt.pie(sorted_counts, labels = sorted_counts.index, startangle = 90, counterclock = False, autopct = '%1.1f%%')\n",
    "plt.axis(\"square\");"
   ]
  },
  {
   "cell_type": "code",
   "execution_count": 101,
   "metadata": {},
   "outputs": [
    {
     "data": {
      "image/png": "[encoded data removed]",
      "text/plain": [
       "<Figure size 432x288 with 1 Axes>"
      ]
     },
     "metadata": {
      "needs_background": "light"
     },
     "output_type": "display_data"
    }
   ],
   "source": [
    "# check customer type\n",
    "# get base blue color\n",
    "base_color = sns.color_palette()[0]\n",
    "sns.countplot(data = df_all, x = \"user_type\", color = base_color)\n",
    "\n",
    "# create % annot\n",
    "\n",
    "n_point = df_all.shape[0]\n",
    "cat_counts = df_all[\"user_type\"].value_counts()\n",
    "# get the current x location and label\n",
    "locs, labels = plt.xticks()\n",
    "\n",
    "# loop through each pair of location and label\n",
    "for loc, label in zip(locs, labels):\n",
    "    count = cat_counts[label.get_text()]\n",
    "    pct_string = '{:0.1f}%'.format(100 * count / n_point)\n",
    "    plt.text(loc, count-10, pct_string, ha = 'center', color = 'w')"
   ]
  },
  {
   "cell_type": "code",
   "execution_count": 98,
   "metadata": {},
   "outputs": [
    {
     "data": {
      "text/plain": [
       "<zip at 0x28581757b48>"
      ]
     },
     "execution_count": 98,
     "metadata": {},
     "output_type": "execute_result"
    }
   ],
   "source": []
  },
  {
   "cell_type": "markdown",
   "metadata": {},
   "source": [
    "> more than 70% of user are male. Now I am going to check user age."
   ]
  },
  {
   "cell_type": "code",
   "execution_count": 71,
   "metadata": {
    "scrolled": true
   },
   "outputs": [
    {
     "data": {
      "text/plain": [
       "count    2.206162e+06\n",
       "mean     3.546318e+01\n",
       "std      1.051346e+01\n",
       "min      1.800000e+01\n",
       "25%      2.800000e+01\n",
       "50%      3.300000e+01\n",
       "75%      4.100000e+01\n",
       "max      1.370000e+02\n",
       "Name: age, dtype: float64"
      ]
     },
     "execution_count": 71,
     "metadata": {},
     "output_type": "execute_result"
    }
   ],
   "source": [
    "# age summary statistic\n",
    "df_all.age.describe()"
   ]
  },
  {
   "cell_type": "markdown",
   "metadata": {},
   "source": [
    "> It makes sense that start age is 18, as the Ford GoBike terms and condition insists that user has to be at least 18. However, people with 137 years old are questionable."
   ]
  },
  {
   "cell_type": "code",
   "execution_count": 70,
   "metadata": {
    "scrolled": true
   },
   "outputs": [
    {
     "data": {
      "image/png": "[encoded data removed]",
      "text/plain": [
       "<Figure size 432x288 with 1 Axes>"
      ]
     },
     "metadata": {
      "needs_background": "light"
     },
     "output_type": "display_data"
    }
   ],
   "source": [
    "# plot hist\n",
    "bin_edges = np.arange(18, df_all.age.max() +2, 2)\n",
    "\n",
    "# set lims between 18 years old and 100\n",
    "plt.xlim(18, 100)\n",
    "plt.hist(data = df_all, x = \"age\", bins = bin_edges);"
   ]
  },
  {
   "cell_type": "markdown",
   "metadata": {},
   "source": [
    "> A peak is around at 30 years old."
   ]
  },
  {
   "cell_type": "code",
   "execution_count": null,
   "metadata": {},
   "outputs": [],
   "source": []
  },
  {
   "cell_type": "code",
   "execution_count": null,
   "metadata": {},
   "outputs": [],
   "source": []
  },
  {
   "cell_type": "code",
   "execution_count": null,
   "metadata": {},
   "outputs": [],
   "source": []
  },
  {
   "cell_type": "code",
   "execution_count": 41,
   "metadata": {
    "scrolled": true
   },
   "outputs": [
    {
     "data": {
      "image/png": "[encoded data removed]",
      "text/plain": [
       "<Figure size 360x360 with 1 Axes>"
      ]
     },
     "metadata": {
      "needs_background": "light"
     },
     "output_type": "display_data"
    }
   ],
   "source": [
    "# hist\n",
    "plt.figure(figsize=[5, 5])\n",
    "\n",
    "# 1 min bins\n",
    "bin_edges = np.arange(0, df_all[\"duration_min\"].max() + 1, 1)\n",
    "# focus on data below 100 min\n",
    "plt.xlim(0, 100)\n",
    "plt.hist(data = df_all, x = \"duration_min\", bins = bin_edges);"
   ]
  },
  {
   "cell_type": "markdown",
   "metadata": {},
   "source": [
    "> According to the official website (https://www.fordgobike.com/pricing), their are 4 major types of pricing.\n",
    "<ol>\n",
    "    <li>2 dollar per trip / max 30 min</li>\n",
    "    <li>10 dollar a day / unlimited 30 min ride</li>\n",
    "    <li>15 dollar a month / unlimited 45min trips</li>\n",
    "    <li>Bike Share For All 5 dollar for the first year / 60 min trip</li>"
   ]
  },
  {
   "cell_type": "markdown",
   "metadata": {},
   "source": [
    "> Looking at the price systems, it makes sense that a peak is below 30min and there are some user for around 40 to 45 minutes uses as well as around 60 min uses."
   ]
  },
  {
   "cell_type": "code",
   "execution_count": 42,
   "metadata": {
    "scrolled": false
   },
   "outputs": [
    {
     "data": {
      "text/html": [
       "<div>\n",
       "<style scoped>\n",
       "    .dataframe tbody tr th:only-of-type {\n",
       "        vertical-align: middle;\n",
       "    }\n",
       "\n",
       "    .dataframe tbody tr th {\n",
       "        vertical-align: top;\n",
       "    }\n",
       "\n",
       "    .dataframe thead th {\n",
       "        text-align: right;\n",
       "    }\n",
       "</style>\n",
       "<table border=\"1\" class=\"dataframe\">\n",
       "  <thead>\n",
       "    <tr style=\"text-align: right;\">\n",
       "      <th></th>\n",
       "      <th>start_time</th>\n",
       "      <th>end_time</th>\n",
       "      <th>start_station_id</th>\n",
       "      <th>start_station_name</th>\n",
       "      <th>start_station_latitude</th>\n",
       "      <th>start_station_longitude</th>\n",
       "      <th>end_station_id</th>\n",
       "      <th>end_station_name</th>\n",
       "      <th>end_station_latitude</th>\n",
       "      <th>end_station_longitude</th>\n",
       "      <th>...</th>\n",
       "      <th>bike_share_for_all_trip</th>\n",
       "      <th>start_date</th>\n",
       "      <th>start_hour</th>\n",
       "      <th>start_min</th>\n",
       "      <th>end_date</th>\n",
       "      <th>end_hour</th>\n",
       "      <th>end_min</th>\n",
       "      <th>start_weekday</th>\n",
       "      <th>duration_min</th>\n",
       "      <th>age</th>\n",
       "    </tr>\n",
       "  </thead>\n",
       "  <tbody>\n",
       "    <tr>\n",
       "      <th>2</th>\n",
       "      <td>2017-12-31 22:45:48.411</td>\n",
       "      <td>2018-01-01 11:28:36.883</td>\n",
       "      <td>245.0</td>\n",
       "      <td>Downtown Berkeley BART</td>\n",
       "      <td>37.870348</td>\n",
       "      <td>-122.267764</td>\n",
       "      <td>245.0</td>\n",
       "      <td>Downtown Berkeley BART</td>\n",
       "      <td>37.870348</td>\n",
       "      <td>-122.267764</td>\n",
       "      <td>...</td>\n",
       "      <td>No</td>\n",
       "      <td>2017-12-31</td>\n",
       "      <td>22</td>\n",
       "      <td>45</td>\n",
       "      <td>2018-01-01</td>\n",
       "      <td>11</td>\n",
       "      <td>28</td>\n",
       "      <td>Sun</td>\n",
       "      <td>762.800000</td>\n",
       "      <td>NaN</td>\n",
       "    </tr>\n",
       "    <tr>\n",
       "      <th>3</th>\n",
       "      <td>2017-12-31 17:31:10.636</td>\n",
       "      <td>2018-01-01 10:47:23.531</td>\n",
       "      <td>60.0</td>\n",
       "      <td>8th St at Ringold St</td>\n",
       "      <td>37.774520</td>\n",
       "      <td>-122.409449</td>\n",
       "      <td>5.0</td>\n",
       "      <td>Powell St BART Station (Market St at 5th St)</td>\n",
       "      <td>37.783899</td>\n",
       "      <td>-122.408445</td>\n",
       "      <td>...</td>\n",
       "      <td>No</td>\n",
       "      <td>2017-12-31</td>\n",
       "      <td>17</td>\n",
       "      <td>31</td>\n",
       "      <td>2018-01-01</td>\n",
       "      <td>10</td>\n",
       "      <td>47</td>\n",
       "      <td>Sun</td>\n",
       "      <td>1036.200000</td>\n",
       "      <td>NaN</td>\n",
       "    </tr>\n",
       "    <tr>\n",
       "      <th>5</th>\n",
       "      <td>2017-12-31 22:51:00.918</td>\n",
       "      <td>2018-01-01 01:24:47.166</td>\n",
       "      <td>30.0</td>\n",
       "      <td>San Francisco Caltrain (Townsend St at 4th St)</td>\n",
       "      <td>37.776598</td>\n",
       "      <td>-122.395282</td>\n",
       "      <td>30.0</td>\n",
       "      <td>San Francisco Caltrain (Townsend St at 4th St)</td>\n",
       "      <td>37.776598</td>\n",
       "      <td>-122.395282</td>\n",
       "      <td>...</td>\n",
       "      <td>No</td>\n",
       "      <td>2017-12-31</td>\n",
       "      <td>22</td>\n",
       "      <td>51</td>\n",
       "      <td>2018-01-01</td>\n",
       "      <td>1</td>\n",
       "      <td>24</td>\n",
       "      <td>Sun</td>\n",
       "      <td>153.766667</td>\n",
       "      <td>NaN</td>\n",
       "    </tr>\n",
       "    <tr>\n",
       "      <th>7</th>\n",
       "      <td>2017-12-31 23:46:37.196</td>\n",
       "      <td>2018-01-01 00:58:51.211</td>\n",
       "      <td>284.0</td>\n",
       "      <td>Yerba Buena Center for the Arts (Howard St at ...</td>\n",
       "      <td>37.784872</td>\n",
       "      <td>-122.400876</td>\n",
       "      <td>284.0</td>\n",
       "      <td>Yerba Buena Center for the Arts (Howard St at ...</td>\n",
       "      <td>37.784872</td>\n",
       "      <td>-122.400876</td>\n",
       "      <td>...</td>\n",
       "      <td>No</td>\n",
       "      <td>2017-12-31</td>\n",
       "      <td>23</td>\n",
       "      <td>46</td>\n",
       "      <td>2018-01-01</td>\n",
       "      <td>0</td>\n",
       "      <td>58</td>\n",
       "      <td>Sun</td>\n",
       "      <td>72.233333</td>\n",
       "      <td>NaN</td>\n",
       "    </tr>\n",
       "    <tr>\n",
       "      <th>8</th>\n",
       "      <td>2017-12-31 23:37:07.548</td>\n",
       "      <td>2018-01-01 00:46:18.308</td>\n",
       "      <td>20.0</td>\n",
       "      <td>Mechanics Monument Plaza (Market St at Bush St)</td>\n",
       "      <td>37.791300</td>\n",
       "      <td>-122.399051</td>\n",
       "      <td>20.0</td>\n",
       "      <td>Mechanics Monument Plaza (Market St at Bush St)</td>\n",
       "      <td>37.791300</td>\n",
       "      <td>-122.399051</td>\n",
       "      <td>...</td>\n",
       "      <td>No</td>\n",
       "      <td>2017-12-31</td>\n",
       "      <td>23</td>\n",
       "      <td>37</td>\n",
       "      <td>2018-01-01</td>\n",
       "      <td>0</td>\n",
       "      <td>46</td>\n",
       "      <td>Sun</td>\n",
       "      <td>69.166667</td>\n",
       "      <td>NaN</td>\n",
       "    </tr>\n",
       "  </tbody>\n",
       "</table>\n",
       "<p>5 rows × 23 columns</p>\n",
       "</div>"
      ],
      "text/plain": [
       "               start_time                end_time start_station_id  \\\n",
       "2 2017-12-31 22:45:48.411 2018-01-01 11:28:36.883            245.0   \n",
       "3 2017-12-31 17:31:10.636 2018-01-01 10:47:23.531             60.0   \n",
       "5 2017-12-31 22:51:00.918 2018-01-01 01:24:47.166             30.0   \n",
       "7 2017-12-31 23:46:37.196 2018-01-01 00:58:51.211            284.0   \n",
       "8 2017-12-31 23:37:07.548 2018-01-01 00:46:18.308             20.0   \n",
       "\n",
       "                                  start_station_name  start_station_latitude  \\\n",
       "2                             Downtown Berkeley BART               37.870348   \n",
       "3                               8th St at Ringold St               37.774520   \n",
       "5     San Francisco Caltrain (Townsend St at 4th St)               37.776598   \n",
       "7  Yerba Buena Center for the Arts (Howard St at ...               37.784872   \n",
       "8    Mechanics Monument Plaza (Market St at Bush St)               37.791300   \n",
       "\n",
       "   start_station_longitude end_station_id  \\\n",
       "2              -122.267764          245.0   \n",
       "3              -122.409449            5.0   \n",
       "5              -122.395282           30.0   \n",
       "7              -122.400876          284.0   \n",
       "8              -122.399051           20.0   \n",
       "\n",
       "                                    end_station_name  end_station_latitude  \\\n",
       "2                             Downtown Berkeley BART             37.870348   \n",
       "3       Powell St BART Station (Market St at 5th St)             37.783899   \n",
       "5     San Francisco Caltrain (Townsend St at 4th St)             37.776598   \n",
       "7  Yerba Buena Center for the Arts (Howard St at ...             37.784872   \n",
       "8    Mechanics Monument Plaza (Market St at Bush St)             37.791300   \n",
       "\n",
       "   end_station_longitude ...  bike_share_for_all_trip start_date start_hour  \\\n",
       "2            -122.267764 ...                       No 2017-12-31         22   \n",
       "3            -122.408445 ...                       No 2017-12-31         17   \n",
       "5            -122.395282 ...                       No 2017-12-31         22   \n",
       "7            -122.400876 ...                       No 2017-12-31         23   \n",
       "8            -122.399051 ...                       No 2017-12-31         23   \n",
       "\n",
       "  start_min   end_date  end_hour  end_min start_weekday  duration_min  age  \n",
       "2        45 2018-01-01        11       28           Sun    762.800000  NaN  \n",
       "3        31 2018-01-01        10       47           Sun   1036.200000  NaN  \n",
       "5        51 2018-01-01         1       24           Sun    153.766667  NaN  \n",
       "7        46 2018-01-01         0       58           Sun     72.233333  NaN  \n",
       "8        37 2018-01-01         0       46           Sun     69.166667  NaN  \n",
       "\n",
       "[5 rows x 23 columns]"
      ]
     },
     "execution_count": 42,
     "metadata": {},
     "output_type": "execute_result"
    }
   ],
   "source": [
    "# check missing values\n",
    "df_all[df_all.isnull().any(axis = 1)].head()"
   ]
  },
  {
   "cell_type": "code",
   "execution_count": null,
   "metadata": {},
   "outputs": [],
   "source": []
  },
  {
   "cell_type": "code",
   "execution_count": null,
   "metadata": {},
   "outputs": [],
   "source": []
  }
 ],
 "metadata": {
  "kernelspec": {
   "display_name": "Python 3",
   "language": "python",
   "name": "python3"
  },
  "language_info": {
   "codemirror_mode": {
    "name": "ipython",
    "version": 3
   },
   "file_extension": ".py",
   "mimetype": "text/x-python",
   "name": "python",
   "nbconvert_exporter": "python",
   "pygments_lexer": "ipython3",
   "version": "3.7.1"
  }
 },
 "nbformat": 4,
 "nbformat_minor": 2
}
